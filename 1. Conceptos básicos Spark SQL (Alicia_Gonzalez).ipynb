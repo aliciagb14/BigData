{
 "cells": [
  {
   "cell_type": "markdown",
   "metadata": {
    "application/vnd.databricks.v1+cell": {
     "inputWidgets": {},
     "nuid": "4baf53ca-ab0d-49c7-bf9f-4e1fdba63b9c",
     "showTitle": false,
     "title": ""
    }
   },
   "source": [
    "# Repaso de los conceptos básicos de Spark SQL"
   ]
  },
  {
   "cell_type": "markdown",
   "metadata": {
    "application/vnd.databricks.v1+cell": {
     "inputWidgets": {},
     "nuid": "371eb820-599e-4b73-9d9b-b363e88ef436",
     "showTitle": false,
     "title": ""
    }
   },
   "source": [
    "### Convierte en un Data Frame el siguiente array de tuplas de Python\n",
    "\n",
    "Es una lista de personas:\n",
    "    - Id\n",
    "    - Nombre\n",
    "    - Edad\n",
    "    - Color de ojos"
   ]
  },
  {
   "cell_type": "code",
   "execution_count": 3,
   "metadata": {},
   "outputs": [],
   "source": [
    "import findspark\n",
    "\n",
    "findspark.init()"
   ]
  },
  {
   "cell_type": "code",
   "execution_count": 4,
   "metadata": {},
   "outputs": [],
   "source": [
    "from pyspark.sql import *\n",
    "\n",
    "spark: SparkSession = SparkSession.builder \\\n",
    "    .appName('IntroSparkSQLAlumno') \\\n",
    "    .config('spark.sql.repl.eagerEval.enabled', True) \\\n",
    "    .config('spark.sql.repl.eagerEval.maxNumRows', 10) \\\n",
    "    .getOrCreate()"
   ]
  },
  {
   "cell_type": "code",
   "execution_count": 5,
   "metadata": {
    "application/vnd.databricks.v1+cell": {
     "inputWidgets": {},
     "nuid": "e313397c-3216-49dd-b9ad-3505cd7e002c",
     "showTitle": false,
     "title": ""
    }
   },
   "outputs": [],
   "source": [
    "listaPersonas = [(123, 'Katie', 19, 'brown'), (234, 'Michael', 22, 'green'), (345, 'Simone', 23, 'blue')]"
   ]
  },
  {
   "cell_type": "code",
   "execution_count": 6,
   "metadata": {
    "application/vnd.databricks.v1+cell": {
     "inputWidgets": {},
     "nuid": "7e547f3b-6583-4489-8722-501b9ecd95c9",
     "showTitle": false,
     "title": ""
    }
   },
   "outputs": [
    {
     "data": {
      "text/plain": [
       "list"
      ]
     },
     "execution_count": 6,
     "metadata": {},
     "output_type": "execute_result"
    }
   ],
   "source": [
    "type(listaPersonas)"
   ]
  },
  {
   "cell_type": "markdown",
   "metadata": {
    "application/vnd.databricks.v1+cell": {
     "inputWidgets": {},
     "nuid": "d3a474c9-4072-4887-9304-fa782bf93cf0",
     "showTitle": false,
     "title": ""
    }
   },
   "source": [
    "### 1. Sin crear esquema, infiriendo el esquema"
   ]
  },
  {
   "cell_type": "code",
   "execution_count": 7,
   "metadata": {
    "application/vnd.databricks.v1+cell": {
     "inputWidgets": {},
     "nuid": "b722170a-12c7-4fce-a30a-e925d8baa511",
     "showTitle": false,
     "title": ""
    }
   },
   "outputs": [],
   "source": [
    "dfPersonas = spark.createDataFrame(listaPersonas)"
   ]
  },
  {
   "cell_type": "code",
   "execution_count": 8,
   "metadata": {
    "application/vnd.databricks.v1+cell": {
     "inputWidgets": {},
     "nuid": "3d03ba38-bbbc-4bda-a3cf-08c33da1db98",
     "showTitle": false,
     "title": ""
    }
   },
   "outputs": [
    {
     "name": "stderr",
     "output_type": "stream",
     "text": [
      "                                                                                \r"
     ]
    },
    {
     "name": "stdout",
     "output_type": "stream",
     "text": [
      "+---+-------+---+-----+\n",
      "| _1|     _2| _3|   _4|\n",
      "+---+-------+---+-----+\n",
      "|123|  Katie| 19|brown|\n",
      "|234|Michael| 22|green|\n",
      "|345| Simone| 23| blue|\n",
      "+---+-------+---+-----+\n",
      "\n"
     ]
    }
   ],
   "source": [
    "dfPersonas.show()"
   ]
  },
  {
   "cell_type": "code",
   "execution_count": 11,
   "metadata": {
    "application/vnd.databricks.v1+cell": {
     "inputWidgets": {},
     "nuid": "37f2ec7b-3d20-406a-bb7a-2baf12ba6ea1",
     "showTitle": false,
     "title": ""
    }
   },
   "outputs": [
    {
     "data": {
      "text/html": [
       "<table border='1'>\n",
       "<tr><th>_1</th><th>_2</th><th>_3</th><th>_4</th></tr>\n",
       "<tr><td>123</td><td>Katie</td><td>19</td><td>brown</td></tr>\n",
       "<tr><td>234</td><td>Michael</td><td>22</td><td>green</td></tr>\n",
       "<tr><td>345</td><td>Simone</td><td>23</td><td>blue</td></tr>\n",
       "</table>\n"
      ],
      "text/plain": [
       "DataFrame[_1: bigint, _2: string, _3: bigint, _4: string]"
      ]
     },
     "execution_count": 11,
     "metadata": {},
     "output_type": "execute_result"
    }
   ],
   "source": [
    "dfPersonas"
   ]
  },
  {
   "cell_type": "code",
   "execution_count": 12,
   "metadata": {
    "application/vnd.databricks.v1+cell": {
     "inputWidgets": {},
     "nuid": "06d25b97-91c2-4f75-8d59-dcce4094d4bf",
     "showTitle": false,
     "title": ""
    }
   },
   "outputs": [
    {
     "ename": "AttributeError",
     "evalue": "'DataFrame' object has no attribute 'display'",
     "output_type": "error",
     "traceback": [
      "\u001b[0;31m---------------------------------------------------------------------------\u001b[0m",
      "\u001b[0;31mAttributeError\u001b[0m                            Traceback (most recent call last)",
      "\u001b[0;32m/tmp/ipykernel_1035/268148644.py\u001b[0m in \u001b[0;36m<module>\u001b[0;34m\u001b[0m\n\u001b[0;32m----> 1\u001b[0;31m \u001b[0mdfPersonas\u001b[0m\u001b[0;34m.\u001b[0m\u001b[0mdisplay\u001b[0m\u001b[0;34m(\u001b[0m\u001b[0;34m)\u001b[0m\u001b[0;34m\u001b[0m\u001b[0;34m\u001b[0m\u001b[0m\n\u001b[0m",
      "\u001b[0;32m~/.local/share/spark/python/pyspark/sql/dataframe.py\u001b[0m in \u001b[0;36m__getattr__\u001b[0;34m(self, name)\u001b[0m\n\u001b[1;32m   1641\u001b[0m         \"\"\"\n\u001b[1;32m   1642\u001b[0m         \u001b[0;32mif\u001b[0m \u001b[0mname\u001b[0m \u001b[0;32mnot\u001b[0m \u001b[0;32min\u001b[0m \u001b[0mself\u001b[0m\u001b[0;34m.\u001b[0m\u001b[0mcolumns\u001b[0m\u001b[0;34m:\u001b[0m\u001b[0;34m\u001b[0m\u001b[0;34m\u001b[0m\u001b[0m\n\u001b[0;32m-> 1643\u001b[0;31m             raise AttributeError(\n\u001b[0m\u001b[1;32m   1644\u001b[0m                 \"'%s' object has no attribute '%s'\" % (self.__class__.__name__, name))\n\u001b[1;32m   1645\u001b[0m         \u001b[0mjc\u001b[0m \u001b[0;34m=\u001b[0m \u001b[0mself\u001b[0m\u001b[0;34m.\u001b[0m\u001b[0m_jdf\u001b[0m\u001b[0;34m.\u001b[0m\u001b[0mapply\u001b[0m\u001b[0;34m(\u001b[0m\u001b[0mname\u001b[0m\u001b[0;34m)\u001b[0m\u001b[0;34m\u001b[0m\u001b[0;34m\u001b[0m\u001b[0m\n",
      "\u001b[0;31mAttributeError\u001b[0m: 'DataFrame' object has no attribute 'display'"
     ]
    }
   ],
   "source": [
    "dfPersonas.display()"
   ]
  },
  {
   "cell_type": "markdown",
   "metadata": {
    "application/vnd.databricks.v1+cell": {
     "inputWidgets": {},
     "nuid": "04e52bc2-501f-413e-806b-ffd73341a000",
     "showTitle": false,
     "title": ""
    }
   },
   "source": [
    "### 2. Creando un esquema previamente"
   ]
  },
  {
   "cell_type": "code",
   "execution_count": 16,
   "metadata": {
    "application/vnd.databricks.v1+cell": {
     "inputWidgets": {},
     "nuid": "2e0fd6c9-5610-43b8-aaa4-00b59a31c141",
     "showTitle": false,
     "title": ""
    }
   },
   "outputs": [],
   "source": [
    "from pyspark.sql.types import *"
   ]
  },
  {
   "cell_type": "code",
   "execution_count": 17,
   "metadata": {
    "application/vnd.databricks.v1+cell": {
     "inputWidgets": {},
     "nuid": "431495f1-27fd-4b1f-b6ae-a6053a5b5678",
     "showTitle": false,
     "title": ""
    }
   },
   "outputs": [],
   "source": [
    "esquema = StructType([\n",
    "    StructField(\"id\", LongType(), True),    \n",
    "    StructField(\"nombre\", StringType(), True),\n",
    "    StructField(\"edad\", IntegerType(), True),\n",
    "    StructField(\"colorOjos\", StringType(), True)\n",
    "])"
   ]
  },
  {
   "cell_type": "code",
   "execution_count": 18,
   "metadata": {
    "application/vnd.databricks.v1+cell": {
     "inputWidgets": {},
     "nuid": "c8f5c6a3-716d-4cf1-b46a-bfc9b0d10c67",
     "showTitle": false,
     "title": ""
    }
   },
   "outputs": [],
   "source": [
    "dfPersonasConEsquema = spark.createDataFrame(listaPersonas,esquema)"
   ]
  },
  {
   "cell_type": "code",
   "execution_count": 21,
   "metadata": {
    "application/vnd.databricks.v1+cell": {
     "inputWidgets": {},
     "nuid": "eaa36673-7895-47da-b98f-404f631ebe28",
     "showTitle": false,
     "title": ""
    }
   },
   "outputs": [
    {
     "data": {
      "text/html": [
       "<table border='1'>\n",
       "<tr><th>id</th><th>nombre</th><th>edad</th><th>colorOjos</th></tr>\n",
       "<tr><td>123</td><td>Katie</td><td>19</td><td>brown</td></tr>\n",
       "<tr><td>234</td><td>Michael</td><td>22</td><td>green</td></tr>\n",
       "<tr><td>345</td><td>Simone</td><td>23</td><td>blue</td></tr>\n",
       "</table>\n"
      ],
      "text/plain": [
       "+---+-------+----+---------+\n",
       "| id| nombre|edad|colorOjos|\n",
       "+---+-------+----+---------+\n",
       "|123|  Katie|  19|    brown|\n",
       "|234|Michael|  22|    green|\n",
       "|345| Simone|  23|     blue|\n",
       "+---+-------+----+---------+"
      ]
     },
     "execution_count": 21,
     "metadata": {},
     "output_type": "execute_result"
    }
   ],
   "source": [
    "dfPersonasConEsquema"
   ]
  },
  {
   "cell_type": "markdown",
   "metadata": {
    "application/vnd.databricks.v1+cell": {
     "inputWidgets": {},
     "nuid": "2b257456-1735-46f6-b92e-e5a9c327acaa",
     "showTitle": false,
     "title": ""
    }
   },
   "source": [
    "### 3. Modifica ahora el esquema anterior y el array inicial para añadir una columna que almacene el peso de la persona en formato Integer"
   ]
  },
  {
   "cell_type": "code",
   "execution_count": 32,
   "metadata": {
    "application/vnd.databricks.v1+cell": {
     "inputWidgets": {},
     "nuid": "f05d7aa3-a5fb-4d1a-b604-a66ce5bdddb4",
     "showTitle": false,
     "title": ""
    }
   },
   "outputs": [],
   "source": [
    "esquemaPeso = StructType([\n",
    "    StructField(\"id\", LongType(), True),    \n",
    "    StructField(\"nombre\", StringType(), True),\n",
    "    StructField(\"edad\", ByteType(), True),\n",
    "    StructField(\"colorOjos\", StringType(), True),\n",
    "    StructField(\"peso\", IntegerType(), True)\n",
    "])"
   ]
  },
  {
   "cell_type": "code",
   "execution_count": 33,
   "metadata": {
    "application/vnd.databricks.v1+cell": {
     "inputWidgets": {},
     "nuid": "4ae4028d-bf50-4d71-8843-9ed5f2b23443",
     "showTitle": false,
     "title": ""
    }
   },
   "outputs": [],
   "source": [
    "listaPersonasPeso = [(123, 'Katie', 19, 'brown', 50), (234, 'Michael', 22, 'green', 68), (345, 'Simone', 23, 'blue', 90)]"
   ]
  },
  {
   "cell_type": "code",
   "execution_count": 34,
   "metadata": {
    "application/vnd.databricks.v1+cell": {
     "inputWidgets": {},
     "nuid": "8a98be30-341a-4e10-931d-fa5983b675d4",
     "showTitle": false,
     "title": ""
    }
   },
   "outputs": [],
   "source": [
    "dfPersonasPeso = spark.createDataFrame(listaPersonasPeso,esquemaPeso)\n",
    "#Llama al método read de la sesión de spark para crear el Data Frame como hicimos previamente"
   ]
  },
  {
   "cell_type": "code",
   "execution_count": 27,
   "metadata": {
    "application/vnd.databricks.v1+cell": {
     "inputWidgets": {},
     "nuid": "fc6e051c-7375-4534-ab2c-26a294b5770e",
     "showTitle": false,
     "title": ""
    }
   },
   "outputs": [
    {
     "name": "stdout",
     "output_type": "stream",
     "text": [
      "+---+-------+----+---------+----+\n",
      "| id| nombre|edad|colorOjos|peso|\n",
      "+---+-------+----+---------+----+\n",
      "|123|  Katie|  19|    brown|  50|\n",
      "|234|Michael|  22|    green|  68|\n",
      "|345| Simone|  23|     blue|  90|\n",
      "+---+-------+----+---------+----+\n",
      "\n",
      "root\n",
      " |-- id: long (nullable = true)\n",
      " |-- nombre: string (nullable = true)\n",
      " |-- edad: byte (nullable = true)\n",
      " |-- colorOjos: string (nullable = true)\n",
      " |-- peso: integer (nullable = true)\n",
      "\n"
     ]
    }
   ],
   "source": [
    "dfPersonasPeso.show()\n",
    "dfPersonasPeso.printSchema()"
   ]
  },
  {
   "cell_type": "markdown",
   "metadata": {
    "application/vnd.databricks.v1+cell": {
     "inputWidgets": {},
     "nuid": "016759b7-7036-4dc7-9b41-864f7fb91349",
     "showTitle": false,
     "title": ""
    }
   },
   "source": [
    "### Consultas básicas"
   ]
  },
  {
   "cell_type": "markdown",
   "metadata": {
    "application/vnd.databricks.v1+cell": {
     "inputWidgets": {},
     "nuid": "7da16cd7-d2d2-4d0e-8b1f-de4db9caf120",
     "showTitle": false,
     "title": ""
    }
   },
   "source": [
    "### 1. Selecciona las columnas nombre y peso"
   ]
  },
  {
   "cell_type": "code",
   "execution_count": 36,
   "metadata": {
    "application/vnd.databricks.v1+cell": {
     "inputWidgets": {},
     "nuid": "37c80737-a7da-41c9-a03b-5a4c716b602c",
     "showTitle": false,
     "title": ""
    }
   },
   "outputs": [
    {
     "data": {
      "text/html": [
       "<table border='1'>\n",
       "<tr><th>nombre</th><th>peso</th></tr>\n",
       "<tr><td>Katie</td><td>50</td></tr>\n",
       "<tr><td>Michael</td><td>68</td></tr>\n",
       "<tr><td>Simone</td><td>90</td></tr>\n",
       "</table>\n"
      ],
      "text/plain": [
       "+-------+----+\n",
       "| nombre|peso|\n",
       "+-------+----+\n",
       "|  Katie|  50|\n",
       "|Michael|  68|\n",
       "| Simone|  90|\n",
       "+-------+----+"
      ]
     },
     "execution_count": 36,
     "metadata": {},
     "output_type": "execute_result"
    }
   ],
   "source": [
    "#Pista: Usa el método select(columna1, columna2,...) sobre el Data Frame dfPersonasPeso\n",
    "#dfPersonasPeso.select('Nombre', 'Peso')\n",
    "dfPersonasPeso.select(dfPersonasPeso['nombre'],dfPersonasPeso['peso'])"
   ]
  },
  {
   "cell_type": "markdown",
   "metadata": {
    "application/vnd.databricks.v1+cell": {
     "inputWidgets": {},
     "nuid": "94b98ab9-13e5-4a66-99bb-59b47618f119",
     "showTitle": false,
     "title": ""
    }
   },
   "source": [
    "### 2. Selecciona las columnas 2 y 5"
   ]
  },
  {
   "cell_type": "code",
   "execution_count": 39,
   "metadata": {
    "application/vnd.databricks.v1+cell": {
     "inputWidgets": {},
     "nuid": "e146837e-b299-4fa3-aa3d-12fe9bb1b6e5",
     "showTitle": false,
     "title": ""
    }
   },
   "outputs": [
    {
     "data": {
      "text/html": [
       "<table border='1'>\n",
       "<tr><th>nombre</th><th>peso</th></tr>\n",
       "<tr><td>Katie</td><td>50</td></tr>\n",
       "<tr><td>Michael</td><td>68</td></tr>\n",
       "<tr><td>Simone</td><td>90</td></tr>\n",
       "</table>\n"
      ],
      "text/plain": [
       "+-------+----+\n",
       "| nombre|peso|\n",
       "+-------+----+\n",
       "|  Katie|  50|\n",
       "|Michael|  68|\n",
       "| Simone|  90|\n",
       "+-------+----+"
      ]
     },
     "execution_count": 39,
     "metadata": {},
     "output_type": "execute_result"
    }
   ],
   "source": [
    "dfPersonasPeso.select(dfPersonasPeso[1],dfPersonasPeso[4])"
   ]
  },
  {
   "cell_type": "markdown",
   "metadata": {
    "application/vnd.databricks.v1+cell": {
     "inputWidgets": {},
     "nuid": "c9f00e4c-2400-4b36-8482-bfe09f627ede",
     "showTitle": false,
     "title": ""
    }
   },
   "source": [
    "### 3. Renombra la columna peso a pesoKg"
   ]
  },
  {
   "cell_type": "code",
   "execution_count": 44,
   "metadata": {
    "application/vnd.databricks.v1+cell": {
     "inputWidgets": {},
     "nuid": "25bb29e6-5e0e-4476-91ff-3d6fe4d06ecc",
     "showTitle": false,
     "title": ""
    }
   },
   "outputs": [
    {
     "data": {
      "text/html": [
       "<table border='1'>\n",
       "<tr><th>id</th><th>nombre</th><th>edad</th><th>colorOjos</th><th>pesoKg</th></tr>\n",
       "<tr><td>123</td><td>Katie</td><td>19</td><td>brown</td><td>50</td></tr>\n",
       "<tr><td>234</td><td>Michael</td><td>22</td><td>green</td><td>68</td></tr>\n",
       "<tr><td>345</td><td>Simone</td><td>23</td><td>blue</td><td>90</td></tr>\n",
       "</table>\n"
      ],
      "text/plain": [
       "+---+-------+----+---------+------+\n",
       "| id| nombre|edad|colorOjos|pesoKg|\n",
       "+---+-------+----+---------+------+\n",
       "|123|  Katie|  19|    brown|    50|\n",
       "|234|Michael|  22|    green|    68|\n",
       "|345| Simone|  23|     blue|    90|\n",
       "+---+-------+----+---------+------+"
      ]
     },
     "execution_count": 44,
     "metadata": {},
     "output_type": "execute_result"
    }
   ],
   "source": [
    "#Pista: Usa el método withColumnRenamed(nombreCol, nuevoNombreCol)\n",
    "dfPersonasPeso.withColumnRenamed('peso', 'pesoKg')"
   ]
  },
  {
   "cell_type": "markdown",
   "metadata": {
    "application/vnd.databricks.v1+cell": {
     "inputWidgets": {},
     "nuid": "5b7bffbc-42ee-49b5-9d8b-45b2031a3977",
     "showTitle": false,
     "title": ""
    }
   },
   "source": [
    "### 4. Añade una columna \"edadXpeso\" resultado de multiplicar la edad por el peso"
   ]
  },
  {
   "cell_type": "code",
   "execution_count": 47,
   "metadata": {
    "application/vnd.databricks.v1+cell": {
     "inputWidgets": {},
     "nuid": "d2fe52b7-3b44-40a0-97f3-f6fe66a9a06b",
     "showTitle": false,
     "title": ""
    }
   },
   "outputs": [],
   "source": [
    "from pyspark.sql.functions import expr"
   ]
  },
  {
   "cell_type": "code",
   "execution_count": 48,
   "metadata": {
    "application/vnd.databricks.v1+cell": {
     "inputWidgets": {},
     "nuid": "5a9fb008-cb16-431d-83d1-df6ef7aa1ee4",
     "showTitle": false,
     "title": ""
    }
   },
   "outputs": [
    {
     "data": {
      "text/html": [
       "<table border='1'>\n",
       "<tr><th>id</th><th>nombre</th><th>edad</th><th>colorOjos</th><th>peso</th><th>edadXPeso</th></tr>\n",
       "<tr><td>123</td><td>Katie</td><td>19</td><td>brown</td><td>50</td><td>950</td></tr>\n",
       "<tr><td>234</td><td>Michael</td><td>22</td><td>green</td><td>68</td><td>1496</td></tr>\n",
       "<tr><td>345</td><td>Simone</td><td>23</td><td>blue</td><td>90</td><td>2070</td></tr>\n",
       "</table>\n"
      ],
      "text/plain": [
       "+---+-------+----+---------+----+---------+\n",
       "| id| nombre|edad|colorOjos|peso|edadXPeso|\n",
       "+---+-------+----+---------+----+---------+\n",
       "|123|  Katie|  19|    brown|  50|      950|\n",
       "|234|Michael|  22|    green|  68|     1496|\n",
       "|345| Simone|  23|     blue|  90|     2070|\n",
       "+---+-------+----+---------+----+---------+"
      ]
     },
     "execution_count": 48,
     "metadata": {},
     "output_type": "execute_result"
    }
   ],
   "source": [
    "dfPersonasPeso.withColumn('edadXPeso',expr('edad * peso'))"
   ]
  },
  {
   "cell_type": "markdown",
   "metadata": {
    "application/vnd.databricks.v1+cell": {
     "inputWidgets": {},
     "nuid": "db330024-bbdc-4d9b-baa0-832fc880e070",
     "showTitle": false,
     "title": ""
    }
   },
   "source": [
    "### 5. Obten las personas que tengan más de 20 años"
   ]
  },
  {
   "cell_type": "code",
   "execution_count": 49,
   "metadata": {
    "application/vnd.databricks.v1+cell": {
     "inputWidgets": {},
     "nuid": "8eda25c1-e642-4466-8d43-8b103e167c15",
     "showTitle": false,
     "title": ""
    }
   },
   "outputs": [
    {
     "data": {
      "text/html": [
       "<table border='1'>\n",
       "<tr><th>id</th><th>nombre</th><th>edad</th><th>colorOjos</th><th>peso</th></tr>\n",
       "<tr><td>234</td><td>Michael</td><td>22</td><td>green</td><td>68</td></tr>\n",
       "<tr><td>345</td><td>Simone</td><td>23</td><td>blue</td><td>90</td></tr>\n",
       "</table>\n"
      ],
      "text/plain": [
       "+---+-------+----+---------+----+\n",
       "| id| nombre|edad|colorOjos|peso|\n",
       "+---+-------+----+---------+----+\n",
       "|234|Michael|  22|    green|  68|\n",
       "|345| Simone|  23|     blue|  90|\n",
       "+---+-------+----+---------+----+"
      ]
     },
     "execution_count": 49,
     "metadata": {},
     "output_type": "execute_result"
    }
   ],
   "source": [
    "#Pista: Usa el método where (o filter, que es equivalente) para indicar la condición de dfPersonasPeso['edad'] > 20\n",
    "dfPersonasPeso.filter(dfPersonasPeso['edad'] > 20)"
   ]
  },
  {
   "cell_type": "markdown",
   "metadata": {
    "application/vnd.databricks.v1+cell": {
     "inputWidgets": {},
     "nuid": "095eea75-ce63-411c-a2f1-6504c046034d",
     "showTitle": false,
     "title": ""
    }
   },
   "source": [
    "### 6. Genera un nuevo Data Frame que solo tenga las personas que tengan más de 20 años y pesen menos de 90 Kg"
   ]
  },
  {
   "cell_type": "code",
   "execution_count": 56,
   "metadata": {
    "application/vnd.databricks.v1+cell": {
     "inputWidgets": {},
     "nuid": "d9254c2f-e895-4799-87c1-ec23149dffd4",
     "showTitle": false,
     "title": ""
    }
   },
   "outputs": [
    {
     "data": {
      "text/html": [
       "<table border='1'>\n",
       "<tr><th>id</th><th>nombre</th><th>edad</th><th>colorOjos</th><th>peso</th></tr>\n",
       "<tr><td>234</td><td>Michael</td><td>22</td><td>green</td><td>68</td></tr>\n",
       "</table>\n"
      ],
      "text/plain": [
       "+---+-------+----+---------+----+\n",
       "| id| nombre|edad|colorOjos|peso|\n",
       "+---+-------+----+---------+----+\n",
       "|234|Michael|  22|    green|  68|\n",
       "+---+-------+----+---------+----+"
      ]
     },
     "execution_count": 56,
     "metadata": {},
     "output_type": "execute_result"
    }
   ],
   "source": [
    "#Pista: Para que sea más sencillo encadena dos filtros Where, uno por condición\n",
    "dfRes = dfPersonasPeso.select(\"*\").filter(dfPersonasPeso['edad'] > 20).filter(dfPersonasPeso['peso'] < 90)\n",
    "dfRes"
   ]
  },
  {
   "cell_type": "markdown",
   "metadata": {
    "application/vnd.databricks.v1+cell": {
     "inputWidgets": {},
     "nuid": "488ed99b-443a-435f-b197-ee0e4057c80d",
     "showTitle": false,
     "title": ""
    }
   },
   "source": [
    "### 7. Ordena dfPersonasPeso por Edad"
   ]
  },
  {
   "cell_type": "code",
   "execution_count": 57,
   "metadata": {
    "application/vnd.databricks.v1+cell": {
     "inputWidgets": {},
     "nuid": "5db69966-cfd3-4bd8-91cc-ca361c3499c7",
     "showTitle": false,
     "title": ""
    }
   },
   "outputs": [
    {
     "data": {
      "text/html": [
       "<table border='1'>\n",
       "<tr><th>id</th><th>nombre</th><th>edad</th><th>colorOjos</th><th>peso</th></tr>\n",
       "<tr><td>123</td><td>Katie</td><td>19</td><td>brown</td><td>50</td></tr>\n",
       "<tr><td>234</td><td>Michael</td><td>22</td><td>green</td><td>68</td></tr>\n",
       "<tr><td>345</td><td>Simone</td><td>23</td><td>blue</td><td>90</td></tr>\n",
       "</table>\n"
      ],
      "text/plain": [
       "+---+-------+----+---------+----+\n",
       "| id| nombre|edad|colorOjos|peso|\n",
       "+---+-------+----+---------+----+\n",
       "|123|  Katie|  19|    brown|  50|\n",
       "|234|Michael|  22|    green|  68|\n",
       "|345| Simone|  23|     blue|  90|\n",
       "+---+-------+----+---------+----+"
      ]
     },
     "execution_count": 57,
     "metadata": {},
     "output_type": "execute_result"
    }
   ],
   "source": [
    "#Pista: Usa el método df.orderBy(col)\n",
    "dfPersonasPeso.orderBy('edad')"
   ]
  },
  {
   "cell_type": "markdown",
   "metadata": {
    "application/vnd.databricks.v1+cell": {
     "inputWidgets": {},
     "nuid": "94bc3cb3-f250-4eef-b604-15e760228b74",
     "showTitle": false,
     "title": ""
    }
   },
   "source": [
    "### 8. Ordena dfPersonasPeso por Edad descendente"
   ]
  },
  {
   "cell_type": "code",
   "execution_count": 58,
   "metadata": {
    "application/vnd.databricks.v1+cell": {
     "inputWidgets": {},
     "nuid": "8190609b-f0ed-40f9-9ca0-58b470be71fd",
     "showTitle": false,
     "title": ""
    }
   },
   "outputs": [
    {
     "data": {
      "text/html": [
       "<table border='1'>\n",
       "<tr><th>id</th><th>nombre</th><th>edad</th><th>colorOjos</th><th>peso</th></tr>\n",
       "<tr><td>345</td><td>Simone</td><td>23</td><td>blue</td><td>90</td></tr>\n",
       "<tr><td>234</td><td>Michael</td><td>22</td><td>green</td><td>68</td></tr>\n",
       "<tr><td>123</td><td>Katie</td><td>19</td><td>brown</td><td>50</td></tr>\n",
       "</table>\n"
      ],
      "text/plain": [
       "+---+-------+----+---------+----+\n",
       "| id| nombre|edad|colorOjos|peso|\n",
       "+---+-------+----+---------+----+\n",
       "|345| Simone|  23|     blue|  90|\n",
       "|234|Michael|  22|    green|  68|\n",
       "|123|  Katie|  19|    brown|  50|\n",
       "+---+-------+----+---------+----+"
      ]
     },
     "execution_count": 58,
     "metadata": {},
     "output_type": "execute_result"
    }
   ],
   "source": [
    "#Pista: Sobre la columna a ordenar aplica el método .desc()\n",
    "dfPersonasPeso.orderBy('edad', ascending = False)"
   ]
  },
  {
   "cell_type": "markdown",
   "metadata": {
    "application/vnd.databricks.v1+cell": {
     "inputWidgets": {},
     "nuid": "8996225b-98fe-467c-8e54-036f39ef0d0b",
     "showTitle": false,
     "title": ""
    }
   },
   "source": [
    "### 9. Crea un segundo Data Frame con el mismo esquema que dfPersonasPeso y con 3 personas nuevas + 1 con los mismos datos que otra que exista en listaPersonasPeso (copia ese elemento en la nueva lista)."
   ]
  },
  {
   "cell_type": "code",
   "execution_count": 66,
   "metadata": {
    "application/vnd.databricks.v1+cell": {
     "inputWidgets": {},
     "nuid": "3e2e3724-bd94-47cd-bbe6-cbd4999f809b",
     "showTitle": false,
     "title": ""
    }
   },
   "outputs": [],
   "source": [
    "listaPersonasPeso2 = [(235, 'Sheila', 19, 'brown', 51), (734, 'Alicia', 22, 'green', 68), (145, 'Pedro', 23, 'blue', 84), (123, 'Katie', 19, 'brown', 50)]"
   ]
  },
  {
   "cell_type": "code",
   "execution_count": 67,
   "metadata": {
    "application/vnd.databricks.v1+cell": {
     "inputWidgets": {},
     "nuid": "830cf21b-97cc-4442-a603-76dcc45cee71",
     "showTitle": false,
     "title": ""
    }
   },
   "outputs": [],
   "source": [
    "dfPersonasPeso2 = spark.createDataFrame(listaPersonasPeso2,esquemaPeso)\n",
    "#crear el data frame a partir de la lista anterior y el esquema"
   ]
  },
  {
   "cell_type": "code",
   "execution_count": 68,
   "metadata": {
    "application/vnd.databricks.v1+cell": {
     "inputWidgets": {},
     "nuid": "9253e1f4-5aaf-4c21-8b37-f707e8228d7c",
     "showTitle": false,
     "title": ""
    }
   },
   "outputs": [
    {
     "data": {
      "text/html": [
       "<table border='1'>\n",
       "<tr><th>id</th><th>nombre</th><th>edad</th><th>colorOjos</th><th>peso</th></tr>\n",
       "<tr><td>235</td><td>Sheila</td><td>19</td><td>brown</td><td>51</td></tr>\n",
       "<tr><td>734</td><td>Alicia</td><td>22</td><td>green</td><td>68</td></tr>\n",
       "<tr><td>145</td><td>Pedro</td><td>23</td><td>blue</td><td>84</td></tr>\n",
       "<tr><td>123</td><td>Katie</td><td>19</td><td>brown</td><td>50</td></tr>\n",
       "</table>\n"
      ],
      "text/plain": [
       "+---+------+----+---------+----+\n",
       "| id|nombre|edad|colorOjos|peso|\n",
       "+---+------+----+---------+----+\n",
       "|235|Sheila|  19|    brown|  51|\n",
       "|734|Alicia|  22|    green|  68|\n",
       "|145| Pedro|  23|     blue|  84|\n",
       "|123| Katie|  19|    brown|  50|\n",
       "+---+------+----+---------+----+"
      ]
     },
     "execution_count": 68,
     "metadata": {},
     "output_type": "execute_result"
    }
   ],
   "source": [
    "dfPersonasPeso2"
   ]
  },
  {
   "cell_type": "markdown",
   "metadata": {
    "application/vnd.databricks.v1+cell": {
     "inputWidgets": {},
     "nuid": "8cc0bda9-6ba9-4a02-829d-72b010b79f18",
     "showTitle": false,
     "title": ""
    }
   },
   "source": [
    "### 10. Concatena los datos (filas) de dfPersonasPeso2 con dfPersonasPeso generando un nuevo DF con nombre dfMasPersonas y que incluya todas las filas de ambos"
   ]
  },
  {
   "cell_type": "code",
   "execution_count": 69,
   "metadata": {
    "application/vnd.databricks.v1+cell": {
     "inputWidgets": {},
     "nuid": "bc4841c5-d030-416a-966d-caa631668b56",
     "showTitle": false,
     "title": ""
    }
   },
   "outputs": [],
   "source": [
    "dfMasPersonas = dfPersonasPeso2.union(dfPersonasPeso)"
   ]
  },
  {
   "cell_type": "code",
   "execution_count": 70,
   "metadata": {
    "application/vnd.databricks.v1+cell": {
     "inputWidgets": {},
     "nuid": "0571c2e8-750b-48bc-b63f-c2c99963efcd",
     "showTitle": false,
     "title": ""
    }
   },
   "outputs": [
    {
     "data": {
      "text/html": [
       "<table border='1'>\n",
       "<tr><th>id</th><th>nombre</th><th>edad</th><th>colorOjos</th><th>peso</th></tr>\n",
       "<tr><td>235</td><td>Sheila</td><td>19</td><td>brown</td><td>51</td></tr>\n",
       "<tr><td>734</td><td>Alicia</td><td>22</td><td>green</td><td>68</td></tr>\n",
       "<tr><td>145</td><td>Pedro</td><td>23</td><td>blue</td><td>84</td></tr>\n",
       "<tr><td>123</td><td>Katie</td><td>19</td><td>brown</td><td>50</td></tr>\n",
       "<tr><td>123</td><td>Katie</td><td>19</td><td>brown</td><td>50</td></tr>\n",
       "<tr><td>234</td><td>Michael</td><td>22</td><td>green</td><td>68</td></tr>\n",
       "<tr><td>345</td><td>Simone</td><td>23</td><td>blue</td><td>90</td></tr>\n",
       "</table>\n"
      ],
      "text/plain": [
       "+---+-------+----+---------+----+\n",
       "| id| nombre|edad|colorOjos|peso|\n",
       "+---+-------+----+---------+----+\n",
       "|235| Sheila|  19|    brown|  51|\n",
       "|734| Alicia|  22|    green|  68|\n",
       "|145|  Pedro|  23|     blue|  84|\n",
       "|123|  Katie|  19|    brown|  50|\n",
       "|123|  Katie|  19|    brown|  50|\n",
       "|234|Michael|  22|    green|  68|\n",
       "|345| Simone|  23|     blue|  90|\n",
       "+---+-------+----+---------+----+"
      ]
     },
     "execution_count": 70,
     "metadata": {},
     "output_type": "execute_result"
    }
   ],
   "source": [
    "dfMasPersonas"
   ]
  },
  {
   "cell_type": "markdown",
   "metadata": {
    "application/vnd.databricks.v1+cell": {
     "inputWidgets": {},
     "nuid": "5ae513e2-e3fe-41ac-a290-17bbb9d145b5",
     "showTitle": false,
     "title": ""
    }
   },
   "source": [
    "### 11. Haz un recuento de filas del DF dfMasPersonas aplicando df.count()"
   ]
  },
  {
   "cell_type": "code",
   "execution_count": 71,
   "metadata": {
    "application/vnd.databricks.v1+cell": {
     "inputWidgets": {},
     "nuid": "7e79db5a-1e67-466e-b2ea-1b84012b0357",
     "showTitle": false,
     "title": ""
    }
   },
   "outputs": [
    {
     "data": {
      "text/plain": [
       "7"
      ]
     },
     "execution_count": 71,
     "metadata": {},
     "output_type": "execute_result"
    }
   ],
   "source": [
    "#Pista, usa el método count()\n",
    "dfMasPersonas.count()"
   ]
  },
  {
   "cell_type": "markdown",
   "metadata": {
    "application/vnd.databricks.v1+cell": {
     "inputWidgets": {},
     "nuid": "c2f9b216-c71d-42e2-81bf-4b3f5da91995",
     "showTitle": false,
     "title": ""
    }
   },
   "source": [
    "### 12. Elimina del dfPersonasPeso las filas duplicadas y genera un nuevo DF dfSinDup"
   ]
  },
  {
   "cell_type": "code",
   "execution_count": 74,
   "metadata": {
    "application/vnd.databricks.v1+cell": {
     "inputWidgets": {},
     "nuid": "b4b4bd3a-2299-427d-b2c2-e12d2b38ab2e",
     "showTitle": false,
     "title": ""
    }
   },
   "outputs": [
    {
     "name": "stderr",
     "output_type": "stream",
     "text": [
      "                                                                                \r"
     ]
    },
    {
     "data": {
      "text/html": [
       "<table border='1'>\n",
       "<tr><th>id</th><th>nombre</th><th>edad</th><th>colorOjos</th><th>peso</th></tr>\n",
       "<tr><td>123</td><td>Katie</td><td>19</td><td>brown</td><td>50</td></tr>\n",
       "<tr><td>234</td><td>Michael</td><td>22</td><td>green</td><td>68</td></tr>\n",
       "<tr><td>145</td><td>Pedro</td><td>23</td><td>blue</td><td>84</td></tr>\n",
       "<tr><td>235</td><td>Sheila</td><td>19</td><td>brown</td><td>51</td></tr>\n",
       "<tr><td>345</td><td>Simone</td><td>23</td><td>blue</td><td>90</td></tr>\n",
       "<tr><td>734</td><td>Alicia</td><td>22</td><td>green</td><td>68</td></tr>\n",
       "</table>\n"
      ],
      "text/plain": [
       "+---+-------+----+---------+----+\n",
       "| id| nombre|edad|colorOjos|peso|\n",
       "+---+-------+----+---------+----+\n",
       "|123|  Katie|  19|    brown|  50|\n",
       "|234|Michael|  22|    green|  68|\n",
       "|145|  Pedro|  23|     blue|  84|\n",
       "|235| Sheila|  19|    brown|  51|\n",
       "|345| Simone|  23|     blue|  90|\n",
       "|734| Alicia|  22|    green|  68|\n",
       "+---+-------+----+---------+----+"
      ]
     },
     "execution_count": 74,
     "metadata": {},
     "output_type": "execute_result"
    }
   ],
   "source": [
    "#Pista, usa el método distinct()\n",
    "dfSinDup = dfMasPersonas.distinct()\n",
    "dfSinDup"
   ]
  },
  {
   "cell_type": "markdown",
   "metadata": {
    "application/vnd.databricks.v1+cell": {
     "inputWidgets": {},
     "nuid": "40d4b778-ff17-4815-9f60-9c63db143713",
     "showTitle": false,
     "title": ""
    }
   },
   "source": [
    "### 13. Haz un recuento de filas del DF dfSinDup aplicando df.count()"
   ]
  },
  {
   "cell_type": "code",
   "execution_count": 75,
   "metadata": {
    "application/vnd.databricks.v1+cell": {
     "inputWidgets": {},
     "nuid": "fe91560a-dc27-467c-a9c0-85b4d9495ed3",
     "showTitle": false,
     "title": ""
    }
   },
   "outputs": [
    {
     "name": "stderr",
     "output_type": "stream",
     "text": [
      "                                                                                \r"
     ]
    },
    {
     "data": {
      "text/plain": [
       "6"
      ]
     },
     "execution_count": 75,
     "metadata": {},
     "output_type": "execute_result"
    }
   ],
   "source": [
    "dfSinDup.count()"
   ]
  },
  {
   "cell_type": "code",
   "execution_count": 0,
   "metadata": {
    "application/vnd.databricks.v1+cell": {
     "inputWidgets": {},
     "nuid": "b54e31e5-76ce-40bf-a98d-7ecaa25f21ba",
     "showTitle": false,
     "title": ""
    }
   },
   "outputs": [],
   "source": []
  }
 ],
 "metadata": {
  "application/vnd.databricks.v1+notebook": {
   "dashboards": [],
   "language": "python",
   "notebookMetadata": {
    "pythonIndentUnit": 2
   },
   "notebookName": "1. Conceptos básicos Spark SQL (Alumno)",
   "notebookOrigID": 2352519357066148,
   "widgets": {}
  },
  "kernelspec": {
   "display_name": "Python 3 (ipykernel)",
   "language": "python",
   "name": "python3"
  },
  "language_info": {
   "codemirror_mode": {
    "name": "ipython",
    "version": 3
   },
   "file_extension": ".py",
   "mimetype": "text/x-python",
   "name": "python",
   "nbconvert_exporter": "python",
   "pygments_lexer": "ipython3",
   "version": "3.9.7"
  }
 },
 "nbformat": 4,
 "nbformat_minor": 1
}
