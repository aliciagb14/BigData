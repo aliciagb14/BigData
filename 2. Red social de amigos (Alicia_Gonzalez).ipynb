{
 "cells": [
  {
   "cell_type": "markdown",
   "metadata": {
    "application/vnd.databricks.v1+cell": {
     "inputWidgets": {},
     "nuid": "c8bb36ab-0abb-4c5c-95d3-b988a5d287e6",
     "showTitle": false,
     "title": ""
    }
   },
   "source": [
    "# Ejercicios Spark SQL"
   ]
  },
  {
   "cell_type": "markdown",
   "metadata": {
    "application/vnd.databricks.v1+cell": {
     "inputWidgets": {},
     "nuid": "fb2cf106-97f0-4e81-bfda-22a4b99ca93f",
     "showTitle": false,
     "title": ""
    }
   },
   "source": [
    "### Ejercicio 1.1 Red social de amigos\n",
    "\n",
    "En este ejercicio repasaremos los conceptos básicos de Spark usando un conjunto de datos relativos a una red social de amigos. El archivo tiene una estructura como la siguiente, puedes abrirlo para echarle un vistazo con un editor de texto (ej. Bloc de notas, Notepad ++)\n",
    "\n",
    "| id                     | nombre    | edad             | numero de amigos |\n",
    "|------------------------|-----------|------------------|------------------|\n",
    "| ...                    | ...       | ...              | ...              |\n",
    "\n",
    "1. Copia el archivo amigosRedSocial.csv en una carpeta RedSocial en la carpeta donde estés subidos los datos\n",
    "\n",
    "2. Crea un Data Frame con PySpark usando el método read para formato csv y usando el esquema custom proporcionado.\n",
    "\n",
    "3. Realiza las consultas que se indican en celdas posteriores usando funciones de la libreria de Data Frame (SQL Like)"
   ]
  },
  {
   "cell_type": "code",
   "execution_count": 6,
   "metadata": {},
   "outputs": [],
   "source": [
    "#Importa las librerias necesarias y crear la sesión de Spark\n",
    "import findspark\n",
    "\n",
    "findspark.init()"
   ]
  },
  {
   "cell_type": "code",
   "execution_count": 7,
   "metadata": {},
   "outputs": [],
   "source": [
    "from pyspark.sql import *\n",
    "\n",
    "spark: SparkSession = SparkSession.builder \\\n",
    "    .appName('IntroSparkSQLAlumno') \\\n",
    "    .config('spark.sql.repl.eagerEval.enabled', True) \\\n",
    "    .config('spark.sql.repl.eagerEval.maxNumRows', 10) \\\n",
    "    .getOrCreate()"
   ]
  },
  {
   "cell_type": "code",
   "execution_count": 47,
   "metadata": {
    "application/vnd.databricks.v1+cell": {
     "inputWidgets": {},
     "nuid": "c2795328-7500-401e-a394-9aacc754ada0",
     "showTitle": false,
     "title": ""
    }
   },
   "outputs": [],
   "source": [
    "#sustituye tu usuario o lo que corresponda de la ruta siguiente según hayas cargado el archivo\n",
    "path = \"file:////home/training/Datos/RedSocial/\""
   ]
  },
  {
   "cell_type": "markdown",
   "metadata": {
    "application/vnd.databricks.v1+cell": {
     "inputWidgets": {},
     "nuid": "0a4db7d7-9279-46d3-bdce-c8296793259c",
     "showTitle": false,
     "title": ""
    }
   },
   "source": [
    "El archivo origen no tiene cabecera ni incluye metadatos sobre su esquema. En estos casos si no indicamos esquema las columnas se crearán con los nombre _c0, _c1, _c2,... Igualmente los tipos de datos se crearan por defecto a String , o bien se tratará de inferir el tipo en el caso de usar la opción de inferir esquema.\n",
    "\n",
    "- Prueba a leer el archivo y crear una variable denominada peopleSinEsquema para el nuevo Data Frame. Pista: spark.read.format(\"csv\").load(path)"
   ]
  },
  {
   "cell_type": "code",
   "execution_count": 48,
   "metadata": {
    "application/vnd.databricks.v1+cell": {
     "inputWidgets": {},
     "nuid": "604b0116-c5f9-4ee5-8250-f594a544f88b",
     "showTitle": false,
     "title": ""
    }
   },
   "outputs": [],
   "source": [
    "peopleSinEsquema = spark.read.format('csv').option(\"header\", \"true\").load(path + \"amigosRedSocial.csv\")"
   ]
  },
  {
   "cell_type": "code",
   "execution_count": 49,
   "metadata": {
    "application/vnd.databricks.v1+cell": {
     "inputWidgets": {},
     "nuid": "57e76133-ddf4-411d-a362-7b2abf14dcc8",
     "showTitle": false,
     "title": ""
    }
   },
   "outputs": [
    {
     "data": {
      "text/html": [
       "<table border='1'>\n",
       "<tr><th>0</th><th>Will</th><th>33</th><th>385</th></tr>\n",
       "<tr><td>1</td><td>Jean-Luc</td><td>26</td><td>2</td></tr>\n",
       "<tr><td>2</td><td>Hugh</td><td>55</td><td>221</td></tr>\n",
       "<tr><td>3</td><td>Deanna</td><td>40</td><td>465</td></tr>\n",
       "<tr><td>4</td><td>Quark</td><td>68</td><td>21</td></tr>\n",
       "<tr><td>5</td><td>Weyoun</td><td>59</td><td>318</td></tr>\n",
       "<tr><td>6</td><td>Gowron</td><td>37</td><td>220</td></tr>\n",
       "<tr><td>7</td><td>Will</td><td>54</td><td>307</td></tr>\n",
       "<tr><td>8</td><td>Jadzia</td><td>38</td><td>380</td></tr>\n",
       "<tr><td>9</td><td>Hugh</td><td>27</td><td>181</td></tr>\n",
       "<tr><td>10</td><td>Odo</td><td>53</td><td>191</td></tr>\n",
       "</table>\n",
       "only showing top 10 rows\n"
      ],
      "text/plain": [
       "+---+--------+---+---+\n",
       "|  0|    Will| 33|385|\n",
       "+---+--------+---+---+\n",
       "|  1|Jean-Luc| 26|  2|\n",
       "|  2|    Hugh| 55|221|\n",
       "|  3|  Deanna| 40|465|\n",
       "|  4|   Quark| 68| 21|\n",
       "|  5|  Weyoun| 59|318|\n",
       "|  6|  Gowron| 37|220|\n",
       "|  7|    Will| 54|307|\n",
       "|  8|  Jadzia| 38|380|\n",
       "|  9|    Hugh| 27|181|\n",
       "| 10|     Odo| 53|191|\n",
       "+---+--------+---+---+\n",
       "only showing top 10 rows"
      ]
     },
     "execution_count": 49,
     "metadata": {},
     "output_type": "execute_result"
    }
   ],
   "source": [
    "peopleSinEsquema"
   ]
  },
  {
   "cell_type": "markdown",
   "metadata": {
    "application/vnd.databricks.v1+cell": {
     "inputWidgets": {},
     "nuid": "e4b57c49-bb73-49d8-a84a-b96651b715d9",
     "showTitle": false,
     "title": ""
    }
   },
   "source": [
    "Imprime el esquema del Data Frame para comprobarlo"
   ]
  },
  {
   "cell_type": "code",
   "execution_count": 50,
   "metadata": {
    "application/vnd.databricks.v1+cell": {
     "inputWidgets": {},
     "nuid": "62004848-8b09-4ecd-b0da-d4e2c4e52a57",
     "showTitle": false,
     "title": ""
    }
   },
   "outputs": [
    {
     "name": "stdout",
     "output_type": "stream",
     "text": [
      "root\n",
      " |-- 0: string (nullable = true)\n",
      " |-- Will: string (nullable = true)\n",
      " |-- 33: string (nullable = true)\n",
      " |-- 385: string (nullable = true)\n",
      "\n"
     ]
    }
   ],
   "source": [
    "peopleSinEsquema.printSchema()"
   ]
  },
  {
   "cell_type": "markdown",
   "metadata": {
    "application/vnd.databricks.v1+cell": {
     "inputWidgets": {},
     "nuid": "316f9ee6-fcd3-4ca0-b015-bdee19a3672b",
     "showTitle": false,
     "title": ""
    }
   },
   "source": [
    "Las columnas y tipos de datos se podrían renombrar y cambiar de tipo con las funciones Data Frame. Sin embargo, una forma más cómoda de tratar estos archivos es definir un esquema previamente a su carga."
   ]
  },
  {
   "cell_type": "code",
   "execution_count": 51,
   "metadata": {
    "application/vnd.databricks.v1+cell": {
     "inputWidgets": {},
     "nuid": "c535975b-220b-4baf-883f-e64698a3ddbb",
     "showTitle": false,
     "title": ""
    }
   },
   "outputs": [],
   "source": [
    "from pyspark.sql.types import StructType,StructField, StringType, IntegerType\n",
    "\n",
    "customSchema = StructType([ \\\n",
    "  StructField(\"ID\", IntegerType(), True), \\\n",
    "  StructField(\"name\", StringType(), True), \\\n",
    "  StructField(\"age\", IntegerType(), True), \\\n",
    "  StructField(\"numFriends\", IntegerType(), True) \\\n",
    "                          ])"
   ]
  },
  {
   "cell_type": "markdown",
   "metadata": {
    "application/vnd.databricks.v1+cell": {
     "inputWidgets": {},
     "nuid": "d50769c6-9763-4af4-86ad-ce692765da4a",
     "showTitle": false,
     "title": ""
    }
   },
   "source": [
    "Podemos aplicar el esquema anterior usando la opción del método read: \n",
    "**.schema(customSchema)**"
   ]
  },
  {
   "cell_type": "code",
   "execution_count": 52,
   "metadata": {
    "application/vnd.databricks.v1+cell": {
     "inputWidgets": {},
     "nuid": "27993c4e-0f56-4130-9e87-eb573b257380",
     "showTitle": false,
     "title": ""
    }
   },
   "outputs": [],
   "source": [
    "people = spark.read.format(\"csv\") \\\n",
    "      .schema(customSchema) \\\n",
    "      .load(path)"
   ]
  },
  {
   "cell_type": "code",
   "execution_count": 53,
   "metadata": {
    "application/vnd.databricks.v1+cell": {
     "inputWidgets": {},
     "nuid": "e9f5d3ad-47bb-479e-8e2e-4a69deeac1e5",
     "showTitle": false,
     "title": ""
    }
   },
   "outputs": [
    {
     "data": {
      "text/html": [
       "<table border='1'>\n",
       "<tr><th>ID</th><th>name</th><th>age</th><th>numFriends</th></tr>\n",
       "<tr><td>0</td><td>Will</td><td>33</td><td>385</td></tr>\n",
       "<tr><td>1</td><td>Jean-Luc</td><td>26</td><td>2</td></tr>\n",
       "<tr><td>2</td><td>Hugh</td><td>55</td><td>221</td></tr>\n",
       "<tr><td>3</td><td>Deanna</td><td>40</td><td>465</td></tr>\n",
       "<tr><td>4</td><td>Quark</td><td>68</td><td>21</td></tr>\n",
       "<tr><td>5</td><td>Weyoun</td><td>59</td><td>318</td></tr>\n",
       "<tr><td>6</td><td>Gowron</td><td>37</td><td>220</td></tr>\n",
       "<tr><td>7</td><td>Will</td><td>54</td><td>307</td></tr>\n",
       "<tr><td>8</td><td>Jadzia</td><td>38</td><td>380</td></tr>\n",
       "<tr><td>9</td><td>Hugh</td><td>27</td><td>181</td></tr>\n",
       "</table>\n",
       "only showing top 10 rows\n"
      ],
      "text/plain": [
       "+---+--------+---+----------+\n",
       "| ID|    name|age|numFriends|\n",
       "+---+--------+---+----------+\n",
       "|  0|    Will| 33|       385|\n",
       "|  1|Jean-Luc| 26|         2|\n",
       "|  2|    Hugh| 55|       221|\n",
       "|  3|  Deanna| 40|       465|\n",
       "|  4|   Quark| 68|        21|\n",
       "|  5|  Weyoun| 59|       318|\n",
       "|  6|  Gowron| 37|       220|\n",
       "|  7|    Will| 54|       307|\n",
       "|  8|  Jadzia| 38|       380|\n",
       "|  9|    Hugh| 27|       181|\n",
       "+---+--------+---+----------+\n",
       "only showing top 10 rows"
      ]
     },
     "execution_count": 53,
     "metadata": {},
     "output_type": "execute_result"
    }
   ],
   "source": [
    "people"
   ]
  },
  {
   "cell_type": "markdown",
   "metadata": {
    "application/vnd.databricks.v1+cell": {
     "inputWidgets": {},
     "nuid": "d8b0703b-5c37-4373-8052-db84efb42fa7",
     "showTitle": false,
     "title": ""
    }
   },
   "source": [
    "- Imprimir el esquema del DF obtenido en el punto anterior."
   ]
  },
  {
   "cell_type": "code",
   "execution_count": 54,
   "metadata": {
    "application/vnd.databricks.v1+cell": {
     "inputWidgets": {},
     "nuid": "d72cdff5-8db9-4829-b4e3-3a57e2b2c461",
     "showTitle": false,
     "title": ""
    }
   },
   "outputs": [
    {
     "name": "stdout",
     "output_type": "stream",
     "text": [
      "root\n",
      " |-- ID: integer (nullable = true)\n",
      " |-- name: string (nullable = true)\n",
      " |-- age: integer (nullable = true)\n",
      " |-- numFriends: integer (nullable = true)\n",
      "\n"
     ]
    }
   ],
   "source": [
    "people.printSchema()"
   ]
  },
  {
   "cell_type": "markdown",
   "metadata": {
    "application/vnd.databricks.v1+cell": {
     "inputWidgets": {},
     "nuid": "e348c592-a952-4b33-8dc7-dbef104bed6a",
     "showTitle": false,
     "title": ""
    }
   },
   "source": [
    "- Selecionar los nombres de las personas y su edad"
   ]
  },
  {
   "cell_type": "code",
   "execution_count": 55,
   "metadata": {
    "application/vnd.databricks.v1+cell": {
     "inputWidgets": {},
     "nuid": "13bca4d4-1eb4-4274-bf5e-0dd52b945ff7",
     "showTitle": false,
     "title": ""
    }
   },
   "outputs": [
    {
     "data": {
      "text/html": [
       "<table border='1'>\n",
       "<tr><th>name</th><th>age</th></tr>\n",
       "<tr><td>Will</td><td>33</td></tr>\n",
       "<tr><td>Jean-Luc</td><td>26</td></tr>\n",
       "<tr><td>Hugh</td><td>55</td></tr>\n",
       "<tr><td>Deanna</td><td>40</td></tr>\n",
       "<tr><td>Quark</td><td>68</td></tr>\n",
       "<tr><td>Weyoun</td><td>59</td></tr>\n",
       "<tr><td>Gowron</td><td>37</td></tr>\n",
       "<tr><td>Will</td><td>54</td></tr>\n",
       "<tr><td>Jadzia</td><td>38</td></tr>\n",
       "<tr><td>Hugh</td><td>27</td></tr>\n",
       "</table>\n",
       "only showing top 10 rows\n"
      ],
      "text/plain": [
       "+--------+---+\n",
       "|    name|age|\n",
       "+--------+---+\n",
       "|    Will| 33|\n",
       "|Jean-Luc| 26|\n",
       "|    Hugh| 55|\n",
       "|  Deanna| 40|\n",
       "|   Quark| 68|\n",
       "|  Weyoun| 59|\n",
       "|  Gowron| 37|\n",
       "|    Will| 54|\n",
       "|  Jadzia| 38|\n",
       "|    Hugh| 27|\n",
       "+--------+---+\n",
       "only showing top 10 rows"
      ]
     },
     "execution_count": 55,
     "metadata": {},
     "output_type": "execute_result"
    }
   ],
   "source": [
    "people.select('name', 'age')"
   ]
  },
  {
   "cell_type": "markdown",
   "metadata": {
    "application/vnd.databricks.v1+cell": {
     "inputWidgets": {},
     "nuid": "eaab3342-f852-400d-8c9e-acd990475618",
     "showTitle": false,
     "title": ""
    }
   },
   "source": [
    "- Obtener los datos de personas entre 12 y 20 años utilizando operaciones con DataFrames."
   ]
  },
  {
   "cell_type": "code",
   "execution_count": 56,
   "metadata": {
    "application/vnd.databricks.v1+cell": {
     "inputWidgets": {},
     "nuid": "dae6805a-364e-44a1-b860-ddab63000c55",
     "showTitle": false,
     "title": ""
    }
   },
   "outputs": [
    {
     "data": {
      "text/html": [
       "<table border='1'>\n",
       "<tr><th>ID</th><th>name</th><th>age</th><th>numFriends</th></tr>\n",
       "<tr><td>21</td><td>Miles</td><td>19</td><td>268</td></tr>\n",
       "<tr><td>48</td><td>Nog</td><td>20</td><td>1</td></tr>\n",
       "<tr><td>52</td><td>Beverly</td><td>19</td><td>269</td></tr>\n",
       "<tr><td>54</td><td>Brunt</td><td>19</td><td>5</td></tr>\n",
       "<tr><td>60</td><td>Geordi</td><td>20</td><td>100</td></tr>\n",
       "<tr><td>73</td><td>Brunt</td><td>20</td><td>384</td></tr>\n",
       "<tr><td>106</td><td>Beverly</td><td>18</td><td>499</td></tr>\n",
       "<tr><td>115</td><td>Dukat</td><td>18</td><td>397</td></tr>\n",
       "<tr><td>133</td><td>Quark</td><td>19</td><td>265</td></tr>\n",
       "<tr><td>136</td><td>Will</td><td>19</td><td>335</td></tr>\n",
       "</table>\n",
       "only showing top 10 rows\n"
      ],
      "text/plain": [
       "+---+-------+---+----------+\n",
       "| ID|   name|age|numFriends|\n",
       "+---+-------+---+----------+\n",
       "| 21|  Miles| 19|       268|\n",
       "| 48|    Nog| 20|         1|\n",
       "| 52|Beverly| 19|       269|\n",
       "| 54|  Brunt| 19|         5|\n",
       "| 60| Geordi| 20|       100|\n",
       "| 73|  Brunt| 20|       384|\n",
       "|106|Beverly| 18|       499|\n",
       "|115|  Dukat| 18|       397|\n",
       "|133|  Quark| 19|       265|\n",
       "|136|   Will| 19|       335|\n",
       "+---+-------+---+----------+\n",
       "only showing top 10 rows"
      ]
     },
     "execution_count": 56,
     "metadata": {},
     "output_type": "execute_result"
    }
   ],
   "source": [
    "people.select(\"*\").filter(people['age'] >= 12).filter(people['age'] <= 20)\n",
    "#people.filter(people['age'] >= 12) & (people['age'] <= 20))"
   ]
  },
  {
   "cell_type": "markdown",
   "metadata": {
    "application/vnd.databricks.v1+cell": {
     "inputWidgets": {},
     "nuid": "c8b94467-19a7-43c6-99f1-90bdbbd28805",
     "showTitle": false,
     "title": ""
    }
   },
   "source": [
    "- Almacena el DF resultado anterior en una variable de Python denominada para poder hacer operaciones posteriores"
   ]
  },
  {
   "cell_type": "code",
   "execution_count": 57,
   "metadata": {
    "application/vnd.databricks.v1+cell": {
     "inputWidgets": {},
     "nuid": "2b640520-87b8-4991-971c-f4d8a84af327",
     "showTitle": false,
     "title": ""
    }
   },
   "outputs": [],
   "source": [
    "personas_12_20 = people.select(\"*\").filter(people['age'] >= 12).filter(people['age'] <= 20)"
   ]
  },
  {
   "cell_type": "markdown",
   "metadata": {
    "application/vnd.databricks.v1+cell": {
     "inputWidgets": {},
     "nuid": "6afad9a1-d9be-477d-a719-861c14469624",
     "showTitle": false,
     "title": ""
    }
   },
   "source": [
    "- Partiendo del resultado anterior, obtener el número de personas agrupado por edad, esto es, recuento de personas de la misma edad. Pista: Tendrás que usar la función groupBy('col') y la función count()"
   ]
  },
  {
   "cell_type": "code",
   "execution_count": 63,
   "metadata": {
    "application/vnd.databricks.v1+cell": {
     "inputWidgets": {},
     "nuid": "c3a16da4-187e-4cb2-a624-63e27086ab62",
     "showTitle": false,
     "title": ""
    }
   },
   "outputs": [
    {
     "data": {
      "text/html": [
       "<table border='1'>\n",
       "<tr><th>age</th><th>count</th></tr>\n",
       "<tr><td>20</td><td>5</td></tr>\n",
       "<tr><td>19</td><td>11</td></tr>\n",
       "<tr><td>18</td><td>8</td></tr>\n",
       "</table>\n"
      ],
      "text/plain": [
       "+---+-----+\n",
       "|age|count|\n",
       "+---+-----+\n",
       "| 20|    5|\n",
       "| 19|   11|\n",
       "| 18|    8|\n",
       "+---+-----+"
      ]
     },
     "execution_count": 63,
     "metadata": {},
     "output_type": "execute_result"
    }
   ],
   "source": [
    "personas_12_20.groupBy('age').count()"
   ]
  }
 ],
 "metadata": {
  "application/vnd.databricks.v1+notebook": {
   "dashboards": [],
   "language": "python",
   "notebookMetadata": {
    "pythonIndentUnit": 2
   },
   "notebookName": "2. Red social de amigos (Alumno)",
   "notebookOrigID": 2352519357066125,
   "widgets": {}
  },
  "kernelspec": {
   "display_name": "Python 3 (ipykernel)",
   "language": "python",
   "name": "python3"
  },
  "language_info": {
   "codemirror_mode": {
    "name": "ipython",
    "version": 3
   },
   "file_extension": ".py",
   "mimetype": "text/x-python",
   "name": "python",
   "nbconvert_exporter": "python",
   "pygments_lexer": "ipython3",
   "version": "3.9.7"
  }
 },
 "nbformat": 4,
 "nbformat_minor": 1
}
