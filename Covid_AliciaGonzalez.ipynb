{
 "cells": [
  {
   "cell_type": "markdown",
   "id": "cd5706aa",
   "metadata": {},
   "source": [
    "## Vamos a crear un dataframe y abrir la sesion"
   ]
  },
  {
   "cell_type": "code",
   "execution_count": 2,
   "id": "4ee46ef4",
   "metadata": {},
   "outputs": [],
   "source": [
    "import findspark \n",
    "findspark.init()"
   ]
  },
  {
   "cell_type": "code",
   "execution_count": 3,
   "id": "4ddcd92b",
   "metadata": {},
   "outputs": [],
   "source": [
    "from pyspark.sql import SparkSession"
   ]
  },
  {
   "cell_type": "code",
   "execution_count": 4,
   "id": "5e6f0685",
   "metadata": {},
   "outputs": [],
   "source": [
    "spark: SparkSession = SparkSession.builder \\\n",
    "    .appName('ProyectoFinal_SparkSQL') \\\n",
    "    .config('spark.sql.repl.eagerEval.enabled', True) \\\n",
    "    .config('spark.sql.repl.eagerEval.maxNumRows', 8) \\\n",
    "    .getOrCreate()"
   ]
  },
  {
   "cell_type": "code",
   "execution_count": 5,
   "id": "a1d880c4",
   "metadata": {},
   "outputs": [
    {
     "data": {
      "text/html": [
       "\n",
       "            <div>\n",
       "                <p><b>SparkSession - in-memory</b></p>\n",
       "                \n",
       "        <div>\n",
       "            <p><b>SparkContext</b></p>\n",
       "\n",
       "            <p><a href=\"http://linux:4041\">Spark UI</a></p>\n",
       "\n",
       "            <dl>\n",
       "              <dt>Version</dt>\n",
       "                <dd><code>v3.1.2</code></dd>\n",
       "              <dt>Master</dt>\n",
       "                <dd><code>local[*]</code></dd>\n",
       "              <dt>AppName</dt>\n",
       "                <dd><code>ProyectoFinal_SparkSQL</code></dd>\n",
       "            </dl>\n",
       "        </div>\n",
       "        \n",
       "            </div>\n",
       "        "
      ],
      "text/plain": [
       "<pyspark.sql.session.SparkSession at 0x7f2669c99700>"
      ]
     },
     "execution_count": 5,
     "metadata": {},
     "output_type": "execute_result"
    }
   ],
   "source": [
    "spark"
   ]
  },
  {
   "cell_type": "code",
   "execution_count": 7,
   "id": "54b35831",
   "metadata": {},
   "outputs": [],
   "source": [
    "# Descargamos el .csv del link proporcionado y tras subir a spark el .csv que acabamos de descargar"
   ]
  },
  {
   "cell_type": "markdown",
   "id": "ab58da3d",
   "metadata": {},
   "source": [
    "## Leer datos"
   ]
  },
  {
   "cell_type": "code",
   "execution_count": 6,
   "id": "c40c6fc4",
   "metadata": {},
   "outputs": [],
   "source": [
    "path = 'file:////home/training/Datos/'"
   ]
  },
  {
   "cell_type": "code",
   "execution_count": 7,
   "id": "7d48dc9a",
   "metadata": {},
   "outputs": [
    {
     "name": "stderr",
     "output_type": "stream",
     "text": [
      "                                                                                \r"
     ]
    },
    {
     "data": {
      "text/html": [
       "<table border='1'>\n",
       "<tr><th>dateRep</th><th>day</th><th>month</th><th>year</th><th>cases</th><th>deaths</th><th>countriesAndTerritories</th><th>geoId</th><th>countryterritoryCode</th><th>popData2019</th><th>continentExp</th><th>Cumulative_number_for_14_days_of_COVID-19_cases_per_100000</th></tr>\n",
       "<tr><td>14/12/2020</td><td>14</td><td>12</td><td>2020</td><td>746</td><td>6</td><td>Afghanistan</td><td>AF</td><td>AFG</td><td>38041757</td><td>Asia</td><td>9.01377925</td></tr>\n",
       "<tr><td>13/12/2020</td><td>13</td><td>12</td><td>2020</td><td>298</td><td>9</td><td>Afghanistan</td><td>AF</td><td>AFG</td><td>38041757</td><td>Asia</td><td>7.05277624</td></tr>\n",
       "<tr><td>12/12/2020</td><td>12</td><td>12</td><td>2020</td><td>113</td><td>11</td><td>Afghanistan</td><td>AF</td><td>AFG</td><td>38041757</td><td>Asia</td><td>6.86876792</td></tr>\n",
       "<tr><td>11/12/2020</td><td>11</td><td>12</td><td>2020</td><td>63</td><td>10</td><td>Afghanistan</td><td>AF</td><td>AFG</td><td>38041757</td><td>Asia</td><td>7.13426564</td></tr>\n",
       "<tr><td>10/12/2020</td><td>10</td><td>12</td><td>2020</td><td>202</td><td>16</td><td>Afghanistan</td><td>AF</td><td>AFG</td><td>38041757</td><td>Asia</td><td>6.96865815</td></tr>\n",
       "<tr><td>09/12/2020</td><td>9</td><td>12</td><td>2020</td><td>135</td><td>13</td><td>Afghanistan</td><td>AF</td><td>AFG</td><td>38041757</td><td>Asia</td><td>6.96340077</td></tr>\n",
       "<tr><td>08/12/2020</td><td>8</td><td>12</td><td>2020</td><td>200</td><td>6</td><td>Afghanistan</td><td>AF</td><td>AFG</td><td>38041757</td><td>Asia</td><td>7.09483529</td></tr>\n",
       "<tr><td>07/12/2020</td><td>7</td><td>12</td><td>2020</td><td>210</td><td>26</td><td>Afghanistan</td><td>AF</td><td>AFG</td><td>38041757</td><td>Asia</td><td>7.21575505</td></tr>\n",
       "</table>\n",
       "only showing top 8 rows\n"
      ],
      "text/plain": [
       "+----------+---+-----+----+-----+------+-----------------------+-----+--------------------+-----------+------------+----------------------------------------------------------+\n",
       "|   dateRep|day|month|year|cases|deaths|countriesAndTerritories|geoId|countryterritoryCode|popData2019|continentExp|Cumulative_number_for_14_days_of_COVID-19_cases_per_100000|\n",
       "+----------+---+-----+----+-----+------+-----------------------+-----+--------------------+-----------+------------+----------------------------------------------------------+\n",
       "|14/12/2020| 14|   12|2020|  746|     6|            Afghanistan|   AF|                 AFG|   38041757|        Asia|                                                9.01377925|\n",
       "|13/12/2020| 13|   12|2020|  298|     9|            Afghanistan|   AF|                 AFG|   38041757|        Asia|                                                7.05277624|\n",
       "|12/12/2020| 12|   12|2020|  113|    11|            Afghanistan|   AF|                 AFG|   38041757|        Asia|                                                6.86876792|\n",
       "|11/12/2020| 11|   12|2020|   63|    10|            Afghanistan|   AF|                 AFG|   38041757|        Asia|                                                7.13426564|\n",
       "|10/12/2020| 10|   12|2020|  202|    16|            Afghanistan|   AF|                 AFG|   38041757|        Asia|                                                6.96865815|\n",
       "|09/12/2020|  9|   12|2020|  135|    13|            Afghanistan|   AF|                 AFG|   38041757|        Asia|                                                6.96340077|\n",
       "|08/12/2020|  8|   12|2020|  200|     6|            Afghanistan|   AF|                 AFG|   38041757|        Asia|                                                7.09483529|\n",
       "|07/12/2020|  7|   12|2020|  210|    26|            Afghanistan|   AF|                 AFG|   38041757|        Asia|                                                7.21575505|\n",
       "+----------+---+-----+----+-----+------+-----------------------+-----+--------------------+-----------+------------+----------------------------------------------------------+\n",
       "only showing top 8 rows"
      ]
     },
     "execution_count": 7,
     "metadata": {},
     "output_type": "execute_result"
    }
   ],
   "source": [
    "df1 = spark.read.csv(path + \"Covid\", header = True)\n",
    "df1"
   ]
  },
  {
   "cell_type": "code",
   "execution_count": 10,
   "id": "0c572d62",
   "metadata": {},
   "outputs": [
    {
     "name": "stdout",
     "output_type": "stream",
     "text": [
      "-RECORD 0-----------------------------------------------------------------\n",
      " dateRep                                                    | 14/12/2020  \n",
      " day                                                        | 14          \n",
      " month                                                      | 12          \n",
      " year                                                       | 2020        \n",
      " cases                                                      | 746         \n",
      " deaths                                                     | 6           \n",
      " countriesAndTerritories                                    | Afghanistan \n",
      " geoId                                                      | AF          \n",
      " countryterritoryCode                                       | AFG         \n",
      " popData2019                                                | 38041757    \n",
      " continentExp                                               | Asia        \n",
      " Cumulative_number_for_14_days_of_COVID-19_cases_per_100000 | 9.01377925  \n",
      "-RECORD 1-----------------------------------------------------------------\n",
      " dateRep                                                    | 13/12/2020  \n",
      " day                                                        | 13          \n",
      " month                                                      | 12          \n",
      " year                                                       | 2020        \n",
      " cases                                                      | 298         \n",
      " deaths                                                     | 9           \n",
      " countriesAndTerritories                                    | Afghanistan \n",
      " geoId                                                      | AF          \n",
      " countryterritoryCode                                       | AFG         \n",
      " popData2019                                                | 38041757    \n",
      " continentExp                                               | Asia        \n",
      " Cumulative_number_for_14_days_of_COVID-19_cases_per_100000 | 7.05277624  \n",
      "-RECORD 2-----------------------------------------------------------------\n",
      " dateRep                                                    | 12/12/2020  \n",
      " day                                                        | 12          \n",
      " month                                                      | 12          \n",
      " year                                                       | 2020        \n",
      " cases                                                      | 113         \n",
      " deaths                                                     | 11          \n",
      " countriesAndTerritories                                    | Afghanistan \n",
      " geoId                                                      | AF          \n",
      " countryterritoryCode                                       | AFG         \n",
      " popData2019                                                | 38041757    \n",
      " continentExp                                               | Asia        \n",
      " Cumulative_number_for_14_days_of_COVID-19_cases_per_100000 | 6.86876792  \n",
      "-RECORD 3-----------------------------------------------------------------\n",
      " dateRep                                                    | 11/12/2020  \n",
      " day                                                        | 11          \n",
      " month                                                      | 12          \n",
      " year                                                       | 2020        \n",
      " cases                                                      | 63          \n",
      " deaths                                                     | 10          \n",
      " countriesAndTerritories                                    | Afghanistan \n",
      " geoId                                                      | AF          \n",
      " countryterritoryCode                                       | AFG         \n",
      " popData2019                                                | 38041757    \n",
      " continentExp                                               | Asia        \n",
      " Cumulative_number_for_14_days_of_COVID-19_cases_per_100000 | 7.13426564  \n",
      "-RECORD 4-----------------------------------------------------------------\n",
      " dateRep                                                    | 10/12/2020  \n",
      " day                                                        | 10          \n",
      " month                                                      | 12          \n",
      " year                                                       | 2020        \n",
      " cases                                                      | 202         \n",
      " deaths                                                     | 16          \n",
      " countriesAndTerritories                                    | Afghanistan \n",
      " geoId                                                      | AF          \n",
      " countryterritoryCode                                       | AFG         \n",
      " popData2019                                                | 38041757    \n",
      " continentExp                                               | Asia        \n",
      " Cumulative_number_for_14_days_of_COVID-19_cases_per_100000 | 6.96865815  \n",
      "-RECORD 5-----------------------------------------------------------------\n",
      " dateRep                                                    | 09/12/2020  \n",
      " day                                                        | 9           \n",
      " month                                                      | 12          \n",
      " year                                                       | 2020        \n",
      " cases                                                      | 135         \n",
      " deaths                                                     | 13          \n",
      " countriesAndTerritories                                    | Afghanistan \n",
      " geoId                                                      | AF          \n",
      " countryterritoryCode                                       | AFG         \n",
      " popData2019                                                | 38041757    \n",
      " continentExp                                               | Asia        \n",
      " Cumulative_number_for_14_days_of_COVID-19_cases_per_100000 | 6.96340077  \n",
      "-RECORD 6-----------------------------------------------------------------\n",
      " dateRep                                                    | 08/12/2020  \n",
      " day                                                        | 8           \n",
      " month                                                      | 12          \n",
      " year                                                       | 2020        \n",
      " cases                                                      | 200         \n",
      " deaths                                                     | 6           \n",
      " countriesAndTerritories                                    | Afghanistan \n",
      " geoId                                                      | AF          \n",
      " countryterritoryCode                                       | AFG         \n",
      " popData2019                                                | 38041757    \n",
      " continentExp                                               | Asia        \n",
      " Cumulative_number_for_14_days_of_COVID-19_cases_per_100000 | 7.09483529  \n",
      "-RECORD 7-----------------------------------------------------------------\n",
      " dateRep                                                    | 07/12/2020  \n",
      " day                                                        | 7           \n",
      " month                                                      | 12          \n",
      " year                                                       | 2020        \n",
      " cases                                                      | 210         \n",
      " deaths                                                     | 26          \n",
      " countriesAndTerritories                                    | Afghanistan \n",
      " geoId                                                      | AF          \n",
      " countryterritoryCode                                       | AFG         \n",
      " popData2019                                                | 38041757    \n",
      " continentExp                                               | Asia        \n",
      " Cumulative_number_for_14_days_of_COVID-19_cases_per_100000 | 7.21575505  \n",
      "-RECORD 8-----------------------------------------------------------------\n",
      " dateRep                                                    | 06/12/2020  \n",
      " day                                                        | 6           \n",
      " month                                                      | 12          \n",
      " year                                                       | 2020        \n",
      " cases                                                      | 234         \n",
      " deaths                                                     | 10          \n",
      " countriesAndTerritories                                    | Afghanistan \n",
      " geoId                                                      | AF          \n",
      " countryterritoryCode                                       | AFG         \n",
      " popData2019                                                | 38041757    \n",
      " continentExp                                               | Asia        \n",
      " Cumulative_number_for_14_days_of_COVID-19_cases_per_100000 | 7.32616004  \n",
      "-RECORD 9-----------------------------------------------------------------\n",
      " dateRep                                                    | 05/12/2020  \n",
      " day                                                        | 5           \n",
      " month                                                      | 12          \n",
      " year                                                       | 2020        \n",
      " cases                                                      | 235         \n",
      " deaths                                                     | 18          \n",
      " countriesAndTerritories                                    | Afghanistan \n",
      " geoId                                                      | AF          \n",
      " countryterritoryCode                                       | AFG         \n",
      " popData2019                                                | 38041757    \n",
      " continentExp                                               | Asia        \n",
      " Cumulative_number_for_14_days_of_COVID-19_cases_per_100000 | 7.11586481  \n",
      "-RECORD 10----------------------------------------------------------------\n",
      " dateRep                                                    | 04/12/2020  \n",
      " day                                                        | 4           \n",
      " month                                                      | 12          \n",
      " year                                                       | 2020        \n",
      " cases                                                      | 119         \n",
      " deaths                                                     | 5           \n",
      " countriesAndTerritories                                    | Afghanistan \n",
      " geoId                                                      | AF          \n",
      " countryterritoryCode                                       | AFG         \n",
      " popData2019                                                | 38041757    \n",
      " continentExp                                               | Asia        \n",
      " Cumulative_number_for_14_days_of_COVID-19_cases_per_100000 | 7.10797874  \n",
      "-RECORD 11----------------------------------------------------------------\n",
      " dateRep                                                    | 03/12/2020  \n",
      " day                                                        | 3           \n",
      " month                                                      | 12          \n",
      " year                                                       | 2020        \n",
      " cases                                                      | 202         \n",
      " deaths                                                     | 19          \n",
      " countriesAndTerritories                                    | Afghanistan \n",
      " geoId                                                      | AF          \n",
      " countryterritoryCode                                       | AFG         \n",
      " popData2019                                                | 38041757    \n",
      " continentExp                                               | Asia        \n",
      " Cumulative_number_for_14_days_of_COVID-19_cases_per_100000 | 7.53645527  \n",
      "-RECORD 12----------------------------------------------------------------\n",
      " dateRep                                                    | 02/12/2020  \n",
      " day                                                        | 2           \n",
      " month                                                      | 12          \n",
      " year                                                       | 2020        \n",
      " cases                                                      | 400         \n",
      " deaths                                                     | 48          \n",
      " countriesAndTerritories                                    | Afghanistan \n",
      " geoId                                                      | AF          \n",
      " countryterritoryCode                                       | AFG         \n",
      " popData2019                                                | 38041757    \n",
      " continentExp                                               | Asia        \n",
      " Cumulative_number_for_14_days_of_COVID-19_cases_per_100000 | 7.00545982  \n",
      "-RECORD 13----------------------------------------------------------------\n",
      " dateRep                                                    | 01/12/2020  \n",
      " day                                                        | 1           \n",
      " month                                                      | 12          \n",
      " year                                                       | 2020        \n",
      " cases                                                      | 272         \n",
      " deaths                                                     | 11          \n",
      " countriesAndTerritories                                    | Afghanistan \n",
      " geoId                                                      | AF          \n",
      " countryterritoryCode                                       | AFG         \n",
      " popData2019                                                | 38041757    \n",
      " continentExp                                               | Asia        \n",
      " Cumulative_number_for_14_days_of_COVID-19_cases_per_100000 | 6.96077208  \n",
      "-RECORD 14----------------------------------------------------------------\n",
      " dateRep                                                    | 30/11/2020  \n",
      " day                                                        | 30          \n",
      " month                                                      | 11          \n",
      " year                                                       | 2020        \n",
      " cases                                                      | 0           \n",
      " deaths                                                     | 0           \n",
      " countriesAndTerritories                                    | Afghanistan \n",
      " geoId                                                      | AF          \n",
      " countryterritoryCode                                       | AFG         \n",
      " popData2019                                                | 38041757    \n",
      " continentExp                                               | Asia        \n",
      " Cumulative_number_for_14_days_of_COVID-19_cases_per_100000 | 6.41663317  \n",
      "-RECORD 15----------------------------------------------------------------\n",
      " dateRep                                                    | 29/11/2020  \n",
      " day                                                        | 29          \n",
      " month                                                      | 11          \n",
      " year                                                       | 2020        \n",
      " cases                                                      | 228         \n",
      " deaths                                                     | 11          \n",
      " countriesAndTerritories                                    | Afghanistan \n",
      " geoId                                                      | AF          \n",
      " countryterritoryCode                                       | AFG         \n",
      " popData2019                                                | 38041757    \n",
      " continentExp                                               | Asia        \n",
      " Cumulative_number_for_14_days_of_COVID-19_cases_per_100000 | 6.8451097   \n",
      "-RECORD 16----------------------------------------------------------------\n",
      " dateRep                                                    | 28/11/2020  \n",
      " day                                                        | 28          \n",
      " month                                                      | 11          \n",
      " year                                                       | 2020        \n",
      " cases                                                      | 214         \n",
      " deaths                                                     | 15          \n",
      " countriesAndTerritories                                    | Afghanistan \n",
      " geoId                                                      | AF          \n",
      " countryterritoryCode                                       | AFG         \n",
      " popData2019                                                | 38041757    \n",
      " continentExp                                               | Asia        \n",
      " Cumulative_number_for_14_days_of_COVID-19_cases_per_100000 | 6.78464983  \n",
      "-RECORD 17----------------------------------------------------------------\n",
      " dateRep                                                    | 27/11/2020  \n",
      " day                                                        | 27          \n",
      " month                                                      | 11          \n",
      " year                                                       | 2020        \n",
      " cases                                                      | 0           \n",
      " deaths                                                     | 0           \n",
      " countriesAndTerritories                                    | Afghanistan \n",
      " geoId                                                      | AF          \n",
      " countryterritoryCode                                       | AFG         \n",
      " popData2019                                                | 38041757    \n",
      " continentExp                                               | Asia        \n",
      " Cumulative_number_for_14_days_of_COVID-19_cases_per_100000 | 6.39560365  \n",
      "-RECORD 18----------------------------------------------------------------\n",
      " dateRep                                                    | 26/11/2020  \n",
      " day                                                        | 26          \n",
      " month                                                      | 11          \n",
      " year                                                       | 2020        \n",
      " cases                                                      | 200         \n",
      " deaths                                                     | 12          \n",
      " countriesAndTerritories                                    | Afghanistan \n",
      " geoId                                                      | AF          \n",
      " countryterritoryCode                                       | AFG         \n",
      " popData2019                                                | 38041757    \n",
      " continentExp                                               | Asia        \n",
      " Cumulative_number_for_14_days_of_COVID-19_cases_per_100000 | 7.34193218  \n",
      "-RECORD 19----------------------------------------------------------------\n",
      " dateRep                                                    | 25/11/2020  \n",
      " day                                                        | 25          \n",
      " month                                                      | 11          \n",
      " year                                                       | 2020        \n",
      " cases                                                      | 185         \n",
      " deaths                                                     | 13          \n",
      " countriesAndTerritories                                    | Afghanistan \n",
      " geoId                                                      | AF          \n",
      " countryterritoryCode                                       | AFG         \n",
      " popData2019                                                | 38041757    \n",
      " continentExp                                               | Asia        \n",
      " Cumulative_number_for_14_days_of_COVID-19_cases_per_100000 | 7.1999829   \n",
      "only showing top 20 rows\n",
      "\n"
     ]
    }
   ],
   "source": [
    "df1.show(vertical = True, truncate = False)"
   ]
  },
  {
   "cell_type": "markdown",
   "id": "682434aa",
   "metadata": {},
   "source": [
    "## ¿Cuántas muertes se produjeron en Afghanistán??"
   ]
  },
  {
   "cell_type": "code",
   "execution_count": 20,
   "id": "ee9e61f8",
   "metadata": {},
   "outputs": [],
   "source": [
    "from pyspark.sql.functions import max, count"
   ]
  },
  {
   "cell_type": "code",
   "execution_count": 47,
   "id": "d54ca20d",
   "metadata": {},
   "outputs": [
    {
     "name": "stderr",
     "output_type": "stream",
     "text": [
      "                                                                                \r"
     ]
    },
    {
     "data": {
      "text/html": [
       "<table border='1'>\n",
       "<tr><th>countriesAndTerritories</th><th>total_deaths</th></tr>\n",
       "<tr><td>Afghanistan</td><td>340</td></tr>\n",
       "</table>\n"
      ],
      "text/plain": [
       "+-----------------------+------------+\n",
       "|countriesAndTerritories|total_deaths|\n",
       "+-----------------------+------------+\n",
       "|            Afghanistan|         340|\n",
       "+-----------------------+------------+"
      ]
     },
     "execution_count": 47,
     "metadata": {},
     "output_type": "execute_result"
    }
   ],
   "source": [
    "df1.select('countriesAndTerritories').filter(df1['countriesAndTerritories'] == 'Afghanistan').groupBy('countriesAndTerritories').agg(count(\"*\").alias('total_deaths'))"
   ]
  },
  {
   "cell_type": "markdown",
   "id": "07760135",
   "metadata": {},
   "source": [
    "## ¿En qué paises se dieron casos de Covid el dia 5 de diciembre de 2020?"
   ]
  },
  {
   "cell_type": "code",
   "execution_count": 51,
   "id": "ee03cc4a",
   "metadata": {},
   "outputs": [
    {
     "data": {
      "text/html": [
       "<table border='1'>\n",
       "<tr><th>countriesAndTerritories</th><th>day</th><th>month</th><th>year</th></tr>\n",
       "<tr><td>Afghanistan</td><td>5</td><td>12</td><td>2020</td></tr>\n",
       "<tr><td>Albania</td><td>5</td><td>12</td><td>2020</td></tr>\n",
       "<tr><td>Algeria</td><td>5</td><td>12</td><td>2020</td></tr>\n",
       "<tr><td>Andorra</td><td>5</td><td>12</td><td>2020</td></tr>\n",
       "<tr><td>Angola</td><td>5</td><td>12</td><td>2020</td></tr>\n",
       "<tr><td>Anguilla</td><td>5</td><td>12</td><td>2020</td></tr>\n",
       "<tr><td>Antigua_and_Barbuda</td><td>5</td><td>12</td><td>2020</td></tr>\n",
       "<tr><td>Argentina</td><td>5</td><td>12</td><td>2020</td></tr>\n",
       "</table>\n",
       "only showing top 8 rows\n"
      ],
      "text/plain": [
       "+-----------------------+---+-----+----+\n",
       "|countriesAndTerritories|day|month|year|\n",
       "+-----------------------+---+-----+----+\n",
       "|            Afghanistan|  5|   12|2020|\n",
       "|                Albania|  5|   12|2020|\n",
       "|                Algeria|  5|   12|2020|\n",
       "|                Andorra|  5|   12|2020|\n",
       "|                 Angola|  5|   12|2020|\n",
       "|               Anguilla|  5|   12|2020|\n",
       "|    Antigua_and_Barbuda|  5|   12|2020|\n",
       "|              Argentina|  5|   12|2020|\n",
       "+-----------------------+---+-----+----+\n",
       "only showing top 8 rows"
      ]
     },
     "execution_count": 51,
     "metadata": {},
     "output_type": "execute_result"
    }
   ],
   "source": [
    "df1.select('countriesAndTerritories', 'day', 'month', 'year').filter(df1['day'] == 5).filter(df1['month'] == 12).filter(df1['year'] == 2020)"
   ]
  },
  {
   "cell_type": "markdown",
   "id": "4bdbe208",
   "metadata": {},
   "source": [
    "## ¿En qué paises se dieron mas muertes por Covid (ordenado de mayor a menor)?"
   ]
  },
  {
   "cell_type": "code",
   "execution_count": 54,
   "id": "d1bcd096",
   "metadata": {},
   "outputs": [],
   "source": [
    "df1.createOrReplaceTempView('PaisesAfectados')"
   ]
  },
  {
   "cell_type": "code",
   "execution_count": 86,
   "id": "4bdf8a45",
   "metadata": {},
   "outputs": [
    {
     "name": "stderr",
     "output_type": "stream",
     "text": [
      "                                                                                \r"
     ]
    },
    {
     "data": {
      "text/html": [
       "<table border='1'>\n",
       "<tr><th>country</th><th>total_deaths</th></tr>\n",
       "<tr><td>United_States_of_...</td><td>299177.0</td></tr>\n",
       "<tr><td>Brazil</td><td>181402.0</td></tr>\n",
       "<tr><td>India</td><td>143355.0</td></tr>\n",
       "<tr><td>Mexico</td><td>113953.0</td></tr>\n",
       "<tr><td>Italy</td><td>64520.0</td></tr>\n",
       "<tr><td>United_Kingdom</td><td>64170.0</td></tr>\n",
       "<tr><td>France</td><td>57911.0</td></tr>\n",
       "<tr><td>Iran</td><td>52196.0</td></tr>\n",
       "</table>\n",
       "only showing top 8 rows\n"
      ],
      "text/plain": [
       "+--------------------+------------+\n",
       "|             country|total_deaths|\n",
       "+--------------------+------------+\n",
       "|United_States_of_...|    299177.0|\n",
       "|              Brazil|    181402.0|\n",
       "|               India|    143355.0|\n",
       "|              Mexico|    113953.0|\n",
       "|               Italy|     64520.0|\n",
       "|      United_Kingdom|     64170.0|\n",
       "|              France|     57911.0|\n",
       "|                Iran|     52196.0|\n",
       "+--------------------+------------+\n",
       "only showing top 8 rows"
      ]
     },
     "execution_count": 86,
     "metadata": {},
     "output_type": "execute_result"
    }
   ],
   "source": [
    "df1 = spark.sql(\"\"\"\n",
    "    select countriesAndTerritories as country, sum(deaths) as total_deaths\n",
    "    from PaisesAfectados\n",
    "    group by countriesAndTerritories\n",
    "    order by total_deaths desc\n",
    "\"\"\")\n",
    "df1"
   ]
  },
  {
   "cell_type": "markdown",
   "id": "10a21066",
   "metadata": {},
   "source": [
    "### Guardar un Dataframe en Data lake en formato Parquet para leerlo de nuevo"
   ]
  },
  {
   "cell_type": "code",
   "execution_count": 87,
   "id": "30a60eca",
   "metadata": {},
   "outputs": [
    {
     "name": "stderr",
     "output_type": "stream",
     "text": [
      "                                                                                \r"
     ]
    },
    {
     "data": {
      "text/html": [
       "<table border='1'>\n",
       "<tr><th>country</th><th>total_deaths</th></tr>\n",
       "<tr><td>United_States_of_...</td><td>299177.0</td></tr>\n",
       "<tr><td>Brazil</td><td>181402.0</td></tr>\n",
       "<tr><td>India</td><td>143355.0</td></tr>\n",
       "<tr><td>Mexico</td><td>113953.0</td></tr>\n",
       "<tr><td>Italy</td><td>64520.0</td></tr>\n",
       "<tr><td>United_Kingdom</td><td>64170.0</td></tr>\n",
       "<tr><td>France</td><td>57911.0</td></tr>\n",
       "<tr><td>Iran</td><td>52196.0</td></tr>\n",
       "</table>\n",
       "only showing top 8 rows\n"
      ],
      "text/plain": [
       "DataFrame[country: string, total_deaths: double]"
      ]
     },
     "execution_count": 87,
     "metadata": {},
     "output_type": "execute_result"
    }
   ],
   "source": [
    "df1.write.format('parquet').mode('overwrite') \\\n",
    "    .save(\"file:////home/training/output_Data/proyecto\")\n",
    "df1"
   ]
  }
 ],
 "metadata": {
  "kernelspec": {
   "display_name": "Python 3 (ipykernel)",
   "language": "python",
   "name": "python3"
  },
  "language_info": {
   "codemirror_mode": {
    "name": "ipython",
    "version": 3
   },
   "file_extension": ".py",
   "mimetype": "text/x-python",
   "name": "python",
   "nbconvert_exporter": "python",
   "pygments_lexer": "ipython3",
   "version": "3.9.7"
  }
 },
 "nbformat": 4,
 "nbformat_minor": 5
}
