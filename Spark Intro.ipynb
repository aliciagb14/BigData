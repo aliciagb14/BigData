{
 "cells": [
  {
   "cell_type": "markdown",
   "id": "82f177a4",
   "metadata": {},
   "source": [
    "### Crear un dataframe"
   ]
  },
  {
   "cell_type": "code",
   "execution_count": 4,
   "id": "5f247a37",
   "metadata": {},
   "outputs": [],
   "source": [
    "import findspark \n",
    "findspark.init()"
   ]
  },
  {
   "cell_type": "code",
   "execution_count": 5,
   "id": "72085824",
   "metadata": {},
   "outputs": [],
   "source": [
    "from pyspark.sql import SparkSession"
   ]
  },
  {
   "cell_type": "code",
   "execution_count": 6,
   "id": "74cac8ca",
   "metadata": {},
   "outputs": [],
   "source": [
    "spark = SparkSession.builder.appName('IntroSparkSQL').getOrCreate()"
   ]
  },
  {
   "cell_type": "code",
   "execution_count": 5,
   "id": "51dc7327",
   "metadata": {},
   "outputs": [
    {
     "data": {
      "text/html": [
       "\n",
       "            <div>\n",
       "                <p><b>SparkSession - in-memory</b></p>\n",
       "                \n",
       "        <div>\n",
       "            <p><b>SparkContext</b></p>\n",
       "\n",
       "            <p><a href=\"http://linux:4041\">Spark UI</a></p>\n",
       "\n",
       "            <dl>\n",
       "              <dt>Version</dt>\n",
       "                <dd><code>v3.1.2</code></dd>\n",
       "              <dt>Master</dt>\n",
       "                <dd><code>local[*]</code></dd>\n",
       "              <dt>AppName</dt>\n",
       "                <dd><code>IntroSparkSQL</code></dd>\n",
       "            </dl>\n",
       "        </div>\n",
       "        \n",
       "            </div>\n",
       "        "
      ],
      "text/plain": [
       "<pyspark.sql.session.SparkSession at 0x7f5c030dd640>"
      ]
     },
     "execution_count": 5,
     "metadata": {},
     "output_type": "execute_result"
    }
   ],
   "source": [
    "spark"
   ]
  },
  {
   "cell_type": "code",
   "execution_count": 8,
   "id": "94a0597d",
   "metadata": {},
   "outputs": [],
   "source": [
    "spark: SparkSession = SparkSession.builder \\\n",
    "    .appName('IntroSparkSQL') \\\n",
    "    .config('spark.sql.repl.eagerEval.enabled', True) \\\n",
    "    .config('spark.sql.repl.eagerEval.maxNumRows', 10) \\\n",
    "    .getOrCreate()\n",
    "    \n",
    "    #crear data frames como en pandas"
   ]
  },
  {
   "cell_type": "code",
   "execution_count": 9,
   "id": "7f04d8db",
   "metadata": {},
   "outputs": [
    {
     "data": {
      "text/html": [
       "\n",
       "            <div>\n",
       "                <p><b>SparkSession - in-memory</b></p>\n",
       "                \n",
       "        <div>\n",
       "            <p><b>SparkContext</b></p>\n",
       "\n",
       "            <p><a href=\"http://linux:4041\">Spark UI</a></p>\n",
       "\n",
       "            <dl>\n",
       "              <dt>Version</dt>\n",
       "                <dd><code>v3.1.2</code></dd>\n",
       "              <dt>Master</dt>\n",
       "                <dd><code>local[*]</code></dd>\n",
       "              <dt>AppName</dt>\n",
       "                <dd><code>IntroSparkSQL</code></dd>\n",
       "            </dl>\n",
       "        </div>\n",
       "        \n",
       "            </div>\n",
       "        "
      ],
      "text/plain": [
       "<pyspark.sql.session.SparkSession at 0x7f5c030dd640>"
      ]
     },
     "execution_count": 9,
     "metadata": {},
     "output_type": "execute_result"
    }
   ],
   "source": [
    "spark"
   ]
  },
  {
   "cell_type": "code",
   "execution_count": 10,
   "id": "46ee4776",
   "metadata": {},
   "outputs": [
    {
     "data": {
      "text/plain": [
       "[('Matt', 'Paris'), ('Gill', 'Tokyo'), ('Mark', 'Casablanca')]"
      ]
     },
     "execution_count": 10,
     "metadata": {},
     "output_type": "execute_result"
    }
   ],
   "source": [
    "person = [('Matt', 'Paris'), ('Gill', 'Tokyo'), ('Mark', 'Casablanca')]\n",
    "person"
   ]
  },
  {
   "cell_type": "code",
   "execution_count": 15,
   "id": "124c243c",
   "metadata": {},
   "outputs": [
    {
     "data": {
      "text/html": [
       "<table border='1'>\n",
       "<tr><th>name</th><th>city</th></tr>\n",
       "<tr><td>Matt</td><td>Paris</td></tr>\n",
       "<tr><td>Gill</td><td>Tokyo</td></tr>\n",
       "<tr><td>Mark</td><td>Casablanca</td></tr>\n",
       "</table>\n"
      ],
      "text/plain": [
       "+----+----------+\n",
       "|name|      city|\n",
       "+----+----------+\n",
       "|Matt|     Paris|\n",
       "|Gill|     Tokyo|\n",
       "|Mark|Casablanca|\n",
       "+----+----------+"
      ]
     },
     "execution_count": 15,
     "metadata": {},
     "output_type": "execute_result"
    }
   ],
   "source": [
    "person_df = spark.createDataFrame(person, ['name', 'city'])\n",
    "person_df"
   ]
  },
  {
   "cell_type": "code",
   "execution_count": 13,
   "id": "f35e435c",
   "metadata": {},
   "outputs": [
    {
     "data": {
      "text/plain": [
       "pyspark.sql.dataframe.DataFrame"
      ]
     },
     "execution_count": 13,
     "metadata": {},
     "output_type": "execute_result"
    }
   ],
   "source": [
    "type(person_df)"
   ]
  },
  {
   "cell_type": "code",
   "execution_count": 17,
   "id": "94648a10",
   "metadata": {},
   "outputs": [
    {
     "name": "stdout",
     "output_type": "stream",
     "text": [
      "+----+----------+\n",
      "|name|      city|\n",
      "+----+----------+\n",
      "|Matt|     Paris|\n",
      "|Gill|     Tokyo|\n",
      "|Mark|Casablanca|\n",
      "+----+----------+\n",
      "\n"
     ]
    }
   ],
   "source": [
    "person_df.show()     #mostrar el dataframe en formato sql"
   ]
  },
  {
   "cell_type": "markdown",
   "id": "201a8624",
   "metadata": {},
   "source": [
    "### Leer datos"
   ]
  },
  {
   "cell_type": "code",
   "execution_count": 37,
   "id": "1d7302b7",
   "metadata": {},
   "outputs": [],
   "source": [
    "path = 'file:////home/training/Datos/'"
   ]
  },
  {
   "cell_type": "code",
   "execution_count": 40,
   "id": "596a8288",
   "metadata": {},
   "outputs": [],
   "source": [
    "df1 = spark.read.csv(path + \"Spotify\", header = True)"
   ]
  },
  {
   "cell_type": "code",
   "execution_count": 41,
   "id": "ea3155cb",
   "metadata": {},
   "outputs": [
    {
     "data": {
      "text/html": [
       "<table border='1'>\n",
       "<tr><th>Id</th><th>TrackName</th><th>ArtistName</th><th>Genre</th><th>BeatsPerMinute</th><th>Energy</th><th>Danceability</th><th>LoudnessDB</th><th>Liveness</th><th>Valence</th><th>Length</th><th>Acousticness</th><th>Speechiness</th><th>Popularity</th></tr>\n",
       "<tr><td>1</td><td>Señorita</td><td>Shawn Mendes</td><td>canadian pop</td><td>117</td><td>55</td><td>76</td><td>-6</td><td>8</td><td>75</td><td>191</td><td>4</td><td>3</td><td>79</td></tr>\n",
       "<tr><td>2</td><td>China</td><td>Anuel AA</td><td>reggaeton flow</td><td>105</td><td>81</td><td>79</td><td>-4</td><td>8</td><td>61</td><td>302</td><td>8</td><td>9</td><td>92</td></tr>\n",
       "<tr><td>3</td><td>boyfriend (with S...</td><td>Ariana Grande</td><td>dance pop</td><td>190</td><td>80</td><td>40</td><td>-4</td><td>16</td><td>70</td><td>186</td><td>12</td><td>46</td><td>85</td></tr>\n",
       "<tr><td>4</td><td>Beautiful People ...</td><td>Ed Sheeran</td><td>pop</td><td>93</td><td>65</td><td>64</td><td>-8</td><td>8</td><td>55</td><td>198</td><td>12</td><td>19</td><td>86</td></tr>\n",
       "<tr><td>5</td><td>Goodbyes (Feat. Y...</td><td>Post Malone</td><td>dfw rap</td><td>150</td><td>65</td><td>58</td><td>-4</td><td>11</td><td>18</td><td>175</td><td>45</td><td>7</td><td>94</td></tr>\n",
       "<tr><td>6</td><td>I Don&#x27;t Care (wit...</td><td>Ed Sheeran</td><td>pop</td><td>102</td><td>68</td><td>80</td><td>-5</td><td>9</td><td>84</td><td>220</td><td>9</td><td>4</td><td>84</td></tr>\n",
       "<tr><td>7</td><td>Ransom</td><td>Lil Tecca</td><td>trap music</td><td>180</td><td>64</td><td>75</td><td>-6</td><td>7</td><td>23</td><td>131</td><td>2</td><td>29</td><td>92</td></tr>\n",
       "<tr><td>8</td><td>How Do You Sleep?</td><td>Sam Smith</td><td>pop</td><td>111</td><td>68</td><td>48</td><td>-5</td><td>8</td><td>35</td><td>202</td><td>15</td><td>9</td><td>90</td></tr>\n",
       "<tr><td>9</td><td>Old Town Road - R...</td><td>Lil Nas X</td><td>country rap</td><td>136</td><td>62</td><td>88</td><td>-6</td><td>11</td><td>64</td><td>157</td><td>5</td><td>10</td><td>87</td></tr>\n",
       "<tr><td>10</td><td>bad guy</td><td>Billie Eilish</td><td>electropop</td><td>135</td><td>43</td><td>70</td><td>-11</td><td>10</td><td>56</td><td>194</td><td>33</td><td>38</td><td>95</td></tr>\n",
       "</table>\n",
       "only showing top 10 rows\n"
      ],
      "text/plain": [
       "+---+--------------------+-------------+--------------+--------------+------+------------+----------+--------+-------+------+------------+-----------+----------+\n",
       "| Id|           TrackName|   ArtistName|         Genre|BeatsPerMinute|Energy|Danceability|LoudnessDB|Liveness|Valence|Length|Acousticness|Speechiness|Popularity|\n",
       "+---+--------------------+-------------+--------------+--------------+------+------------+----------+--------+-------+------+------------+-----------+----------+\n",
       "|  1|            Señorita| Shawn Mendes|  canadian pop|           117|    55|          76|        -6|       8|     75|   191|           4|          3|        79|\n",
       "|  2|               China|     Anuel AA|reggaeton flow|           105|    81|          79|        -4|       8|     61|   302|           8|          9|        92|\n",
       "|  3|boyfriend (with S...|Ariana Grande|     dance pop|           190|    80|          40|        -4|      16|     70|   186|          12|         46|        85|\n",
       "|  4|Beautiful People ...|   Ed Sheeran|           pop|            93|    65|          64|        -8|       8|     55|   198|          12|         19|        86|\n",
       "|  5|Goodbyes (Feat. Y...|  Post Malone|       dfw rap|           150|    65|          58|        -4|      11|     18|   175|          45|          7|        94|\n",
       "|  6|I Don't Care (wit...|   Ed Sheeran|           pop|           102|    68|          80|        -5|       9|     84|   220|           9|          4|        84|\n",
       "|  7|              Ransom|    Lil Tecca|    trap music|           180|    64|          75|        -6|       7|     23|   131|           2|         29|        92|\n",
       "|  8|   How Do You Sleep?|    Sam Smith|           pop|           111|    68|          48|        -5|       8|     35|   202|          15|          9|        90|\n",
       "|  9|Old Town Road - R...|    Lil Nas X|   country rap|           136|    62|          88|        -6|      11|     64|   157|           5|         10|        87|\n",
       "| 10|             bad guy|Billie Eilish|    electropop|           135|    43|          70|       -11|      10|     56|   194|          33|         38|        95|\n",
       "+---+--------------------+-------------+--------------+--------------+------+------------+----------+--------+-------+------+------------+-----------+----------+\n",
       "only showing top 10 rows"
      ]
     },
     "execution_count": 41,
     "metadata": {},
     "output_type": "execute_result"
    }
   ],
   "source": [
    "df1"
   ]
  },
  {
   "cell_type": "code",
   "execution_count": 25,
   "id": "4658397b",
   "metadata": {},
   "outputs": [
    {
     "name": "stdout",
     "output_type": "stream",
     "text": [
      "-RECORD 0------------------------------\n",
      " Id             | 1                    \n",
      " TrackName      | Señorita             \n",
      " ArtistName     | Shawn Mendes         \n",
      " Genre          | canadian pop         \n",
      " BeatsPerMinute | 117                  \n",
      " Energy         | 55                   \n",
      " Danceability   | 76                   \n",
      " LoudnessDB     | -6                   \n",
      " Liveness       | 8                    \n",
      " Valence        | 75                   \n",
      " Length         | 191                  \n",
      " Acousticness   | 4                    \n",
      " Speechiness    | 3                    \n",
      " Popularity     | 79                   \n",
      "-RECORD 1------------------------------\n",
      " Id             | 2                    \n",
      " TrackName      | China                \n",
      " ArtistName     | Anuel AA             \n",
      " Genre          | reggaeton flow       \n",
      " BeatsPerMinute | 105                  \n",
      " Energy         | 81                   \n",
      " Danceability   | 79                   \n",
      " LoudnessDB     | -4                   \n",
      " Liveness       | 8                    \n",
      " Valence        | 61                   \n",
      " Length         | 302                  \n",
      " Acousticness   | 8                    \n",
      " Speechiness    | 9                    \n",
      " Popularity     | 92                   \n",
      "-RECORD 2------------------------------\n",
      " Id             | 3                    \n",
      " TrackName      | boyfriend (with S... \n",
      " ArtistName     | Ariana Grande        \n",
      " Genre          | dance pop            \n",
      " BeatsPerMinute | 190                  \n",
      " Energy         | 80                   \n",
      " Danceability   | 40                   \n",
      " LoudnessDB     | -4                   \n",
      " Liveness       | 16                   \n",
      " Valence        | 70                   \n",
      " Length         | 186                  \n",
      " Acousticness   | 12                   \n",
      " Speechiness    | 46                   \n",
      " Popularity     | 85                   \n",
      "only showing top 3 rows\n",
      "\n"
     ]
    }
   ],
   "source": [
    "df1.show(vertical = True, n = 3, truncate = False)"
   ]
  },
  {
   "cell_type": "code",
   "execution_count": 42,
   "id": "3d27487e",
   "metadata": {
    "scrolled": false
   },
   "outputs": [
    {
     "data": {
      "text/html": [
       "<table border='1'>\n",
       "<tr><th>Id</th><th>TrackName</th><th>ArtistName</th><th>Genre</th><th>BeatsPerMinute</th><th>Energy</th><th>Danceability</th><th>LoudnessDB</th><th>Liveness</th><th>Valence</th><th>Length</th><th>Acousticness</th><th>Speechiness</th><th>Popularity</th></tr>\n",
       "<tr><td>1</td><td>Señorita</td><td>Shawn Mendes</td><td>canadian pop</td><td>117</td><td>55</td><td>76</td><td>-6</td><td>8</td><td>75</td><td>191</td><td>4</td><td>3</td><td>79</td></tr>\n",
       "<tr><td>2</td><td>China</td><td>Anuel AA</td><td>reggaeton flow</td><td>105</td><td>81</td><td>79</td><td>-4</td><td>8</td><td>61</td><td>302</td><td>8</td><td>9</td><td>92</td></tr>\n",
       "<tr><td>3</td><td>boyfriend (with S...</td><td>Ariana Grande</td><td>dance pop</td><td>190</td><td>80</td><td>40</td><td>-4</td><td>16</td><td>70</td><td>186</td><td>12</td><td>46</td><td>85</td></tr>\n",
       "<tr><td>4</td><td>Beautiful People ...</td><td>Ed Sheeran</td><td>pop</td><td>93</td><td>65</td><td>64</td><td>-8</td><td>8</td><td>55</td><td>198</td><td>12</td><td>19</td><td>86</td></tr>\n",
       "<tr><td>5</td><td>Goodbyes (Feat. Y...</td><td>Post Malone</td><td>dfw rap</td><td>150</td><td>65</td><td>58</td><td>-4</td><td>11</td><td>18</td><td>175</td><td>45</td><td>7</td><td>94</td></tr>\n",
       "<tr><td>6</td><td>I Don&#x27;t Care (wit...</td><td>Ed Sheeran</td><td>pop</td><td>102</td><td>68</td><td>80</td><td>-5</td><td>9</td><td>84</td><td>220</td><td>9</td><td>4</td><td>84</td></tr>\n",
       "<tr><td>7</td><td>Ransom</td><td>Lil Tecca</td><td>trap music</td><td>180</td><td>64</td><td>75</td><td>-6</td><td>7</td><td>23</td><td>131</td><td>2</td><td>29</td><td>92</td></tr>\n",
       "<tr><td>8</td><td>How Do You Sleep?</td><td>Sam Smith</td><td>pop</td><td>111</td><td>68</td><td>48</td><td>-5</td><td>8</td><td>35</td><td>202</td><td>15</td><td>9</td><td>90</td></tr>\n",
       "<tr><td>9</td><td>Old Town Road - R...</td><td>Lil Nas X</td><td>country rap</td><td>136</td><td>62</td><td>88</td><td>-6</td><td>11</td><td>64</td><td>157</td><td>5</td><td>10</td><td>87</td></tr>\n",
       "<tr><td>10</td><td>bad guy</td><td>Billie Eilish</td><td>electropop</td><td>135</td><td>43</td><td>70</td><td>-11</td><td>10</td><td>56</td><td>194</td><td>33</td><td>38</td><td>95</td></tr>\n",
       "</table>\n",
       "only showing top 10 rows\n"
      ],
      "text/plain": [
       "+---+--------------------+-------------+--------------+--------------+------+------------+----------+--------+-------+------+------------+-----------+----------+\n",
       "| Id|           TrackName|   ArtistName|         Genre|BeatsPerMinute|Energy|Danceability|LoudnessDB|Liveness|Valence|Length|Acousticness|Speechiness|Popularity|\n",
       "+---+--------------------+-------------+--------------+--------------+------+------------+----------+--------+-------+------+------------+-----------+----------+\n",
       "|  1|            Señorita| Shawn Mendes|  canadian pop|           117|    55|          76|        -6|       8|     75|   191|           4|          3|        79|\n",
       "|  2|               China|     Anuel AA|reggaeton flow|           105|    81|          79|        -4|       8|     61|   302|           8|          9|        92|\n",
       "|  3|boyfriend (with S...|Ariana Grande|     dance pop|           190|    80|          40|        -4|      16|     70|   186|          12|         46|        85|\n",
       "|  4|Beautiful People ...|   Ed Sheeran|           pop|            93|    65|          64|        -8|       8|     55|   198|          12|         19|        86|\n",
       "|  5|Goodbyes (Feat. Y...|  Post Malone|       dfw rap|           150|    65|          58|        -4|      11|     18|   175|          45|          7|        94|\n",
       "|  6|I Don't Care (wit...|   Ed Sheeran|           pop|           102|    68|          80|        -5|       9|     84|   220|           9|          4|        84|\n",
       "|  7|              Ransom|    Lil Tecca|    trap music|           180|    64|          75|        -6|       7|     23|   131|           2|         29|        92|\n",
       "|  8|   How Do You Sleep?|    Sam Smith|           pop|           111|    68|          48|        -5|       8|     35|   202|          15|          9|        90|\n",
       "|  9|Old Town Road - R...|    Lil Nas X|   country rap|           136|    62|          88|        -6|      11|     64|   157|           5|         10|        87|\n",
       "| 10|             bad guy|Billie Eilish|    electropop|           135|    43|          70|       -11|      10|     56|   194|          33|         38|        95|\n",
       "+---+--------------------+-------------+--------------+--------------+------+------------+----------+--------+-------+------+------------+-----------+----------+\n",
       "only showing top 10 rows"
      ]
     },
     "execution_count": 42,
     "metadata": {},
     "output_type": "execute_result"
    }
   ],
   "source": [
    "df2 = spark.read.format('csv').option(\"header\", \"true\").load(path + \"Spotify\")\n",
    "df2"
   ]
  },
  {
   "cell_type": "code",
   "execution_count": 43,
   "id": "a62b3906",
   "metadata": {
    "scrolled": true
   },
   "outputs": [
    {
     "name": "stdout",
     "output_type": "stream",
     "text": [
      "root\n",
      " |-- Id: string (nullable = true)\n",
      " |-- TrackName: string (nullable = true)\n",
      " |-- ArtistName: string (nullable = true)\n",
      " |-- Genre: string (nullable = true)\n",
      " |-- BeatsPerMinute: string (nullable = true)\n",
      " |-- Energy: string (nullable = true)\n",
      " |-- Danceability: string (nullable = true)\n",
      " |-- LoudnessDB: string (nullable = true)\n",
      " |-- Liveness: string (nullable = true)\n",
      " |-- Valence: string (nullable = true)\n",
      " |-- Length: string (nullable = true)\n",
      " |-- Acousticness: string (nullable = true)\n",
      " |-- Speechiness: string (nullable = true)\n",
      " |-- Popularity: string (nullable = true)\n",
      "\n"
     ]
    }
   ],
   "source": [
    "df2.printSchema()"
   ]
  },
  {
   "cell_type": "code",
   "execution_count": 45,
   "id": "ee1a714e",
   "metadata": {},
   "outputs": [
    {
     "data": {
      "text/html": [
       "<table border='1'>\n",
       "<tr><th>Id</th><th>TrackName</th><th>ArtistName</th><th>Genre</th><th>BeatsPerMinute</th><th>Energy</th><th>Danceability</th><th>LoudnessDB</th><th>Liveness</th><th>Valence</th><th>Length</th><th>Acousticness</th><th>Speechiness</th><th>Popularity</th></tr>\n",
       "<tr><td>1</td><td>Señorita</td><td>Shawn Mendes</td><td>canadian pop</td><td>117</td><td>55</td><td>76</td><td>-6</td><td>8</td><td>75</td><td>191</td><td>4</td><td>3</td><td>79</td></tr>\n",
       "<tr><td>2</td><td>China</td><td>Anuel AA</td><td>reggaeton flow</td><td>105</td><td>81</td><td>79</td><td>-4</td><td>8</td><td>61</td><td>302</td><td>8</td><td>9</td><td>92</td></tr>\n",
       "<tr><td>3</td><td>boyfriend (with S...</td><td>Ariana Grande</td><td>dance pop</td><td>190</td><td>80</td><td>40</td><td>-4</td><td>16</td><td>70</td><td>186</td><td>12</td><td>46</td><td>85</td></tr>\n",
       "<tr><td>4</td><td>Beautiful People ...</td><td>Ed Sheeran</td><td>pop</td><td>93</td><td>65</td><td>64</td><td>-8</td><td>8</td><td>55</td><td>198</td><td>12</td><td>19</td><td>86</td></tr>\n",
       "<tr><td>5</td><td>Goodbyes (Feat. Y...</td><td>Post Malone</td><td>dfw rap</td><td>150</td><td>65</td><td>58</td><td>-4</td><td>11</td><td>18</td><td>175</td><td>45</td><td>7</td><td>94</td></tr>\n",
       "<tr><td>6</td><td>I Don&#x27;t Care (wit...</td><td>Ed Sheeran</td><td>pop</td><td>102</td><td>68</td><td>80</td><td>-5</td><td>9</td><td>84</td><td>220</td><td>9</td><td>4</td><td>84</td></tr>\n",
       "<tr><td>7</td><td>Ransom</td><td>Lil Tecca</td><td>trap music</td><td>180</td><td>64</td><td>75</td><td>-6</td><td>7</td><td>23</td><td>131</td><td>2</td><td>29</td><td>92</td></tr>\n",
       "<tr><td>8</td><td>How Do You Sleep?</td><td>Sam Smith</td><td>pop</td><td>111</td><td>68</td><td>48</td><td>-5</td><td>8</td><td>35</td><td>202</td><td>15</td><td>9</td><td>90</td></tr>\n",
       "<tr><td>9</td><td>Old Town Road - R...</td><td>Lil Nas X</td><td>country rap</td><td>136</td><td>62</td><td>88</td><td>-6</td><td>11</td><td>64</td><td>157</td><td>5</td><td>10</td><td>87</td></tr>\n",
       "<tr><td>10</td><td>bad guy</td><td>Billie Eilish</td><td>electropop</td><td>135</td><td>43</td><td>70</td><td>-11</td><td>10</td><td>56</td><td>194</td><td>33</td><td>38</td><td>95</td></tr>\n",
       "</table>\n",
       "only showing top 10 rows\n"
      ],
      "text/plain": [
       "+---+--------------------+-------------+--------------+--------------+------+------------+----------+--------+-------+------+------------+-----------+----------+\n",
       "| Id|           TrackName|   ArtistName|         Genre|BeatsPerMinute|Energy|Danceability|LoudnessDB|Liveness|Valence|Length|Acousticness|Speechiness|Popularity|\n",
       "+---+--------------------+-------------+--------------+--------------+------+------------+----------+--------+-------+------+------------+-----------+----------+\n",
       "|  1|            Señorita| Shawn Mendes|  canadian pop|           117|    55|          76|        -6|       8|     75|   191|           4|          3|        79|\n",
       "|  2|               China|     Anuel AA|reggaeton flow|           105|    81|          79|        -4|       8|     61|   302|           8|          9|        92|\n",
       "|  3|boyfriend (with S...|Ariana Grande|     dance pop|           190|    80|          40|        -4|      16|     70|   186|          12|         46|        85|\n",
       "|  4|Beautiful People ...|   Ed Sheeran|           pop|            93|    65|          64|        -8|       8|     55|   198|          12|         19|        86|\n",
       "|  5|Goodbyes (Feat. Y...|  Post Malone|       dfw rap|           150|    65|          58|        -4|      11|     18|   175|          45|          7|        94|\n",
       "|  6|I Don't Care (wit...|   Ed Sheeran|           pop|           102|    68|          80|        -5|       9|     84|   220|           9|          4|        84|\n",
       "|  7|              Ransom|    Lil Tecca|    trap music|           180|    64|          75|        -6|       7|     23|   131|           2|         29|        92|\n",
       "|  8|   How Do You Sleep?|    Sam Smith|           pop|           111|    68|          48|        -5|       8|     35|   202|          15|          9|        90|\n",
       "|  9|Old Town Road - R...|    Lil Nas X|   country rap|           136|    62|          88|        -6|      11|     64|   157|           5|         10|        87|\n",
       "| 10|             bad guy|Billie Eilish|    electropop|           135|    43|          70|       -11|      10|     56|   194|          33|         38|        95|\n",
       "+---+--------------------+-------------+--------------+--------------+------+------------+----------+--------+-------+------+------------+-----------+----------+\n",
       "only showing top 10 rows"
      ]
     },
     "execution_count": 45,
     "metadata": {},
     "output_type": "execute_result"
    }
   ],
   "source": [
    "df3 = spark.read.format('csv').option(\"header\", \"true\").option(\"inferSchema\", \"true\").load(path + \"Spotify\")\n",
    "df3"
   ]
  },
  {
   "cell_type": "code",
   "execution_count": 47,
   "id": "708feb42",
   "metadata": {},
   "outputs": [
    {
     "name": "stdout",
     "output_type": "stream",
     "text": [
      "root\n",
      " |-- Id: integer (nullable = true)\n",
      " |-- TrackName: string (nullable = true)\n",
      " |-- ArtistName: string (nullable = true)\n",
      " |-- Genre: string (nullable = true)\n",
      " |-- BeatsPerMinute: integer (nullable = true)\n",
      " |-- Energy: integer (nullable = true)\n",
      " |-- Danceability: integer (nullable = true)\n",
      " |-- LoudnessDB: integer (nullable = true)\n",
      " |-- Liveness: integer (nullable = true)\n",
      " |-- Valence: integer (nullable = true)\n",
      " |-- Length: integer (nullable = true)\n",
      " |-- Acousticness: integer (nullable = true)\n",
      " |-- Speechiness: integer (nullable = true)\n",
      " |-- Popularity: integer (nullable = true)\n",
      "\n"
     ]
    }
   ],
   "source": [
    "df3.printSchema()"
   ]
  },
  {
   "cell_type": "code",
   "execution_count": 48,
   "id": "bcfa7303",
   "metadata": {},
   "outputs": [
    {
     "name": "stderr",
     "output_type": "stream",
     "text": [
      "                                                                                \r"
     ]
    },
    {
     "data": {
      "text/html": [
       "<table border='1'>\n",
       "<tr><th>summary</th><th>Id</th><th>TrackName</th><th>ArtistName</th><th>Genre</th><th>BeatsPerMinute</th><th>Energy</th><th>Danceability</th><th>LoudnessDB</th><th>Liveness</th><th>Valence</th><th>Length</th><th>Acousticness</th><th>Speechiness</th><th>Popularity</th></tr>\n",
       "<tr><td>count</td><td>50</td><td>50</td><td>50</td><td>50</td><td>50</td><td>50</td><td>50</td><td>50</td><td>50</td><td>50</td><td>50</td><td>50</td><td>50</td><td>50</td></tr>\n",
       "<tr><td>mean</td><td>25.5</td><td>0.958333333333333</td><td>null</td><td>null</td><td>120.06</td><td>64.06</td><td>71.38</td><td>-5.66</td><td>14.66</td><td>54.6</td><td>200.96</td><td>22.16</td><td>12.48</td><td>87.5</td></tr>\n",
       "<tr><td>stddev</td><td>14.577379737113251</td><td>null</td><td>null</td><td>null</td><td>30.89839174204537</td><td>14.231912975379505</td><td>11.929880167727024</td><td>2.056448295444535</td><td>11.118306287104954</td><td>22.336023799765115</td><td>39.14387902732843</td><td>18.99555264813749</td><td>11.161595965174334</td><td>4.491488549217855</td></tr>\n",
       "<tr><td>min</td><td>1</td><td>0.958333333333333</td><td>Ali Gatie</td><td>atl hip hop</td><td>85</td><td>32</td><td>29</td><td>-11</td><td>5</td><td>10</td><td>115</td><td>1</td><td>3</td><td>70</td></tr>\n",
       "<tr><td>max</td><td>50</td><td>fuck, i&#x27;m lonely ...</td><td>Young Thug</td><td>trap music</td><td>190</td><td>88</td><td>90</td><td>-2</td><td>58</td><td>95</td><td>309</td><td>75</td><td>46</td><td>95</td></tr>\n",
       "</table>\n"
      ],
      "text/plain": [
       "+-------+------------------+--------------------+----------+-----------+-----------------+------------------+------------------+-----------------+------------------+------------------+-----------------+-----------------+------------------+-----------------+\n",
       "|summary|                Id|           TrackName|ArtistName|      Genre|   BeatsPerMinute|            Energy|      Danceability|       LoudnessDB|          Liveness|           Valence|           Length|     Acousticness|       Speechiness|       Popularity|\n",
       "+-------+------------------+--------------------+----------+-----------+-----------------+------------------+------------------+-----------------+------------------+------------------+-----------------+-----------------+------------------+-----------------+\n",
       "|  count|                50|                  50|        50|         50|               50|                50|                50|               50|                50|                50|               50|               50|                50|               50|\n",
       "|   mean|              25.5|   0.958333333333333|      null|       null|           120.06|             64.06|             71.38|            -5.66|             14.66|              54.6|           200.96|            22.16|             12.48|             87.5|\n",
       "| stddev|14.577379737113251|                null|      null|       null|30.89839174204537|14.231912975379505|11.929880167727024|2.056448295444535|11.118306287104954|22.336023799765115|39.14387902732843|18.99555264813749|11.161595965174334|4.491488549217855|\n",
       "|    min|                 1|   0.958333333333333| Ali Gatie|atl hip hop|               85|                32|                29|              -11|                 5|                10|              115|                1|                 3|               70|\n",
       "|    max|                50|fuck, i'm lonely ...|Young Thug| trap music|              190|                88|                90|               -2|                58|                95|              309|               75|                46|               95|\n",
       "+-------+------------------+--------------------+----------+-----------+-----------------+------------------+------------------+-----------------+------------------+------------------+-----------------+-----------------+------------------+-----------------+"
      ]
     },
     "execution_count": 48,
     "metadata": {},
     "output_type": "execute_result"
    }
   ],
   "source": [
    "df3.describe()"
   ]
  },
  {
   "cell_type": "code",
   "execution_count": 50,
   "id": "7ad4d8d6",
   "metadata": {
    "scrolled": true
   },
   "outputs": [
    {
     "data": {
      "text/html": [
       "<table border='1'>\n",
       "<tr><th>summary</th><th>Id</th><th>TrackName</th><th>ArtistName</th><th>Genre</th><th>BeatsPerMinute</th><th>Energy</th><th>Danceability</th><th>LoudnessDB</th><th>Liveness</th><th>Valence</th><th>Length</th><th>Acousticness</th><th>Speechiness</th><th>Popularity</th></tr>\n",
       "<tr><td>count</td><td>50</td><td>50</td><td>50</td><td>50</td><td>50</td><td>50</td><td>50</td><td>50</td><td>50</td><td>50</td><td>50</td><td>50</td><td>50</td><td>50</td></tr>\n",
       "<tr><td>mean</td><td>25.5</td><td>0.958333333333333</td><td>null</td><td>null</td><td>120.06</td><td>64.06</td><td>71.38</td><td>-5.66</td><td>14.66</td><td>54.6</td><td>200.96</td><td>22.16</td><td>12.48</td><td>87.5</td></tr>\n",
       "<tr><td>stddev</td><td>14.577379737113251</td><td>null</td><td>null</td><td>null</td><td>30.89839174204537</td><td>14.231912975379505</td><td>11.929880167727024</td><td>2.056448295444535</td><td>11.118306287104954</td><td>22.336023799765115</td><td>39.14387902732843</td><td>18.99555264813749</td><td>11.161595965174334</td><td>4.491488549217855</td></tr>\n",
       "<tr><td>min</td><td>1</td><td>0.958333333333333</td><td>Ali Gatie</td><td>atl hip hop</td><td>85</td><td>32</td><td>29</td><td>-11</td><td>5</td><td>10</td><td>115</td><td>1</td><td>3</td><td>70</td></tr>\n",
       "<tr><td>25%</td><td>13</td><td>0.958333333333333</td><td>null</td><td>null</td><td>96</td><td>55</td><td>67</td><td>-7</td><td>8</td><td>38</td><td>176</td><td>8</td><td>5</td><td>86</td></tr>\n",
       "<tr><td>50%</td><td>25</td><td>0.958333333333333</td><td>null</td><td>null</td><td>104</td><td>65</td><td>73</td><td>-6</td><td>11</td><td>55</td><td>198</td><td>15</td><td>7</td><td>88</td></tr>\n",
       "<tr><td>75%</td><td>38</td><td>0.958333333333333</td><td>null</td><td>null</td><td>138</td><td>75</td><td>80</td><td>-4</td><td>16</td><td>70</td><td>218</td><td>34</td><td>15</td><td>91</td></tr>\n",
       "<tr><td>max</td><td>50</td><td>fuck, i&#x27;m lonely ...</td><td>Young Thug</td><td>trap music</td><td>190</td><td>88</td><td>90</td><td>-2</td><td>58</td><td>95</td><td>309</td><td>75</td><td>46</td><td>95</td></tr>\n",
       "</table>\n"
      ],
      "text/plain": [
       "+-------+------------------+--------------------+----------+-----------+-----------------+------------------+------------------+-----------------+------------------+------------------+-----------------+-----------------+------------------+-----------------+\n",
       "|summary|                Id|           TrackName|ArtistName|      Genre|   BeatsPerMinute|            Energy|      Danceability|       LoudnessDB|          Liveness|           Valence|           Length|     Acousticness|       Speechiness|       Popularity|\n",
       "+-------+------------------+--------------------+----------+-----------+-----------------+------------------+------------------+-----------------+------------------+------------------+-----------------+-----------------+------------------+-----------------+\n",
       "|  count|                50|                  50|        50|         50|               50|                50|                50|               50|                50|                50|               50|               50|                50|               50|\n",
       "|   mean|              25.5|   0.958333333333333|      null|       null|           120.06|             64.06|             71.38|            -5.66|             14.66|              54.6|           200.96|            22.16|             12.48|             87.5|\n",
       "| stddev|14.577379737113251|                null|      null|       null|30.89839174204537|14.231912975379505|11.929880167727024|2.056448295444535|11.118306287104954|22.336023799765115|39.14387902732843|18.99555264813749|11.161595965174334|4.491488549217855|\n",
       "|    min|                 1|   0.958333333333333| Ali Gatie|atl hip hop|               85|                32|                29|              -11|                 5|                10|              115|                1|                 3|               70|\n",
       "|    25%|                13|   0.958333333333333|      null|       null|               96|                55|                67|               -7|                 8|                38|              176|                8|                 5|               86|\n",
       "|    50%|                25|   0.958333333333333|      null|       null|              104|                65|                73|               -6|                11|                55|              198|               15|                 7|               88|\n",
       "|    75%|                38|   0.958333333333333|      null|       null|              138|                75|                80|               -4|                16|                70|              218|               34|                15|               91|\n",
       "|    max|                50|fuck, i'm lonely ...|Young Thug| trap music|              190|                88|                90|               -2|                58|                95|              309|               75|                46|               95|\n",
       "+-------+------------------+--------------------+----------+-----------+-----------------+------------------+------------------+-----------------+------------------+------------------+-----------------+-----------------+------------------+-----------------+"
      ]
     },
     "execution_count": 50,
     "metadata": {},
     "output_type": "execute_result"
    }
   ],
   "source": [
    "df3.summary()"
   ]
  },
  {
   "cell_type": "code",
   "execution_count": 51,
   "id": "61b4b0af",
   "metadata": {},
   "outputs": [
    {
     "data": {
      "text/html": [
       "<table border='1'>\n",
       "<tr><th>Trackname</th><th>length</th></tr>\n",
       "<tr><td>Señorita</td><td>191</td></tr>\n",
       "<tr><td>China</td><td>302</td></tr>\n",
       "<tr><td>boyfriend (with S...</td><td>186</td></tr>\n",
       "<tr><td>Beautiful People ...</td><td>198</td></tr>\n",
       "<tr><td>Goodbyes (Feat. Y...</td><td>175</td></tr>\n",
       "<tr><td>I Don&#x27;t Care (wit...</td><td>220</td></tr>\n",
       "<tr><td>Ransom</td><td>131</td></tr>\n",
       "<tr><td>How Do You Sleep?</td><td>202</td></tr>\n",
       "<tr><td>Old Town Road - R...</td><td>157</td></tr>\n",
       "<tr><td>bad guy</td><td>194</td></tr>\n",
       "</table>\n",
       "only showing top 10 rows\n"
      ],
      "text/plain": [
       "+--------------------+------+\n",
       "|           Trackname|length|\n",
       "+--------------------+------+\n",
       "|            Señorita|   191|\n",
       "|               China|   302|\n",
       "|boyfriend (with S...|   186|\n",
       "|Beautiful People ...|   198|\n",
       "|Goodbyes (Feat. Y...|   175|\n",
       "|I Don't Care (wit...|   220|\n",
       "|              Ransom|   131|\n",
       "|   How Do You Sleep?|   202|\n",
       "|Old Town Road - R...|   157|\n",
       "|             bad guy|   194|\n",
       "+--------------------+------+\n",
       "only showing top 10 rows"
      ]
     },
     "execution_count": 51,
     "metadata": {},
     "output_type": "execute_result"
    }
   ],
   "source": [
    "df3.select('Trackname', 'length')"
   ]
  },
  {
   "cell_type": "code",
   "execution_count": 52,
   "id": "a294761d",
   "metadata": {},
   "outputs": [
    {
     "data": {
      "text/html": [
       "<table border='1'>\n",
       "<tr><th>Trackname</th></tr>\n",
       "<tr><td>Señorita</td></tr>\n",
       "<tr><td>China</td></tr>\n",
       "<tr><td>boyfriend (with S...</td></tr>\n",
       "<tr><td>Beautiful People ...</td></tr>\n",
       "<tr><td>Goodbyes (Feat. Y...</td></tr>\n",
       "<tr><td>I Don&#x27;t Care (wit...</td></tr>\n",
       "<tr><td>Ransom</td></tr>\n",
       "<tr><td>How Do You Sleep?</td></tr>\n",
       "<tr><td>Old Town Road - R...</td></tr>\n",
       "<tr><td>bad guy</td></tr>\n",
       "</table>\n",
       "only showing top 10 rows\n"
      ],
      "text/plain": [
       "+--------------------+\n",
       "|           Trackname|\n",
       "+--------------------+\n",
       "|            Señorita|\n",
       "|               China|\n",
       "|boyfriend (with S...|\n",
       "|Beautiful People ...|\n",
       "|Goodbyes (Feat. Y...|\n",
       "|I Don't Care (wit...|\n",
       "|              Ransom|\n",
       "|   How Do You Sleep?|\n",
       "|Old Town Road - R...|\n",
       "|             bad guy|\n",
       "+--------------------+\n",
       "only showing top 10 rows"
      ]
     },
     "execution_count": 52,
     "metadata": {},
     "output_type": "execute_result"
    }
   ],
   "source": [
    "df3.select(df3['Trackname'])"
   ]
  },
  {
   "cell_type": "code",
   "execution_count": 53,
   "id": "0bbf3702",
   "metadata": {},
   "outputs": [],
   "source": [
    "from pyspark.sql.functions import col"
   ]
  },
  {
   "cell_type": "code",
   "execution_count": 56,
   "id": "7ae70445",
   "metadata": {},
   "outputs": [
    {
     "data": {
      "text/html": [
       "<table border='1'>\n",
       "<tr><th>Trackname</th></tr>\n",
       "<tr><td>Señorita</td></tr>\n",
       "<tr><td>China</td></tr>\n",
       "<tr><td>boyfriend (with S...</td></tr>\n",
       "<tr><td>Beautiful People ...</td></tr>\n",
       "<tr><td>Goodbyes (Feat. Y...</td></tr>\n",
       "<tr><td>I Don&#x27;t Care (wit...</td></tr>\n",
       "<tr><td>Ransom</td></tr>\n",
       "<tr><td>How Do You Sleep?</td></tr>\n",
       "<tr><td>Old Town Road - R...</td></tr>\n",
       "<tr><td>bad guy</td></tr>\n",
       "</table>\n",
       "only showing top 10 rows\n"
      ],
      "text/plain": [
       "+--------------------+\n",
       "|           Trackname|\n",
       "+--------------------+\n",
       "|            Señorita|\n",
       "|               China|\n",
       "|boyfriend (with S...|\n",
       "|Beautiful People ...|\n",
       "|Goodbyes (Feat. Y...|\n",
       "|I Don't Care (wit...|\n",
       "|              Ransom|\n",
       "|   How Do You Sleep?|\n",
       "|Old Town Road - R...|\n",
       "|             bad guy|\n",
       "+--------------------+\n",
       "only showing top 10 rows"
      ]
     },
     "execution_count": 56,
     "metadata": {},
     "output_type": "execute_result"
    }
   ],
   "source": [
    "df3.select(col('Trackname'))"
   ]
  },
  {
   "cell_type": "code",
   "execution_count": 58,
   "id": "2b7231c6",
   "metadata": {},
   "outputs": [
    {
     "data": {
      "text/html": [
       "<table border='1'>\n",
       "<tr><th>Nombre de canciones</th></tr>\n",
       "<tr><td>Señorita</td></tr>\n",
       "<tr><td>China</td></tr>\n",
       "<tr><td>boyfriend (with S...</td></tr>\n",
       "<tr><td>Beautiful People ...</td></tr>\n",
       "<tr><td>Goodbyes (Feat. Y...</td></tr>\n",
       "<tr><td>I Don&#x27;t Care (wit...</td></tr>\n",
       "<tr><td>Ransom</td></tr>\n",
       "<tr><td>How Do You Sleep?</td></tr>\n",
       "<tr><td>Old Town Road - R...</td></tr>\n",
       "<tr><td>bad guy</td></tr>\n",
       "</table>\n",
       "only showing top 10 rows\n"
      ],
      "text/plain": [
       "+--------------------+\n",
       "| Nombre de canciones|\n",
       "+--------------------+\n",
       "|            Señorita|\n",
       "|               China|\n",
       "|boyfriend (with S...|\n",
       "|Beautiful People ...|\n",
       "|Goodbyes (Feat. Y...|\n",
       "|I Don't Care (wit...|\n",
       "|              Ransom|\n",
       "|   How Do You Sleep?|\n",
       "|Old Town Road - R...|\n",
       "|             bad guy|\n",
       "+--------------------+\n",
       "only showing top 10 rows"
      ]
     },
     "execution_count": 58,
     "metadata": {},
     "output_type": "execute_result"
    }
   ],
   "source": [
    "df3.select(col('Trackname').alias('Nombre de canciones'))"
   ]
  },
  {
   "cell_type": "code",
   "execution_count": null,
   "id": "09cbbe07",
   "metadata": {},
   "outputs": [],
   "source": [
    "df3.select(col('Trackname').alias('Nombre de canciones'))"
   ]
  },
  {
   "cell_type": "code",
   "execution_count": 59,
   "id": "3eb292f9",
   "metadata": {},
   "outputs": [
    {
     "data": {
      "text/html": [
       "<table border='1'>\n",
       "<tr><th>Id</th><th>TrackName</th><th>ArtistName</th><th>Genre</th><th>BeatsPerMinute</th><th>Energy</th><th>Danceability</th><th>LoudnessDB</th><th>Liveness</th><th>Valence</th><th>Length</th><th>Acousticness</th><th>Speechiness</th><th>Popularity</th></tr>\n",
       "<tr><td>4</td><td>Beautiful People ...</td><td>Ed Sheeran</td><td>pop</td><td>93</td><td>65</td><td>64</td><td>-8</td><td>8</td><td>55</td><td>198</td><td>12</td><td>19</td><td>86</td></tr>\n",
       "<tr><td>6</td><td>I Don&#x27;t Care (wit...</td><td>Ed Sheeran</td><td>pop</td><td>102</td><td>68</td><td>80</td><td>-5</td><td>9</td><td>84</td><td>220</td><td>9</td><td>4</td><td>84</td></tr>\n",
       "<tr><td>8</td><td>How Do You Sleep?</td><td>Sam Smith</td><td>pop</td><td>111</td><td>68</td><td>48</td><td>-5</td><td>8</td><td>35</td><td>202</td><td>15</td><td>9</td><td>90</td></tr>\n",
       "<tr><td>13</td><td>Someone You Loved</td><td>Lewis Capaldi</td><td>pop</td><td>110</td><td>41</td><td>50</td><td>-6</td><td>11</td><td>45</td><td>182</td><td>75</td><td>3</td><td>88</td></tr>\n",
       "<tr><td>38</td><td>Antisocial (with ...</td><td>Ed Sheeran</td><td>pop</td><td>152</td><td>82</td><td>72</td><td>-5</td><td>36</td><td>91</td><td>162</td><td>13</td><td>5</td><td>87</td></tr>\n",
       "<tr><td>44</td><td>Talk</td><td>Khalid</td><td>pop</td><td>136</td><td>40</td><td>90</td><td>-9</td><td>6</td><td>35</td><td>198</td><td>5</td><td>13</td><td>84</td></tr>\n",
       "<tr><td>50</td><td>Cross Me (feat. C...</td><td>Ed Sheeran</td><td>pop</td><td>95</td><td>79</td><td>75</td><td>-6</td><td>7</td><td>61</td><td>206</td><td>21</td><td>12</td><td>82</td></tr>\n",
       "</table>\n"
      ],
      "text/plain": [
       "+---+--------------------+-------------+-----+--------------+------+------------+----------+--------+-------+------+------------+-----------+----------+\n",
       "| Id|           TrackName|   ArtistName|Genre|BeatsPerMinute|Energy|Danceability|LoudnessDB|Liveness|Valence|Length|Acousticness|Speechiness|Popularity|\n",
       "+---+--------------------+-------------+-----+--------------+------+------------+----------+--------+-------+------+------------+-----------+----------+\n",
       "|  4|Beautiful People ...|   Ed Sheeran|  pop|            93|    65|          64|        -8|       8|     55|   198|          12|         19|        86|\n",
       "|  6|I Don't Care (wit...|   Ed Sheeran|  pop|           102|    68|          80|        -5|       9|     84|   220|           9|          4|        84|\n",
       "|  8|   How Do You Sleep?|    Sam Smith|  pop|           111|    68|          48|        -5|       8|     35|   202|          15|          9|        90|\n",
       "| 13|   Someone You Loved|Lewis Capaldi|  pop|           110|    41|          50|        -6|      11|     45|   182|          75|          3|        88|\n",
       "| 38|Antisocial (with ...|   Ed Sheeran|  pop|           152|    82|          72|        -5|      36|     91|   162|          13|          5|        87|\n",
       "| 44|                Talk|       Khalid|  pop|           136|    40|          90|        -9|       6|     35|   198|           5|         13|        84|\n",
       "| 50|Cross Me (feat. C...|   Ed Sheeran|  pop|            95|    79|          75|        -6|       7|     61|   206|          21|         12|        82|\n",
       "+---+--------------------+-------------+-----+--------------+------+------------+----------+--------+-------+------+------------+-----------+----------+"
      ]
     },
     "execution_count": 59,
     "metadata": {},
     "output_type": "execute_result"
    }
   ],
   "source": [
    "df3.filter(df3['Genre'] == 'pop')"
   ]
  },
  {
   "cell_type": "code",
   "execution_count": 62,
   "id": "aded86cd",
   "metadata": {},
   "outputs": [],
   "source": [
    "from pyspark.sql.functions import expr"
   ]
  },
  {
   "cell_type": "code",
   "execution_count": 63,
   "id": "9f1293a5",
   "metadata": {},
   "outputs": [
    {
     "data": {
      "text/html": [
       "<table border='1'>\n",
       "<tr><th>Id</th><th>TrackName</th><th>ArtistName</th><th>Genre</th><th>BeatsPerMinute</th><th>Energy</th><th>Danceability</th><th>LoudnessDB</th><th>Liveness</th><th>Valence</th><th>Length</th><th>Acousticness</th><th>Speechiness</th><th>Popularity</th></tr>\n",
       "<tr><td>2</td><td>China</td><td>Anuel AA</td><td>reggaeton flow</td><td>105</td><td>81</td><td>79</td><td>-4</td><td>8</td><td>61</td><td>302</td><td>8</td><td>9</td><td>92</td></tr>\n",
       "<tr><td>23</td><td>No Me Conoce - Remix</td><td>Jhay Cortez</td><td>reggaeton flow</td><td>92</td><td>79</td><td>81</td><td>-4</td><td>9</td><td>58</td><td>309</td><td>14</td><td>7</td><td>83</td></tr>\n",
       "</table>\n"
      ],
      "text/plain": [
       "+---+--------------------+-----------+--------------+--------------+------+------------+----------+--------+-------+------+------------+-----------+----------+\n",
       "| Id|           TrackName| ArtistName|         Genre|BeatsPerMinute|Energy|Danceability|LoudnessDB|Liveness|Valence|Length|Acousticness|Speechiness|Popularity|\n",
       "+---+--------------------+-----------+--------------+--------------+------+------------+----------+--------+-------+------+------------+-----------+----------+\n",
       "|  2|               China|   Anuel AA|reggaeton flow|           105|    81|          79|        -4|       8|     61|   302|           8|          9|        92|\n",
       "| 23|No Me Conoce - Remix|Jhay Cortez|reggaeton flow|            92|    79|          81|        -4|       9|     58|   309|          14|          7|        83|\n",
       "+---+--------------------+-----------+--------------+--------------+------+------------+----------+--------+-------+------+------------+-----------+----------+"
      ]
     },
     "execution_count": 63,
     "metadata": {},
     "output_type": "execute_result"
    }
   ],
   "source": [
    "df3.filter(col('Genre') == 'reggaeton flow')"
   ]
  },
  {
   "cell_type": "code",
   "execution_count": 65,
   "id": "cbbad0ab",
   "metadata": {},
   "outputs": [
    {
     "data": {
      "text/html": [
       "<table border='1'>\n",
       "<tr><th>Id</th><th>TrackName</th><th>ArtistName</th><th>Genre</th><th>BeatsPerMinute</th><th>Energy</th><th>Danceability</th><th>LoudnessDB</th><th>Liveness</th><th>Valence</th><th>Length</th><th>Acousticness</th><th>Speechiness</th><th>Popularity</th></tr>\n",
       "<tr><td>34</td><td>The London (feat....</td><td>Young Thug</td><td>atl hip hop</td><td>98</td><td>59</td><td>80</td><td>-7</td><td>13</td><td>18</td><td>200</td><td>2</td><td>15</td><td>89</td></tr>\n",
       "<tr><td>19</td><td>Lalala</td><td>Y2K</td><td>canadian hip hop</td><td>130</td><td>39</td><td>84</td><td>-8</td><td>14</td><td>50</td><td>161</td><td>18</td><td>8</td><td>88</td></tr>\n",
       "<tr><td>27</td><td>Dance Monkey</td><td>Tones and I</td><td>australian pop</td><td>98</td><td>59</td><td>82</td><td>-6</td><td>18</td><td>54</td><td>210</td><td>69</td><td>10</td><td>83</td></tr>\n",
       "<tr><td>31</td><td>Takeaway</td><td>The Chainsmokers</td><td>edm</td><td>85</td><td>51</td><td>29</td><td>-8</td><td>10</td><td>36</td><td>210</td><td>12</td><td>4</td><td>84</td></tr>\n",
       "<tr><td>49</td><td>Call You Mine</td><td>The Chainsmokers</td><td>edm</td><td>104</td><td>70</td><td>59</td><td>-6</td><td>41</td><td>50</td><td>218</td><td>23</td><td>3</td><td>88</td></tr>\n",
       "<tr><td>42</td><td>You Need To Calm ...</td><td>Taylor Swift</td><td>dance pop</td><td>85</td><td>68</td><td>77</td><td>-6</td><td>7</td><td>73</td><td>171</td><td>1</td><td>5</td><td>90</td></tr>\n",
       "<tr><td>1</td><td>Señorita</td><td>Shawn Mendes</td><td>canadian pop</td><td>117</td><td>55</td><td>76</td><td>-6</td><td>8</td><td>75</td><td>191</td><td>4</td><td>3</td><td>79</td></tr>\n",
       "<tr><td>26</td><td>If I Can&#x27;t Have You</td><td>Shawn Mendes</td><td>canadian pop</td><td>124</td><td>82</td><td>69</td><td>-4</td><td>13</td><td>87</td><td>191</td><td>49</td><td>6</td><td>70</td></tr>\n",
       "<tr><td>14</td><td>Otro Trago - Remix</td><td>Sech</td><td>panamanian pop</td><td>176</td><td>79</td><td>73</td><td>-2</td><td>6</td><td>76</td><td>288</td><td>7</td><td>20</td><td>87</td></tr>\n",
       "<tr><td>37</td><td>Otro Trago</td><td>Sech</td><td>panamanian pop</td><td>176</td><td>70</td><td>75</td><td>-5</td><td>11</td><td>62</td><td>226</td><td>14</td><td>34</td><td>91</td></tr>\n",
       "</table>\n",
       "only showing top 10 rows\n"
      ],
      "text/plain": [
       "+---+--------------------+----------------+----------------+--------------+------+------------+----------+--------+-------+------+------------+-----------+----------+\n",
       "| Id|           TrackName|      ArtistName|           Genre|BeatsPerMinute|Energy|Danceability|LoudnessDB|Liveness|Valence|Length|Acousticness|Speechiness|Popularity|\n",
       "+---+--------------------+----------------+----------------+--------------+------+------------+----------+--------+-------+------+------------+-----------+----------+\n",
       "| 34|The London (feat....|      Young Thug|     atl hip hop|            98|    59|          80|        -7|      13|     18|   200|           2|         15|        89|\n",
       "| 19|              Lalala|             Y2K|canadian hip hop|           130|    39|          84|        -8|      14|     50|   161|          18|          8|        88|\n",
       "| 27|        Dance Monkey|     Tones and I|  australian pop|            98|    59|          82|        -6|      18|     54|   210|          69|         10|        83|\n",
       "| 31|            Takeaway|The Chainsmokers|             edm|            85|    51|          29|        -8|      10|     36|   210|          12|          4|        84|\n",
       "| 49|       Call You Mine|The Chainsmokers|             edm|           104|    70|          59|        -6|      41|     50|   218|          23|          3|        88|\n",
       "| 42|You Need To Calm ...|    Taylor Swift|       dance pop|            85|    68|          77|        -6|       7|     73|   171|           1|          5|        90|\n",
       "|  1|            Señorita|    Shawn Mendes|    canadian pop|           117|    55|          76|        -6|       8|     75|   191|           4|          3|        79|\n",
       "| 26| If I Can't Have You|    Shawn Mendes|    canadian pop|           124|    82|          69|        -4|      13|     87|   191|          49|          6|        70|\n",
       "| 14|  Otro Trago - Remix|            Sech|  panamanian pop|           176|    79|          73|        -2|       6|     76|   288|           7|         20|        87|\n",
       "| 37|          Otro Trago|            Sech|  panamanian pop|           176|    70|          75|        -5|      11|     62|   226|          14|         34|        91|\n",
       "+---+--------------------+----------------+----------------+--------------+------+------------+----------+--------+-------+------+------------+-----------+----------+\n",
       "only showing top 10 rows"
      ]
     },
     "execution_count": 65,
     "metadata": {},
     "output_type": "execute_result"
    }
   ],
   "source": [
    "df3.orderBy('ArtistName', ascending = False)"
   ]
  },
  {
   "cell_type": "code",
   "execution_count": 66,
   "id": "910ad34f",
   "metadata": {},
   "outputs": [
    {
     "name": "stderr",
     "output_type": "stream",
     "text": [
      "                                                                                \r"
     ]
    },
    {
     "data": {
      "text/html": [
       "<table border='1'>\n",
       "<tr><th>Genre</th><th>count</th></tr>\n",
       "<tr><td>boy band</td><td>1</td></tr>\n",
       "<tr><td>electropop</td><td>2</td></tr>\n",
       "<tr><td>pop</td><td>7</td></tr>\n",
       "<tr><td>brostep</td><td>2</td></tr>\n",
       "<tr><td>big room</td><td>1</td></tr>\n",
       "<tr><td>pop house</td><td>1</td></tr>\n",
       "<tr><td>australian pop</td><td>1</td></tr>\n",
       "<tr><td>edm</td><td>3</td></tr>\n",
       "<tr><td>r&amp;b en espanol</td><td>1</td></tr>\n",
       "<tr><td>dance pop</td><td>8</td></tr>\n",
       "</table>\n",
       "only showing top 10 rows\n"
      ],
      "text/plain": [
       "+--------------+-----+\n",
       "|         Genre|count|\n",
       "+--------------+-----+\n",
       "|      boy band|    1|\n",
       "|    electropop|    2|\n",
       "|           pop|    7|\n",
       "|       brostep|    2|\n",
       "|      big room|    1|\n",
       "|     pop house|    1|\n",
       "|australian pop|    1|\n",
       "|           edm|    3|\n",
       "|r&b en espanol|    1|\n",
       "|     dance pop|    8|\n",
       "+--------------+-----+\n",
       "only showing top 10 rows"
      ]
     },
     "execution_count": 66,
     "metadata": {},
     "output_type": "execute_result"
    }
   ],
   "source": [
    "df3.groupBy('Genre').count()"
   ]
  },
  {
   "cell_type": "code",
   "execution_count": 74,
   "id": "9c3fe659",
   "metadata": {},
   "outputs": [
    {
     "data": {
      "text/html": [
       "<table border='1'>\n",
       "<tr><th>Genre</th><th>Count</th></tr>\n",
       "<tr><td>boy band</td><td>1</td></tr>\n",
       "<tr><td>electropop</td><td>2</td></tr>\n",
       "<tr><td>pop</td><td>7</td></tr>\n",
       "<tr><td>brostep</td><td>2</td></tr>\n",
       "<tr><td>big room</td><td>1</td></tr>\n",
       "<tr><td>pop house</td><td>1</td></tr>\n",
       "<tr><td>australian pop</td><td>1</td></tr>\n",
       "<tr><td>edm</td><td>3</td></tr>\n",
       "<tr><td>r&amp;b en espanol</td><td>1</td></tr>\n",
       "<tr><td>dance pop</td><td>8</td></tr>\n",
       "</table>\n",
       "only showing top 10 rows\n"
      ],
      "text/plain": [
       "+--------------+-----+\n",
       "|         Genre|Count|\n",
       "+--------------+-----+\n",
       "|      boy band|    1|\n",
       "|    electropop|    2|\n",
       "|           pop|    7|\n",
       "|       brostep|    2|\n",
       "|      big room|    1|\n",
       "|     pop house|    1|\n",
       "|australian pop|    1|\n",
       "|           edm|    3|\n",
       "|r&b en espanol|    1|\n",
       "|     dance pop|    8|\n",
       "+--------------+-----+\n",
       "only showing top 10 rows"
      ]
     },
     "execution_count": 74,
     "metadata": {},
     "output_type": "execute_result"
    }
   ],
   "source": [
    "from pyspark.sql.functions import max, count\n",
    "df3.groupBy('Genre').agg(count('*').alias('Count'))"
   ]
  },
  {
   "cell_type": "code",
   "execution_count": 75,
   "id": "ac746164",
   "metadata": {},
   "outputs": [
    {
     "name": "stderr",
     "output_type": "stream",
     "text": [
      "                                                                                \r"
     ]
    },
    {
     "data": {
      "text/html": [
       "<table border='1'>\n",
       "<tr><th>Genre</th><th>count</th></tr>\n",
       "<tr><td>dance pop</td><td>8</td></tr>\n",
       "<tr><td>pop</td><td>7</td></tr>\n",
       "<tr><td>latin</td><td>5</td></tr>\n",
       "<tr><td>canadian hip hop</td><td>3</td></tr>\n",
       "<tr><td>edm</td><td>3</td></tr>\n",
       "<tr><td>country rap</td><td>2</td></tr>\n",
       "<tr><td>canadian pop</td><td>2</td></tr>\n",
       "<tr><td>panamanian pop</td><td>2</td></tr>\n",
       "<tr><td>electropop</td><td>2</td></tr>\n",
       "<tr><td>brostep</td><td>2</td></tr>\n",
       "</table>\n",
       "only showing top 10 rows\n"
      ],
      "text/plain": [
       "+----------------+-----+\n",
       "|           Genre|count|\n",
       "+----------------+-----+\n",
       "|       dance pop|    8|\n",
       "|             pop|    7|\n",
       "|           latin|    5|\n",
       "|canadian hip hop|    3|\n",
       "|             edm|    3|\n",
       "|    canadian pop|    2|\n",
       "|       reggaeton|    2|\n",
       "|  reggaeton flow|    2|\n",
       "|      electropop|    2|\n",
       "|         brostep|    2|\n",
       "+----------------+-----+\n",
       "only showing top 10 rows"
      ]
     },
     "execution_count": 75,
     "metadata": {},
     "output_type": "execute_result"
    }
   ],
   "source": [
    "df3.groupBy('Genre').count().orderBy(col('count').desc())"
   ]
  },
  {
   "cell_type": "code",
   "execution_count": 77,
   "id": "230b8ac7",
   "metadata": {},
   "outputs": [
    {
     "data": {
      "text/html": [
       "<table border='1'>\n",
       "<tr><th>Genre</th><th>Recuento</th><th>Energia maxima</th></tr>\n",
       "<tr><td>boy band</td><td>1</td><td>73</td></tr>\n",
       "<tr><td>electropop</td><td>2</td><td>45</td></tr>\n",
       "<tr><td>pop</td><td>7</td><td>82</td></tr>\n",
       "<tr><td>brostep</td><td>2</td><td>79</td></tr>\n",
       "<tr><td>big room</td><td>1</td><td>72</td></tr>\n",
       "<tr><td>pop house</td><td>1</td><td>74</td></tr>\n",
       "<tr><td>australian pop</td><td>1</td><td>59</td></tr>\n",
       "<tr><td>edm</td><td>3</td><td>70</td></tr>\n",
       "<tr><td>r&amp;b en espanol</td><td>1</td><td>69</td></tr>\n",
       "<tr><td>dance pop</td><td>8</td><td>88</td></tr>\n",
       "</table>\n",
       "only showing top 10 rows\n"
      ],
      "text/plain": [
       "+--------------+--------+--------------+\n",
       "|         Genre|Recuento|Energia maxima|\n",
       "+--------------+--------+--------------+\n",
       "|      boy band|       1|            73|\n",
       "|    electropop|       2|            45|\n",
       "|           pop|       7|            82|\n",
       "|       brostep|       2|            79|\n",
       "|      big room|       1|            72|\n",
       "|     pop house|       1|            74|\n",
       "|australian pop|       1|            59|\n",
       "|           edm|       3|            70|\n",
       "|r&b en espanol|       1|            69|\n",
       "|     dance pop|       8|            88|\n",
       "+--------------+--------+--------------+\n",
       "only showing top 10 rows"
      ]
     },
     "execution_count": 77,
     "metadata": {},
     "output_type": "execute_result"
    }
   ],
   "source": [
    "df3.groupBy('Genre').agg(count('*').alias('Recuento'), max('Energy').alias('Energia maxima'))"
   ]
  },
  {
   "cell_type": "code",
   "execution_count": 78,
   "id": "a9205bd9",
   "metadata": {},
   "outputs": [
    {
     "data": {
      "text/html": [
       "<table border='1'>\n",
       "<tr><th>Id</th><th>TrackName</th><th>ArtistName</th><th>Genre</th><th>BeatsPerMinute</th><th>Energy</th><th>Danceability</th><th>LoudnessDB</th><th>Liveness</th><th>Valence</th><th>Length</th><th>Acousticness</th><th>Speechiness</th><th>Popularity</th><th>Beats+Energy</th></tr>\n",
       "<tr><td>1</td><td>Señorita</td><td>Shawn Mendes</td><td>canadian pop</td><td>117</td><td>55</td><td>76</td><td>-6</td><td>8</td><td>75</td><td>191</td><td>4</td><td>3</td><td>79</td><td>172</td></tr>\n",
       "<tr><td>2</td><td>China</td><td>Anuel AA</td><td>reggaeton flow</td><td>105</td><td>81</td><td>79</td><td>-4</td><td>8</td><td>61</td><td>302</td><td>8</td><td>9</td><td>92</td><td>186</td></tr>\n",
       "<tr><td>3</td><td>boyfriend (with S...</td><td>Ariana Grande</td><td>dance pop</td><td>190</td><td>80</td><td>40</td><td>-4</td><td>16</td><td>70</td><td>186</td><td>12</td><td>46</td><td>85</td><td>270</td></tr>\n",
       "<tr><td>4</td><td>Beautiful People ...</td><td>Ed Sheeran</td><td>pop</td><td>93</td><td>65</td><td>64</td><td>-8</td><td>8</td><td>55</td><td>198</td><td>12</td><td>19</td><td>86</td><td>158</td></tr>\n",
       "<tr><td>5</td><td>Goodbyes (Feat. Y...</td><td>Post Malone</td><td>dfw rap</td><td>150</td><td>65</td><td>58</td><td>-4</td><td>11</td><td>18</td><td>175</td><td>45</td><td>7</td><td>94</td><td>215</td></tr>\n",
       "<tr><td>6</td><td>I Don&#x27;t Care (wit...</td><td>Ed Sheeran</td><td>pop</td><td>102</td><td>68</td><td>80</td><td>-5</td><td>9</td><td>84</td><td>220</td><td>9</td><td>4</td><td>84</td><td>170</td></tr>\n",
       "<tr><td>7</td><td>Ransom</td><td>Lil Tecca</td><td>trap music</td><td>180</td><td>64</td><td>75</td><td>-6</td><td>7</td><td>23</td><td>131</td><td>2</td><td>29</td><td>92</td><td>244</td></tr>\n",
       "<tr><td>8</td><td>How Do You Sleep?</td><td>Sam Smith</td><td>pop</td><td>111</td><td>68</td><td>48</td><td>-5</td><td>8</td><td>35</td><td>202</td><td>15</td><td>9</td><td>90</td><td>179</td></tr>\n",
       "<tr><td>9</td><td>Old Town Road - R...</td><td>Lil Nas X</td><td>country rap</td><td>136</td><td>62</td><td>88</td><td>-6</td><td>11</td><td>64</td><td>157</td><td>5</td><td>10</td><td>87</td><td>198</td></tr>\n",
       "<tr><td>10</td><td>bad guy</td><td>Billie Eilish</td><td>electropop</td><td>135</td><td>43</td><td>70</td><td>-11</td><td>10</td><td>56</td><td>194</td><td>33</td><td>38</td><td>95</td><td>178</td></tr>\n",
       "</table>\n",
       "only showing top 10 rows\n"
      ],
      "text/plain": [
       "+---+--------------------+-------------+--------------+--------------+------+------------+----------+--------+-------+------+------------+-----------+----------+------------+\n",
       "| Id|           TrackName|   ArtistName|         Genre|BeatsPerMinute|Energy|Danceability|LoudnessDB|Liveness|Valence|Length|Acousticness|Speechiness|Popularity|Beats+Energy|\n",
       "+---+--------------------+-------------+--------------+--------------+------+------------+----------+--------+-------+------+------------+-----------+----------+------------+\n",
       "|  1|            Señorita| Shawn Mendes|  canadian pop|           117|    55|          76|        -6|       8|     75|   191|           4|          3|        79|         172|\n",
       "|  2|               China|     Anuel AA|reggaeton flow|           105|    81|          79|        -4|       8|     61|   302|           8|          9|        92|         186|\n",
       "|  3|boyfriend (with S...|Ariana Grande|     dance pop|           190|    80|          40|        -4|      16|     70|   186|          12|         46|        85|         270|\n",
       "|  4|Beautiful People ...|   Ed Sheeran|           pop|            93|    65|          64|        -8|       8|     55|   198|          12|         19|        86|         158|\n",
       "|  5|Goodbyes (Feat. Y...|  Post Malone|       dfw rap|           150|    65|          58|        -4|      11|     18|   175|          45|          7|        94|         215|\n",
       "|  6|I Don't Care (wit...|   Ed Sheeran|           pop|           102|    68|          80|        -5|       9|     84|   220|           9|          4|        84|         170|\n",
       "|  7|              Ransom|    Lil Tecca|    trap music|           180|    64|          75|        -6|       7|     23|   131|           2|         29|        92|         244|\n",
       "|  8|   How Do You Sleep?|    Sam Smith|           pop|           111|    68|          48|        -5|       8|     35|   202|          15|          9|        90|         179|\n",
       "|  9|Old Town Road - R...|    Lil Nas X|   country rap|           136|    62|          88|        -6|      11|     64|   157|           5|         10|        87|         198|\n",
       "| 10|             bad guy|Billie Eilish|    electropop|           135|    43|          70|       -11|      10|     56|   194|          33|         38|        95|         178|\n",
       "+---+--------------------+-------------+--------------+--------------+------+------------+----------+--------+-------+------+------------+-----------+----------+------------+\n",
       "only showing top 10 rows"
      ]
     },
     "execution_count": 78,
     "metadata": {},
     "output_type": "execute_result"
    }
   ],
   "source": [
    "df3.withColumn('Beats+Energy', (col('BeatsPerMinute') + col('Energy')))"
   ]
  },
  {
   "cell_type": "markdown",
   "id": "83582abe",
   "metadata": {},
   "source": [
    "### Operaciones de tipo JOIN"
   ]
  },
  {
   "cell_type": "code",
   "execution_count": 79,
   "id": "85736e3a",
   "metadata": {},
   "outputs": [
    {
     "name": "stdout",
     "output_type": "stream",
     "text": [
      "file:////home/training/Datos/\n"
     ]
    }
   ],
   "source": [
    "print(path)"
   ]
  },
  {
   "cell_type": "code",
   "execution_count": 83,
   "id": "0deca544",
   "metadata": {},
   "outputs": [],
   "source": [
    "spotify2 = spark.read.format('csv').option(\"header\", \"true\"). \\\n",
    "    option(\"inferSchema\", \"true\").load(path + \"Spotify\")"
   ]
  },
  {
   "cell_type": "code",
   "execution_count": 84,
   "id": "f53ef48a",
   "metadata": {},
   "outputs": [
    {
     "data": {
      "text/html": [
       "<table border='1'>\n",
       "<tr><th>Id</th><th>TrackName</th><th>ArtistName</th><th>Genre</th><th>BeatsPerMinute</th><th>Energy</th><th>Danceability</th><th>LoudnessDB</th><th>Liveness</th><th>Valence</th><th>Length</th><th>Acousticness</th><th>Speechiness</th><th>Popularity</th><th>Id</th><th>TrackName</th><th>ArtistName</th><th>Genre</th><th>BeatsPerMinute</th><th>Energy</th><th>Danceability</th><th>LoudnessDB</th><th>Liveness</th><th>Valence</th><th>Length</th><th>Acousticness</th><th>Speechiness</th><th>Popularity</th></tr>\n",
       "<tr><td>1</td><td>Señorita</td><td>Shawn Mendes</td><td>canadian pop</td><td>117</td><td>55</td><td>76</td><td>-6</td><td>8</td><td>75</td><td>191</td><td>4</td><td>3</td><td>79</td><td>1</td><td>Señorita</td><td>Shawn Mendes</td><td>canadian pop</td><td>117</td><td>55</td><td>76</td><td>-6</td><td>8</td><td>75</td><td>191</td><td>4</td><td>3</td><td>79</td></tr>\n",
       "<tr><td>2</td><td>China</td><td>Anuel AA</td><td>reggaeton flow</td><td>105</td><td>81</td><td>79</td><td>-4</td><td>8</td><td>61</td><td>302</td><td>8</td><td>9</td><td>92</td><td>2</td><td>China</td><td>Anuel AA</td><td>reggaeton flow</td><td>105</td><td>81</td><td>79</td><td>-4</td><td>8</td><td>61</td><td>302</td><td>8</td><td>9</td><td>92</td></tr>\n",
       "<tr><td>3</td><td>boyfriend (with S...</td><td>Ariana Grande</td><td>dance pop</td><td>190</td><td>80</td><td>40</td><td>-4</td><td>16</td><td>70</td><td>186</td><td>12</td><td>46</td><td>85</td><td>3</td><td>boyfriend (with S...</td><td>Ariana Grande</td><td>dance pop</td><td>190</td><td>80</td><td>40</td><td>-4</td><td>16</td><td>70</td><td>186</td><td>12</td><td>46</td><td>85</td></tr>\n",
       "<tr><td>4</td><td>Beautiful People ...</td><td>Ed Sheeran</td><td>pop</td><td>93</td><td>65</td><td>64</td><td>-8</td><td>8</td><td>55</td><td>198</td><td>12</td><td>19</td><td>86</td><td>4</td><td>Beautiful People ...</td><td>Ed Sheeran</td><td>pop</td><td>93</td><td>65</td><td>64</td><td>-8</td><td>8</td><td>55</td><td>198</td><td>12</td><td>19</td><td>86</td></tr>\n",
       "<tr><td>5</td><td>Goodbyes (Feat. Y...</td><td>Post Malone</td><td>dfw rap</td><td>150</td><td>65</td><td>58</td><td>-4</td><td>11</td><td>18</td><td>175</td><td>45</td><td>7</td><td>94</td><td>5</td><td>Goodbyes (Feat. Y...</td><td>Post Malone</td><td>dfw rap</td><td>150</td><td>65</td><td>58</td><td>-4</td><td>11</td><td>18</td><td>175</td><td>45</td><td>7</td><td>94</td></tr>\n",
       "<tr><td>6</td><td>I Don&#x27;t Care (wit...</td><td>Ed Sheeran</td><td>pop</td><td>102</td><td>68</td><td>80</td><td>-5</td><td>9</td><td>84</td><td>220</td><td>9</td><td>4</td><td>84</td><td>6</td><td>I Don&#x27;t Care (wit...</td><td>Ed Sheeran</td><td>pop</td><td>102</td><td>68</td><td>80</td><td>-5</td><td>9</td><td>84</td><td>220</td><td>9</td><td>4</td><td>84</td></tr>\n",
       "<tr><td>7</td><td>Ransom</td><td>Lil Tecca</td><td>trap music</td><td>180</td><td>64</td><td>75</td><td>-6</td><td>7</td><td>23</td><td>131</td><td>2</td><td>29</td><td>92</td><td>7</td><td>Ransom</td><td>Lil Tecca</td><td>trap music</td><td>180</td><td>64</td><td>75</td><td>-6</td><td>7</td><td>23</td><td>131</td><td>2</td><td>29</td><td>92</td></tr>\n",
       "<tr><td>8</td><td>How Do You Sleep?</td><td>Sam Smith</td><td>pop</td><td>111</td><td>68</td><td>48</td><td>-5</td><td>8</td><td>35</td><td>202</td><td>15</td><td>9</td><td>90</td><td>8</td><td>How Do You Sleep?</td><td>Sam Smith</td><td>pop</td><td>111</td><td>68</td><td>48</td><td>-5</td><td>8</td><td>35</td><td>202</td><td>15</td><td>9</td><td>90</td></tr>\n",
       "<tr><td>9</td><td>Old Town Road - R...</td><td>Lil Nas X</td><td>country rap</td><td>136</td><td>62</td><td>88</td><td>-6</td><td>11</td><td>64</td><td>157</td><td>5</td><td>10</td><td>87</td><td>9</td><td>Old Town Road - R...</td><td>Lil Nas X</td><td>country rap</td><td>136</td><td>62</td><td>88</td><td>-6</td><td>11</td><td>64</td><td>157</td><td>5</td><td>10</td><td>87</td></tr>\n",
       "<tr><td>10</td><td>bad guy</td><td>Billie Eilish</td><td>electropop</td><td>135</td><td>43</td><td>70</td><td>-11</td><td>10</td><td>56</td><td>194</td><td>33</td><td>38</td><td>95</td><td>10</td><td>bad guy</td><td>Billie Eilish</td><td>electropop</td><td>135</td><td>43</td><td>70</td><td>-11</td><td>10</td><td>56</td><td>194</td><td>33</td><td>38</td><td>95</td></tr>\n",
       "</table>\n",
       "only showing top 10 rows\n"
      ],
      "text/plain": [
       "+---+--------------------+-------------+--------------+--------------+------+------------+----------+--------+-------+------+------------+-----------+----------+---+--------------------+-------------+--------------+--------------+------+------------+----------+--------+-------+------+------------+-----------+----------+\n",
       "| Id|           TrackName|   ArtistName|         Genre|BeatsPerMinute|Energy|Danceability|LoudnessDB|Liveness|Valence|Length|Acousticness|Speechiness|Popularity| Id|           TrackName|   ArtistName|         Genre|BeatsPerMinute|Energy|Danceability|LoudnessDB|Liveness|Valence|Length|Acousticness|Speechiness|Popularity|\n",
       "+---+--------------------+-------------+--------------+--------------+------+------------+----------+--------+-------+------+------------+-----------+----------+---+--------------------+-------------+--------------+--------------+------+------------+----------+--------+-------+------+------------+-----------+----------+\n",
       "|  1|            Señorita| Shawn Mendes|  canadian pop|           117|    55|          76|        -6|       8|     75|   191|           4|          3|        79|  1|            Señorita| Shawn Mendes|  canadian pop|           117|    55|          76|        -6|       8|     75|   191|           4|          3|        79|\n",
       "|  2|               China|     Anuel AA|reggaeton flow|           105|    81|          79|        -4|       8|     61|   302|           8|          9|        92|  2|               China|     Anuel AA|reggaeton flow|           105|    81|          79|        -4|       8|     61|   302|           8|          9|        92|\n",
       "|  3|boyfriend (with S...|Ariana Grande|     dance pop|           190|    80|          40|        -4|      16|     70|   186|          12|         46|        85|  3|boyfriend (with S...|Ariana Grande|     dance pop|           190|    80|          40|        -4|      16|     70|   186|          12|         46|        85|\n",
       "|  4|Beautiful People ...|   Ed Sheeran|           pop|            93|    65|          64|        -8|       8|     55|   198|          12|         19|        86|  4|Beautiful People ...|   Ed Sheeran|           pop|            93|    65|          64|        -8|       8|     55|   198|          12|         19|        86|\n",
       "|  5|Goodbyes (Feat. Y...|  Post Malone|       dfw rap|           150|    65|          58|        -4|      11|     18|   175|          45|          7|        94|  5|Goodbyes (Feat. Y...|  Post Malone|       dfw rap|           150|    65|          58|        -4|      11|     18|   175|          45|          7|        94|\n",
       "|  6|I Don't Care (wit...|   Ed Sheeran|           pop|           102|    68|          80|        -5|       9|     84|   220|           9|          4|        84|  6|I Don't Care (wit...|   Ed Sheeran|           pop|           102|    68|          80|        -5|       9|     84|   220|           9|          4|        84|\n",
       "|  7|              Ransom|    Lil Tecca|    trap music|           180|    64|          75|        -6|       7|     23|   131|           2|         29|        92|  7|              Ransom|    Lil Tecca|    trap music|           180|    64|          75|        -6|       7|     23|   131|           2|         29|        92|\n",
       "|  8|   How Do You Sleep?|    Sam Smith|           pop|           111|    68|          48|        -5|       8|     35|   202|          15|          9|        90|  8|   How Do You Sleep?|    Sam Smith|           pop|           111|    68|          48|        -5|       8|     35|   202|          15|          9|        90|\n",
       "|  9|Old Town Road - R...|    Lil Nas X|   country rap|           136|    62|          88|        -6|      11|     64|   157|           5|         10|        87|  9|Old Town Road - R...|    Lil Nas X|   country rap|           136|    62|          88|        -6|      11|     64|   157|           5|         10|        87|\n",
       "| 10|             bad guy|Billie Eilish|    electropop|           135|    43|          70|       -11|      10|     56|   194|          33|         38|        95| 10|             bad guy|Billie Eilish|    electropop|           135|    43|          70|       -11|      10|     56|   194|          33|         38|        95|\n",
       "+---+--------------------+-------------+--------------+--------------+------+------------+----------+--------+-------+------+------------+-----------+----------+---+--------------------+-------------+--------------+--------------+------+------------+----------+--------+-------+------+------------+-----------+----------+\n",
       "only showing top 10 rows"
      ]
     },
     "execution_count": 84,
     "metadata": {},
     "output_type": "execute_result"
    }
   ],
   "source": [
    "df3.join(spotify2, df3['Id'] == spotify2['Id'], 'left')"
   ]
  },
  {
   "cell_type": "code",
   "execution_count": 85,
   "id": "62c03661",
   "metadata": {},
   "outputs": [
    {
     "data": {
      "text/html": [
       "<table border='1'>\n",
       "<tr><th>Id</th><th>TrackName</th><th>ArtistName</th><th>Genre</th><th>BeatsPerMinute</th><th>Energy</th><th>Danceability</th><th>LoudnessDB</th><th>Liveness</th><th>Valence</th><th>Length</th><th>Acousticness</th><th>Speechiness</th><th>Popularity</th></tr>\n",
       "<tr><td>1</td><td>Señorita</td><td>Shawn Mendes</td><td>canadian pop</td><td>117</td><td>55</td><td>76</td><td>-6</td><td>8</td><td>75</td><td>191</td><td>4</td><td>3</td><td>79</td></tr>\n",
       "<tr><td>2</td><td>China</td><td>Anuel AA</td><td>reggaeton flow</td><td>105</td><td>81</td><td>79</td><td>-4</td><td>8</td><td>61</td><td>302</td><td>8</td><td>9</td><td>92</td></tr>\n",
       "<tr><td>3</td><td>boyfriend (with S...</td><td>Ariana Grande</td><td>dance pop</td><td>190</td><td>80</td><td>40</td><td>-4</td><td>16</td><td>70</td><td>186</td><td>12</td><td>46</td><td>85</td></tr>\n",
       "<tr><td>4</td><td>Beautiful People ...</td><td>Ed Sheeran</td><td>pop</td><td>93</td><td>65</td><td>64</td><td>-8</td><td>8</td><td>55</td><td>198</td><td>12</td><td>19</td><td>86</td></tr>\n",
       "<tr><td>5</td><td>Goodbyes (Feat. Y...</td><td>Post Malone</td><td>dfw rap</td><td>150</td><td>65</td><td>58</td><td>-4</td><td>11</td><td>18</td><td>175</td><td>45</td><td>7</td><td>94</td></tr>\n",
       "<tr><td>6</td><td>I Don&#x27;t Care (wit...</td><td>Ed Sheeran</td><td>pop</td><td>102</td><td>68</td><td>80</td><td>-5</td><td>9</td><td>84</td><td>220</td><td>9</td><td>4</td><td>84</td></tr>\n",
       "<tr><td>7</td><td>Ransom</td><td>Lil Tecca</td><td>trap music</td><td>180</td><td>64</td><td>75</td><td>-6</td><td>7</td><td>23</td><td>131</td><td>2</td><td>29</td><td>92</td></tr>\n",
       "<tr><td>8</td><td>How Do You Sleep?</td><td>Sam Smith</td><td>pop</td><td>111</td><td>68</td><td>48</td><td>-5</td><td>8</td><td>35</td><td>202</td><td>15</td><td>9</td><td>90</td></tr>\n",
       "<tr><td>9</td><td>Old Town Road - R...</td><td>Lil Nas X</td><td>country rap</td><td>136</td><td>62</td><td>88</td><td>-6</td><td>11</td><td>64</td><td>157</td><td>5</td><td>10</td><td>87</td></tr>\n",
       "<tr><td>10</td><td>bad guy</td><td>Billie Eilish</td><td>electropop</td><td>135</td><td>43</td><td>70</td><td>-11</td><td>10</td><td>56</td><td>194</td><td>33</td><td>38</td><td>95</td></tr>\n",
       "</table>\n",
       "only showing top 10 rows\n"
      ],
      "text/plain": [
       "+---+--------------------+-------------+--------------+--------------+------+------------+----------+--------+-------+------+------------+-----------+----------+\n",
       "| Id|           TrackName|   ArtistName|         Genre|BeatsPerMinute|Energy|Danceability|LoudnessDB|Liveness|Valence|Length|Acousticness|Speechiness|Popularity|\n",
       "+---+--------------------+-------------+--------------+--------------+------+------------+----------+--------+-------+------+------------+-----------+----------+\n",
       "|  1|            Señorita| Shawn Mendes|  canadian pop|           117|    55|          76|        -6|       8|     75|   191|           4|          3|        79|\n",
       "|  2|               China|     Anuel AA|reggaeton flow|           105|    81|          79|        -4|       8|     61|   302|           8|          9|        92|\n",
       "|  3|boyfriend (with S...|Ariana Grande|     dance pop|           190|    80|          40|        -4|      16|     70|   186|          12|         46|        85|\n",
       "|  4|Beautiful People ...|   Ed Sheeran|           pop|            93|    65|          64|        -8|       8|     55|   198|          12|         19|        86|\n",
       "|  5|Goodbyes (Feat. Y...|  Post Malone|       dfw rap|           150|    65|          58|        -4|      11|     18|   175|          45|          7|        94|\n",
       "|  6|I Don't Care (wit...|   Ed Sheeran|           pop|           102|    68|          80|        -5|       9|     84|   220|           9|          4|        84|\n",
       "|  7|              Ransom|    Lil Tecca|    trap music|           180|    64|          75|        -6|       7|     23|   131|           2|         29|        92|\n",
       "|  8|   How Do You Sleep?|    Sam Smith|           pop|           111|    68|          48|        -5|       8|     35|   202|          15|          9|        90|\n",
       "|  9|Old Town Road - R...|    Lil Nas X|   country rap|           136|    62|          88|        -6|      11|     64|   157|           5|         10|        87|\n",
       "| 10|             bad guy|Billie Eilish|    electropop|           135|    43|          70|       -11|      10|     56|   194|          33|         38|        95|\n",
       "+---+--------------------+-------------+--------------+--------------+------+------------+----------+--------+-------+------+------------+-----------+----------+\n",
       "only showing top 10 rows"
      ]
     },
     "execution_count": 85,
     "metadata": {},
     "output_type": "execute_result"
    }
   ],
   "source": [
    "spotify2"
   ]
  },
  {
   "cell_type": "code",
   "execution_count": 86,
   "id": "7811cd4a",
   "metadata": {},
   "outputs": [
    {
     "data": {
      "text/html": [
       "<table border='1'>\n",
       "<tr><th>Id</th><th>TrackName</th><th>ArtistName</th><th>Genre</th><th>BeatsPerMinute</th><th>Energy</th><th>Danceability</th><th>LoudnessDB</th><th>Liveness</th><th>Valence</th><th>Length</th><th>Acousticness</th><th>Speechiness</th><th>Popularity</th><th>Id</th><th>TrackName</th><th>ArtistName</th><th>Genre</th><th>BeatsPerMinute</th><th>Energy</th><th>Danceability</th><th>LoudnessDB</th><th>Liveness</th><th>Valence</th><th>Length</th><th>Acousticness</th><th>Speechiness</th><th>Popularity</th></tr>\n",
       "<tr><td>1</td><td>Señorita</td><td>Shawn Mendes</td><td>canadian pop</td><td>117</td><td>55</td><td>76</td><td>-6</td><td>8</td><td>75</td><td>191</td><td>4</td><td>3</td><td>79</td><td>1</td><td>Señorita</td><td>Shawn Mendes</td><td>canadian pop</td><td>117</td><td>55</td><td>76</td><td>-6</td><td>8</td><td>75</td><td>191</td><td>4</td><td>3</td><td>79</td></tr>\n",
       "<tr><td>2</td><td>China</td><td>Anuel AA</td><td>reggaeton flow</td><td>105</td><td>81</td><td>79</td><td>-4</td><td>8</td><td>61</td><td>302</td><td>8</td><td>9</td><td>92</td><td>2</td><td>China</td><td>Anuel AA</td><td>reggaeton flow</td><td>105</td><td>81</td><td>79</td><td>-4</td><td>8</td><td>61</td><td>302</td><td>8</td><td>9</td><td>92</td></tr>\n",
       "<tr><td>3</td><td>boyfriend (with S...</td><td>Ariana Grande</td><td>dance pop</td><td>190</td><td>80</td><td>40</td><td>-4</td><td>16</td><td>70</td><td>186</td><td>12</td><td>46</td><td>85</td><td>3</td><td>boyfriend (with S...</td><td>Ariana Grande</td><td>dance pop</td><td>190</td><td>80</td><td>40</td><td>-4</td><td>16</td><td>70</td><td>186</td><td>12</td><td>46</td><td>85</td></tr>\n",
       "<tr><td>4</td><td>Beautiful People ...</td><td>Ed Sheeran</td><td>pop</td><td>93</td><td>65</td><td>64</td><td>-8</td><td>8</td><td>55</td><td>198</td><td>12</td><td>19</td><td>86</td><td>4</td><td>Beautiful People ...</td><td>Ed Sheeran</td><td>pop</td><td>93</td><td>65</td><td>64</td><td>-8</td><td>8</td><td>55</td><td>198</td><td>12</td><td>19</td><td>86</td></tr>\n",
       "<tr><td>5</td><td>Goodbyes (Feat. Y...</td><td>Post Malone</td><td>dfw rap</td><td>150</td><td>65</td><td>58</td><td>-4</td><td>11</td><td>18</td><td>175</td><td>45</td><td>7</td><td>94</td><td>5</td><td>Goodbyes (Feat. Y...</td><td>Post Malone</td><td>dfw rap</td><td>150</td><td>65</td><td>58</td><td>-4</td><td>11</td><td>18</td><td>175</td><td>45</td><td>7</td><td>94</td></tr>\n",
       "<tr><td>6</td><td>I Don&#x27;t Care (wit...</td><td>Ed Sheeran</td><td>pop</td><td>102</td><td>68</td><td>80</td><td>-5</td><td>9</td><td>84</td><td>220</td><td>9</td><td>4</td><td>84</td><td>6</td><td>I Don&#x27;t Care (wit...</td><td>Ed Sheeran</td><td>pop</td><td>102</td><td>68</td><td>80</td><td>-5</td><td>9</td><td>84</td><td>220</td><td>9</td><td>4</td><td>84</td></tr>\n",
       "<tr><td>7</td><td>Ransom</td><td>Lil Tecca</td><td>trap music</td><td>180</td><td>64</td><td>75</td><td>-6</td><td>7</td><td>23</td><td>131</td><td>2</td><td>29</td><td>92</td><td>7</td><td>Ransom</td><td>Lil Tecca</td><td>trap music</td><td>180</td><td>64</td><td>75</td><td>-6</td><td>7</td><td>23</td><td>131</td><td>2</td><td>29</td><td>92</td></tr>\n",
       "<tr><td>8</td><td>How Do You Sleep?</td><td>Sam Smith</td><td>pop</td><td>111</td><td>68</td><td>48</td><td>-5</td><td>8</td><td>35</td><td>202</td><td>15</td><td>9</td><td>90</td><td>8</td><td>How Do You Sleep?</td><td>Sam Smith</td><td>pop</td><td>111</td><td>68</td><td>48</td><td>-5</td><td>8</td><td>35</td><td>202</td><td>15</td><td>9</td><td>90</td></tr>\n",
       "<tr><td>9</td><td>Old Town Road - R...</td><td>Lil Nas X</td><td>country rap</td><td>136</td><td>62</td><td>88</td><td>-6</td><td>11</td><td>64</td><td>157</td><td>5</td><td>10</td><td>87</td><td>9</td><td>Old Town Road - R...</td><td>Lil Nas X</td><td>country rap</td><td>136</td><td>62</td><td>88</td><td>-6</td><td>11</td><td>64</td><td>157</td><td>5</td><td>10</td><td>87</td></tr>\n",
       "<tr><td>10</td><td>bad guy</td><td>Billie Eilish</td><td>electropop</td><td>135</td><td>43</td><td>70</td><td>-11</td><td>10</td><td>56</td><td>194</td><td>33</td><td>38</td><td>95</td><td>10</td><td>bad guy</td><td>Billie Eilish</td><td>electropop</td><td>135</td><td>43</td><td>70</td><td>-11</td><td>10</td><td>56</td><td>194</td><td>33</td><td>38</td><td>95</td></tr>\n",
       "</table>\n",
       "only showing top 10 rows\n"
      ],
      "text/plain": [
       "+---+--------------------+-------------+--------------+--------------+------+------------+----------+--------+-------+------+------------+-----------+----------+---+--------------------+-------------+--------------+--------------+------+------------+----------+--------+-------+------+------------+-----------+----------+\n",
       "| Id|           TrackName|   ArtistName|         Genre|BeatsPerMinute|Energy|Danceability|LoudnessDB|Liveness|Valence|Length|Acousticness|Speechiness|Popularity| Id|           TrackName|   ArtistName|         Genre|BeatsPerMinute|Energy|Danceability|LoudnessDB|Liveness|Valence|Length|Acousticness|Speechiness|Popularity|\n",
       "+---+--------------------+-------------+--------------+--------------+------+------------+----------+--------+-------+------+------------+-----------+----------+---+--------------------+-------------+--------------+--------------+------+------------+----------+--------+-------+------+------------+-----------+----------+\n",
       "|  1|            Señorita| Shawn Mendes|  canadian pop|           117|    55|          76|        -6|       8|     75|   191|           4|          3|        79|  1|            Señorita| Shawn Mendes|  canadian pop|           117|    55|          76|        -6|       8|     75|   191|           4|          3|        79|\n",
       "|  2|               China|     Anuel AA|reggaeton flow|           105|    81|          79|        -4|       8|     61|   302|           8|          9|        92|  2|               China|     Anuel AA|reggaeton flow|           105|    81|          79|        -4|       8|     61|   302|           8|          9|        92|\n",
       "|  3|boyfriend (with S...|Ariana Grande|     dance pop|           190|    80|          40|        -4|      16|     70|   186|          12|         46|        85|  3|boyfriend (with S...|Ariana Grande|     dance pop|           190|    80|          40|        -4|      16|     70|   186|          12|         46|        85|\n",
       "|  4|Beautiful People ...|   Ed Sheeran|           pop|            93|    65|          64|        -8|       8|     55|   198|          12|         19|        86|  4|Beautiful People ...|   Ed Sheeran|           pop|            93|    65|          64|        -8|       8|     55|   198|          12|         19|        86|\n",
       "|  5|Goodbyes (Feat. Y...|  Post Malone|       dfw rap|           150|    65|          58|        -4|      11|     18|   175|          45|          7|        94|  5|Goodbyes (Feat. Y...|  Post Malone|       dfw rap|           150|    65|          58|        -4|      11|     18|   175|          45|          7|        94|\n",
       "|  6|I Don't Care (wit...|   Ed Sheeran|           pop|           102|    68|          80|        -5|       9|     84|   220|           9|          4|        84|  6|I Don't Care (wit...|   Ed Sheeran|           pop|           102|    68|          80|        -5|       9|     84|   220|           9|          4|        84|\n",
       "|  7|              Ransom|    Lil Tecca|    trap music|           180|    64|          75|        -6|       7|     23|   131|           2|         29|        92|  7|              Ransom|    Lil Tecca|    trap music|           180|    64|          75|        -6|       7|     23|   131|           2|         29|        92|\n",
       "|  8|   How Do You Sleep?|    Sam Smith|           pop|           111|    68|          48|        -5|       8|     35|   202|          15|          9|        90|  8|   How Do You Sleep?|    Sam Smith|           pop|           111|    68|          48|        -5|       8|     35|   202|          15|          9|        90|\n",
       "|  9|Old Town Road - R...|    Lil Nas X|   country rap|           136|    62|          88|        -6|      11|     64|   157|           5|         10|        87|  9|Old Town Road - R...|    Lil Nas X|   country rap|           136|    62|          88|        -6|      11|     64|   157|           5|         10|        87|\n",
       "| 10|             bad guy|Billie Eilish|    electropop|           135|    43|          70|       -11|      10|     56|   194|          33|         38|        95| 10|             bad guy|Billie Eilish|    electropop|           135|    43|          70|       -11|      10|     56|   194|          33|         38|        95|\n",
       "+---+--------------------+-------------+--------------+--------------+------+------------+----------+--------+-------+------+------------+-----------+----------+---+--------------------+-------------+--------------+--------------+------+------------+----------+--------+-------+------+------------+-----------+----------+\n",
       "only showing top 10 rows"
      ]
     },
     "execution_count": 86,
     "metadata": {},
     "output_type": "execute_result"
    }
   ],
   "source": [
    "df3.join(spotify2, df3['Id'] == spotify2['Id'])"
   ]
  },
  {
   "cell_type": "markdown",
   "id": "7a118684",
   "metadata": {},
   "source": [
    "# Creacion de funciones UDF"
   ]
  },
  {
   "cell_type": "code",
   "execution_count": 87,
   "id": "1861199c",
   "metadata": {},
   "outputs": [],
   "source": [
    "def potencia3(x):\n",
    "    return x ** 3;"
   ]
  },
  {
   "cell_type": "code",
   "execution_count": 88,
   "id": "debe397e",
   "metadata": {},
   "outputs": [
    {
     "data": {
      "text/plain": [
       "8"
      ]
     },
     "execution_count": 88,
     "metadata": {},
     "output_type": "execute_result"
    }
   ],
   "source": [
    "potencia3(2)"
   ]
  },
  {
   "cell_type": "code",
   "execution_count": 89,
   "id": "ea764bba",
   "metadata": {},
   "outputs": [],
   "source": [
    "from pyspark.sql.functions import udf"
   ]
  },
  {
   "cell_type": "code",
   "execution_count": 90,
   "id": "c4b6d48e",
   "metadata": {},
   "outputs": [],
   "source": [
    "potencia3udf = udf(potencia3)"
   ]
  },
  {
   "cell_type": "code",
   "execution_count": 91,
   "id": "87c52b91",
   "metadata": {},
   "outputs": [
    {
     "name": "stderr",
     "output_type": "stream",
     "text": [
      "                                                                                \r"
     ]
    },
    {
     "data": {
      "text/html": [
       "<table border='1'>\n",
       "<tr><th>Energy</th><th>EnergyCubo</th></tr>\n",
       "<tr><td>55</td><td>166375</td></tr>\n",
       "<tr><td>81</td><td>531441</td></tr>\n",
       "<tr><td>80</td><td>512000</td></tr>\n",
       "<tr><td>65</td><td>274625</td></tr>\n",
       "<tr><td>65</td><td>274625</td></tr>\n",
       "<tr><td>68</td><td>314432</td></tr>\n",
       "<tr><td>64</td><td>262144</td></tr>\n",
       "<tr><td>68</td><td>314432</td></tr>\n",
       "<tr><td>62</td><td>238328</td></tr>\n",
       "<tr><td>43</td><td>79507</td></tr>\n",
       "</table>\n",
       "only showing top 10 rows\n"
      ],
      "text/plain": [
       "+------+----------+\n",
       "|Energy|EnergyCubo|\n",
       "+------+----------+\n",
       "|    55|    166375|\n",
       "|    81|    531441|\n",
       "|    80|    512000|\n",
       "|    65|    274625|\n",
       "|    65|    274625|\n",
       "|    68|    314432|\n",
       "|    64|    262144|\n",
       "|    68|    314432|\n",
       "|    62|    238328|\n",
       "|    43|     79507|\n",
       "+------+----------+\n",
       "only showing top 10 rows"
      ]
     },
     "execution_count": 91,
     "metadata": {},
     "output_type": "execute_result"
    }
   ],
   "source": [
    "df3.select(col('Energy'), potencia3udf(col('Energy')).alias('EnergyCubo'))"
   ]
  },
  {
   "cell_type": "markdown",
   "id": "2bd4f8c7",
   "metadata": {},
   "source": [
    "# Crear una tabla temporal"
   ]
  },
  {
   "cell_type": "code",
   "execution_count": 92,
   "id": "483d1acd",
   "metadata": {},
   "outputs": [],
   "source": [
    "df3.createOrReplaceTempView('Canciones')"
   ]
  },
  {
   "cell_type": "code",
   "execution_count": 93,
   "id": "dc172f4b",
   "metadata": {},
   "outputs": [],
   "source": [
    "df4 = spark.sql(\"\"\"\n",
    "    select TrackName, Genre\n",
    "    from Canciones\n",
    "\"\"\")"
   ]
  },
  {
   "cell_type": "code",
   "execution_count": 95,
   "id": "53ca4676",
   "metadata": {},
   "outputs": [
    {
     "name": "stdout",
     "output_type": "stream",
     "text": [
      "+---------------------------------------------+----------------+\n",
      "|TrackName                                    |Genre           |\n",
      "+---------------------------------------------+----------------+\n",
      "|Señorita                                     |canadian pop    |\n",
      "|China                                        |reggaeton flow  |\n",
      "|boyfriend (with Social House)                |dance pop       |\n",
      "|Beautiful People (feat. Khalid)              |pop             |\n",
      "|Goodbyes (Feat. Young Thug)                  |dfw rap         |\n",
      "|I Don't Care (with Justin Bieber)            |pop             |\n",
      "|Ransom                                       |trap music      |\n",
      "|How Do You Sleep?                            |pop             |\n",
      "|Old Town Road - Remix                        |country rap     |\n",
      "|bad guy                                      |electropop      |\n",
      "|Callaita                                     |reggaeton       |\n",
      "|Loco Contigo (feat. J. Balvin & Tyga)        |dance pop       |\n",
      "|Someone You Loved                            |pop             |\n",
      "|Otro Trago - Remix                           |panamanian pop  |\n",
      "|Money In The Grave (Drake ft. Rick Ross)     |canadian hip hop|\n",
      "|No Guidance (feat. Drake)                    |dance pop       |\n",
      "|LA CANCIÓN                                   |latin           |\n",
      "|Sunflower - Spider-Man: Into the Spider-Verse|dfw rap         |\n",
      "|Lalala                                       |canadian hip hop|\n",
      "|Truth Hurts                                  |escape room     |\n",
      "+---------------------------------------------+----------------+\n",
      "only showing top 20 rows\n",
      "\n"
     ]
    }
   ],
   "source": [
    "df4.show(truncate = False)"
   ]
  },
  {
   "cell_type": "code",
   "execution_count": 96,
   "id": "95c727c1",
   "metadata": {},
   "outputs": [],
   "source": [
    "df5 = spark.sql(\"\"\"\n",
    "    select Trackname, Genre\n",
    "    from Canciones\n",
    "    where Genre like 'reggaeton%'\n",
    "    or Genre like 'panamanian%'\n",
    "    order by artistName asc\n",
    "\"\"\")"
   ]
  },
  {
   "cell_type": "code",
   "execution_count": 97,
   "id": "223d6a81",
   "metadata": {
    "scrolled": true
   },
   "outputs": [
    {
     "data": {
      "text/html": [
       "<table border='1'>\n",
       "<tr><th>Trackname</th><th>Genre</th></tr>\n",
       "<tr><td>China</td><td>reggaeton flow</td></tr>\n",
       "<tr><td>Callaita</td><td>reggaeton</td></tr>\n",
       "<tr><td>No Me Conoce - Remix</td><td>reggaeton flow</td></tr>\n",
       "<tr><td>0.958333333333333</td><td>reggaeton</td></tr>\n",
       "<tr><td>Otro Trago - Remix</td><td>panamanian pop</td></tr>\n",
       "<tr><td>Otro Trago</td><td>panamanian pop</td></tr>\n",
       "</table>\n"
      ],
      "text/plain": [
       "+--------------------+--------------+\n",
       "|           Trackname|         Genre|\n",
       "+--------------------+--------------+\n",
       "|               China|reggaeton flow|\n",
       "|            Callaita|     reggaeton|\n",
       "|No Me Conoce - Remix|reggaeton flow|\n",
       "|   0.958333333333333|     reggaeton|\n",
       "|  Otro Trago - Remix|panamanian pop|\n",
       "|          Otro Trago|panamanian pop|\n",
       "+--------------------+--------------+"
      ]
     },
     "execution_count": 97,
     "metadata": {},
     "output_type": "execute_result"
    }
   ],
   "source": [
    "df5"
   ]
  },
  {
   "cell_type": "markdown",
   "id": "b1144137",
   "metadata": {},
   "source": [
    "#### Guardar a csv"
   ]
  },
  {
   "cell_type": "code",
   "execution_count": 100,
   "id": "de04f0a8",
   "metadata": {},
   "outputs": [],
   "source": [
    "df4.write.format('csv').mode('overwrite') \\\n",
    "    .save(\"file:////home/training/output_Data/spotifyCsv\")"
   ]
  },
  {
   "cell_type": "code",
   "execution_count": 103,
   "id": "3178206f",
   "metadata": {},
   "outputs": [
    {
     "data": {
      "text/html": [
       "<table border='1'>\n",
       "<tr><th>_c0</th><th>_c1</th></tr>\n",
       "<tr><td>Señorita</td><td>canadian pop</td></tr>\n",
       "<tr><td>China</td><td>reggaeton flow</td></tr>\n",
       "<tr><td>boyfriend (with S...</td><td>dance pop</td></tr>\n",
       "<tr><td>Beautiful People ...</td><td>pop</td></tr>\n",
       "<tr><td>Goodbyes (Feat. Y...</td><td>dfw rap</td></tr>\n",
       "<tr><td>I Don&#x27;t Care (wit...</td><td>pop</td></tr>\n",
       "<tr><td>Ransom</td><td>trap music</td></tr>\n",
       "<tr><td>How Do You Sleep?</td><td>pop</td></tr>\n",
       "<tr><td>Old Town Road - R...</td><td>country rap</td></tr>\n",
       "<tr><td>bad guy</td><td>electropop</td></tr>\n",
       "</table>\n",
       "only showing top 10 rows\n"
      ],
      "text/plain": [
       "+--------------------+--------------+\n",
       "|                 _c0|           _c1|\n",
       "+--------------------+--------------+\n",
       "|            Señorita|  canadian pop|\n",
       "|               China|reggaeton flow|\n",
       "|boyfriend (with S...|     dance pop|\n",
       "|Beautiful People ...|           pop|\n",
       "|Goodbyes (Feat. Y...|       dfw rap|\n",
       "|I Don't Care (wit...|           pop|\n",
       "|              Ransom|    trap music|\n",
       "|   How Do You Sleep?|           pop|\n",
       "|Old Town Road - R...|   country rap|\n",
       "|             bad guy|    electropop|\n",
       "+--------------------+--------------+\n",
       "only showing top 10 rows"
      ]
     },
     "execution_count": 103,
     "metadata": {},
     "output_type": "execute_result"
    }
   ],
   "source": [
    "dfdesdedisco = spark.read.format('csv').load(\"file:////home/training/output_Data/spotifyCsv\")\n",
    "dfdesdedisco"
   ]
  },
  {
   "cell_type": "markdown",
   "id": "46556ebb",
   "metadata": {},
   "source": [
    "### Guardar un Dataframe en Data lake en formato Parquet para leerlo de nuevo"
   ]
  },
  {
   "cell_type": "code",
   "execution_count": null,
   "id": "53bb1f43",
   "metadata": {},
   "outputs": [],
   "source": [
    "df5.write.format('parquet').mode('overwrite') \\\n",
    "    .save(\"file:////home/training/output_Data/spotifyParquet\")"
   ]
  },
  {
   "cell_type": "code",
   "execution_count": 104,
   "id": "c59812cb",
   "metadata": {},
   "outputs": [
    {
     "data": {
      "text/html": [
       "<table border='1'>\n",
       "<tr><th>Trackname</th><th>Genre</th></tr>\n",
       "<tr><td>China</td><td>reggaeton flow</td></tr>\n",
       "<tr><td>Callaita</td><td>reggaeton</td></tr>\n",
       "<tr><td>No Me Conoce - Remix</td><td>reggaeton flow</td></tr>\n",
       "<tr><td>0.958333333333333</td><td>reggaeton</td></tr>\n",
       "<tr><td>Otro Trago - Remix</td><td>panamanian pop</td></tr>\n",
       "<tr><td>Otro Trago</td><td>panamanian pop</td></tr>\n",
       "</table>\n"
      ],
      "text/plain": [
       "DataFrame[Trackname: string, Genre: string]"
      ]
     },
     "execution_count": 104,
     "metadata": {},
     "output_type": "execute_result"
    }
   ],
   "source": [
    "df5"
   ]
  },
  {
   "cell_type": "code",
   "execution_count": null,
   "id": "7145e667",
   "metadata": {},
   "outputs": [],
   "source": []
  },
  {
   "cell_type": "code",
   "execution_count": null,
   "id": "783b2afd",
   "metadata": {},
   "outputs": [],
   "source": []
  },
  {
   "cell_type": "code",
   "execution_count": null,
   "id": "159e577b",
   "metadata": {},
   "outputs": [],
   "source": []
  },
  {
   "cell_type": "code",
   "execution_count": null,
   "id": "5491802c",
   "metadata": {},
   "outputs": [],
   "source": []
  }
 ],
 "metadata": {
  "kernelspec": {
   "display_name": "Python 3 (ipykernel)",
   "language": "python",
   "name": "python3"
  },
  "language_info": {
   "codemirror_mode": {
    "name": "ipython",
    "version": 3
   },
   "file_extension": ".py",
   "mimetype": "text/x-python",
   "name": "python",
   "nbconvert_exporter": "python",
   "pygments_lexer": "ipython3",
   "version": "3.9.7"
  }
 },
 "nbformat": 4,
 "nbformat_minor": 5
}
